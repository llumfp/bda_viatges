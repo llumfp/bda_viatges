{
  "nbformat": 4,
  "nbformat_minor": 0,
  "metadata": {
    "colab": {
      "provenance": []
    },
    "kernelspec": {
      "name": "python3",
      "display_name": "Python 3"
    },
    "language_info": {
      "name": "python"
    }
  },
  "cells": [
    {
      "cell_type": "code",
      "execution_count": 1,
      "metadata": {
        "colab": {
          "base_uri": "https://localhost:8080/"
        },
        "id": "wjviIOKh0WTc",
        "outputId": "dc953f7a-6d64-4106-9768-f9c15b685724"
      },
      "outputs": [
        {
          "output_type": "stream",
          "name": "stdout",
          "text": [
            "Requirement already satisfied: duckdb in /usr/local/lib/python3.10/dist-packages (0.10.1)\n",
            "Requirement already satisfied: pandas in /usr/local/lib/python3.10/dist-packages (2.2.1)\n",
            "Requirement already satisfied: numpy<2,>=1.22.4 in /usr/local/lib/python3.10/dist-packages (from pandas) (1.25.2)\n",
            "Requirement already satisfied: python-dateutil>=2.8.2 in /usr/local/lib/python3.10/dist-packages (from pandas) (2.8.2)\n",
            "Requirement already satisfied: pytz>=2020.1 in /usr/local/lib/python3.10/dist-packages (from pandas) (2023.4)\n",
            "Requirement already satisfied: tzdata>=2022.7 in /usr/local/lib/python3.10/dist-packages (from pandas) (2024.1)\n",
            "Requirement already satisfied: six>=1.5 in /usr/local/lib/python3.10/dist-packages (from python-dateutil>=2.8.2->pandas) (1.16.0)\n"
          ]
        }
      ],
      "source": [
        "!pip install --upgrade duckdb pandas"
      ]
    },
    {
      "cell_type": "code",
      "source": [
        "# We should have the same version of duckdb to load the database without any problem:\n",
        "!pip show duckdb"
      ],
      "metadata": {
        "colab": {
          "base_uri": "https://localhost:8080/"
        },
        "id": "MBsAfCdF3DQK",
        "outputId": "e3f63f3e-7904-4d02-cbf4-babcd697e229"
      },
      "execution_count": 6,
      "outputs": [
        {
          "output_type": "stream",
          "name": "stdout",
          "text": [
            "Name: duckdb\n",
            "Version: 0.10.1\n",
            "Summary: DuckDB in-process database\n",
            "Home-page: https://www.duckdb.org\n",
            "Author: \n",
            "Author-email: \n",
            "License: MIT\n",
            "Location: /usr/local/lib/python3.10/dist-packages\n",
            "Requires: \n",
            "Required-by: malloy\n"
          ]
        }
      ]
    },
    {
      "cell_type": "code",
      "source": [
        "import duckdb\n",
        "import pandas as pd\n",
        "\n",
        "# Reemplaza '/ruta/a/mi_base_de_datos.duckdb' con la ruta correcta al archivo de tu base de datos\n",
        "path_to_db = 'database.duckdb'\n",
        "\n",
        "# Conectarse a la base de datos DuckDB\n",
        "con = duckdb.connect(database=path_to_db)"
      ],
      "metadata": {
        "id": "yx0PYBh12-Ox"
      },
      "execution_count": null,
      "outputs": []
    },
    {
      "cell_type": "code",
      "source": [
        "# Realizar una consulta y cargar los resultados en un DataFrame de Pandas\n",
        "query = \"SELECT * FROM airbnb\"  # Asegúrate de cambiar 'mi_tabla' por el nombre real de tu tabla\n",
        "df = con.execute(query).df()\n",
        "\n",
        "print(df)"
      ],
      "metadata": {
        "colab": {
          "base_uri": "https://localhost:8080/"
        },
        "id": "loXuug1I0mEo",
        "outputId": "2c140c1f-f3d5-4021-d257-30d7b30f2764"
      },
      "execution_count": 5,
      "outputs": [
        {
          "output_type": "stream",
          "name": "stdout",
          "text": [
            "           realSum        room_type  room_shared  room_private  \\\n",
            "0       194.033698     Private room        False          True   \n",
            "1       344.245776     Private room        False          True   \n",
            "2       264.101422     Private room        False          True   \n",
            "3       433.529398     Private room        False          True   \n",
            "4       485.552926     Private room        False          True   \n",
            "...            ...              ...          ...           ...   \n",
            "51702  1035.066676     Private room        False          True   \n",
            "51703   181.095510     Private room        False          True   \n",
            "51704   420.517886  Entire home/apt        False         False   \n",
            "51705   217.314612     Private room        False          True   \n",
            "51706   489.193067  Entire home/apt        False         False   \n",
            "\n",
            "       person_capacity  host_is_superhost  multi  biz  cleanliness_rating  \\\n",
            "0                  2.0              False      1    0                10.0   \n",
            "1                  4.0              False      0    0                 8.0   \n",
            "2                  2.0              False      0    1                 9.0   \n",
            "3                  4.0              False      0    1                 9.0   \n",
            "4                  2.0               True      0    0                10.0   \n",
            "...                ...                ...    ...  ...                 ...   \n",
            "51702              2.0              False      0    1                10.0   \n",
            "51703              2.0              False      1    0                10.0   \n",
            "51704              2.0              False      0    0                10.0   \n",
            "51705              2.0              False      0    0                10.0   \n",
            "51706              2.0              False      0    0                 9.0   \n",
            "\n",
            "       guest_satisfaction_overall  ...      dist  metro_dist  attr_index  \\\n",
            "0                            93.0  ...  5.022964    2.539380   78.690379   \n",
            "1                            85.0  ...  0.488389    0.239404  631.176378   \n",
            "2                            87.0  ...  5.748312    3.651621   75.275877   \n",
            "3                            90.0  ...  0.384862    0.439876  493.272534   \n",
            "4                            98.0  ...  0.544738    0.318693  552.830324   \n",
            "...                           ...  ...       ...         ...         ...   \n",
            "51702                       100.0  ...  5.155373    0.883829  271.191201   \n",
            "51703                       100.0  ...  5.072177    0.344055  268.165870   \n",
            "51704                        98.0  ...  6.709982    0.926188  181.892001   \n",
            "51705                        94.0  ...  6.736940    0.353634  184.278328   \n",
            "51706                        92.0  ...  4.174953    0.610443  434.954210   \n",
            "\n",
            "       attr_index_norm  rest_index  rest_index_norm      lng       lat  \\\n",
            "0             4.166708   98.253896         6.846473  4.90569  52.41772   \n",
            "1            33.421209  837.280757        58.342928  4.90005  52.37432   \n",
            "2             3.985908   95.386955         6.646700  4.97512  52.36103   \n",
            "3            26.119108  875.033098        60.973565  4.89417  52.37663   \n",
            "4            29.272733  815.305740        56.811677  4.90051  52.37508   \n",
            "...                ...         ...              ...      ...       ...   \n",
            "51702        18.851558  528.042180         9.451035 -0.05357  51.51255   \n",
            "51703        18.641255  554.906232         9.931855 -0.05620  51.51823   \n",
            "51704        12.644022  395.397885         7.076933 -0.22172  51.52180   \n",
            "51705        12.809905  471.029678         8.430610 -0.22286  51.49715   \n",
            "51706        30.235363  697.673227        12.487135 -0.06739  51.50889   \n",
            "\n",
            "            city  day_type  \n",
            "0      Amsterdam  Weekdays  \n",
            "1      Amsterdam  Weekdays  \n",
            "2      Amsterdam  Weekdays  \n",
            "3      Amsterdam  Weekdays  \n",
            "4      Amsterdam  Weekdays  \n",
            "...          ...       ...  \n",
            "51702     London  Weekends  \n",
            "51703     London  Weekends  \n",
            "51704     London  Weekends  \n",
            "51705     London  Weekends  \n",
            "51706     London  Weekends  \n",
            "\n",
            "[51707 rows x 21 columns]\n"
          ]
        }
      ]
    }
  ]
}