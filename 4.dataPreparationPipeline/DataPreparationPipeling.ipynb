{
  "cells": [
    {
      "cell_type": "code",
      "execution_count": 1,
      "metadata": {
        "colab": {
          "base_uri": "https://localhost:8080/"
        },
        "id": "Am8aKOAw3NBB",
        "outputId": "aaa58aad-68d8-41d7-d8ee-6e42c8e4eedd"
      },
      "outputs": [
        {
          "name": "stdout",
          "output_type": "stream",
          "text": [
            "Collecting pyspark\n",
            "  Downloading pyspark-3.5.1.tar.gz (317.0 MB)\n",
            "\u001b[2K     \u001b[90m━━━━━━━━━━━━━━━━━━━━━━━━━━━━━━━━━━━━━━━━\u001b[0m \u001b[32m317.0/317.0 MB\u001b[0m \u001b[31m3.9 MB/s\u001b[0m eta \u001b[36m0:00:00\u001b[0m\n",
            "\u001b[?25h  Preparing metadata (setup.py) ... \u001b[?25l\u001b[?25hdone\n",
            "Requirement already satisfied: duckdb in /usr/local/lib/python3.10/dist-packages (0.10.2)\n",
            "Requirement already satisfied: py4j==0.10.9.7 in /usr/local/lib/python3.10/dist-packages (from pyspark) (0.10.9.7)\n",
            "Building wheels for collected packages: pyspark\n",
            "  Building wheel for pyspark (setup.py) ... \u001b[?25l\u001b[?25hdone\n",
            "  Created wheel for pyspark: filename=pyspark-3.5.1-py2.py3-none-any.whl size=317488491 sha256=ea575f322779c07662f2834f5d77942a373674a21ed5a49856c49c2af3aec65e\n",
            "  Stored in directory: /root/.cache/pip/wheels/80/1d/60/2c256ed38dddce2fdd93be545214a63e02fbd8d74fb0b7f3a6\n",
            "Successfully built pyspark\n",
            "Installing collected packages: pyspark\n",
            "Successfully installed pyspark-3.5.1\n",
            "--2024-04-25 16:00:06--  https://repo1.maven.org/maven2/org/duckdb/duckdb_jdbc/0.10.1/duckdb_jdbc-0.10.1.jar\n",
            "Resolving repo1.maven.org (repo1.maven.org)... 199.232.192.209, 199.232.196.209, 2a04:4e42:4c::209, ...\n",
            "Connecting to repo1.maven.org (repo1.maven.org)|199.232.192.209|:443... connected.\n",
            "HTTP request sent, awaiting response... 200 OK\n",
            "Length: 64009472 (61M) [application/java-archive]\n",
            "Saving to: ‘duckdb.jar’\n",
            "\n",
            "duckdb.jar          100%[===================>]  61.04M   266MB/s    in 0.2s    \n",
            "\n",
            "2024-04-25 16:00:06 (266 MB/s) - ‘duckdb.jar’ saved [64009472/64009472]\n",
            "\n"
          ]
        }
      ],
      "source": [
        "!pip install pyspark duckdb\n",
        "!wget -O \"duckdb.jar\" \"https://repo1.maven.org/maven2/org/duckdb/duckdb_jdbc/0.10.1/duckdb_jdbc-0.10.1.jar\"\n",
        "import pyspark\n",
        "from pyspark.sql import SparkSession\n",
        "import duckdb\n",
        "from pyspark.sql import functions as F\n",
        "from pyspark.sql.window import Window"
      ]
    },
    {
      "cell_type": "code",
      "execution_count": 2,
      "metadata": {
        "id": "YhvCxVkb3PFR"
      },
      "outputs": [],
      "source": [
        "conn = duckdb.connect(\"quality_database.duckdb\")\n",
        "conn.close()\n",
        "spark = SparkSession.builder \\\n",
        "    .config(\"spark.jars\", \"duckdb.jar\") \\\n",
        "    .getOrCreate()"
      ]
    },
    {
      "cell_type": "markdown",
      "metadata": {},
      "source": [
        "We read the three datasets"
      ]
    },
    {
      "cell_type": "code",
      "execution_count": 3,
      "metadata": {
        "colab": {
          "base_uri": "https://localhost:8080/"
        },
        "id": "e-ZXB_XT3WwW",
        "outputId": "eca2a085-dee4-44aa-9dab-3281453bcc05"
      },
      "outputs": [
        {
          "name": "stdout",
          "output_type": "stream",
          "text": [
            "+----------+------+-----------------+------------------+------------------+------------------------+-----------------------------+-------------------+--------------------+--------------------+-------------------+--------------------+---------+\n",
            "|      date|  city|         latitude|         longitude|avg_temperature_2m|avg_relative_humidity_2m|avg_precipitation_probability|total_precipitation|     avg_cloud_cover| avg_cloud_cover_low|avg_cloud_cover_mid|avg_cloud_cover_high|estat_cel|\n",
            "+----------+------+-----------------+------------------+------------------+------------------------+-----------------------------+-------------------+--------------------+--------------------+-------------------+--------------------+---------+\n",
            "|2024-03-19|Athens|       33.8797677|-83.42271378947368| 7.222916675576319|                  31.625|                          0.0|                0.0|                 0.0|                 0.0|                0.0|                 0.0|Despejado|\n",
            "|2024-03-19|Athens|       33.8797677| -83.4142927368421|7.1839168425649405|                  31.625|                          0.0|                0.0|                 0.0|                 0.0|                0.0|                 0.0|Despejado|\n",
            "|2024-03-19|Athens|       33.8797677|-83.39745063157895| 7.388583389110863|      31.083333333333332|                          0.0|                0.0|0.041666666666666664|0.041666666666666664|                0.0|                 0.0|Despejado|\n",
            "|2024-03-19|Athens|       33.8797677|-83.38060852631578| 7.330083312466741|      31.083333333333332|                          0.0|                0.0|0.041666666666666664|0.041666666666666664|                0.0|                 0.0|Despejado|\n",
            "|2024-03-19|Athens|       33.8797677|-83.36376642105263| 7.386583275161684|      31.958333333333332|                          0.0|                0.0|                0.25|                0.25|                0.0|                 0.0|Despejado|\n",
            "|2024-03-19|Athens|       33.8797677|-83.34692431578947| 7.484083176280062|      31.958333333333332|                          0.0|                0.0|                0.25|                0.25|                0.0|                 0.0|Despejado|\n",
            "|2024-03-19|Athens|       33.8797677|-83.33850326315789| 7.369083419752617|      31.708333333333332|                          0.0|                0.0|  0.5416666666666666|  0.5416666666666666|                0.0|                 0.0|Despejado|\n",
            "|2024-03-19|Athens|       33.8797677|-83.31324010526315| 7.271583429227273|      31.708333333333332|                          0.0|                0.0|  0.5416666666666666|  0.5416666666666666|                0.0|                 0.0|Despejado|\n",
            "|2024-03-19|Athens|       33.8797677|        -83.296398| 7.441249929989378|                  31.625|                          0.0|                0.0|                0.75|                0.75|                0.0|                 0.0|Despejado|\n",
            "|2024-03-19|Athens|33.88818875263158|        -83.456398| 7.175250162060062|                  32.375|                          0.0|                0.0|                 0.0|                 0.0|                0.0|                 0.0|Despejado|\n",
            "|2024-03-19|Athens|33.88818875263158|-83.44797694736842|7.2337499704832835|                  32.375|                          0.0|                0.0|                 0.0|                 0.0|                0.0|                 0.0|Despejado|\n",
            "|2024-03-19|Athens|33.88818875263158|-83.42271378947368| 7.170916634301345|                  31.625|                          0.0|                0.0|                 0.0|                 0.0|                0.0|                 0.0|Despejado|\n",
            "|2024-03-19|Athens|33.88818875263158| -83.4142927368421|  7.14491662196815|                  31.625|                          0.0|                0.0|                 0.0|                 0.0|                0.0|                 0.0|Despejado|\n",
            "|2024-03-19|Athens|33.88818875263158|-83.38902957894736| 7.356083324489494|      31.083333333333332|                          0.0|                0.0|0.041666666666666664|0.041666666666666664|                0.0|                 0.0|Despejado|\n",
            "|2024-03-19|Athens|33.88818875263158| -83.3721874736842| 7.341083398088813|      31.958333333333332|                          0.0|                0.0|                0.25|                0.25|                0.0|                 0.0|Despejado|\n",
            "|2024-03-19|Athens|33.88818875263158|-83.36376642105263|7.4580832831561565|      31.958333333333332|                          0.0|                0.0|                0.25|                0.25|                0.0|                 0.0|Despejado|\n",
            "|2024-03-19|Athens|33.88818875263158|-83.34692431578947| 7.269833405812581|      33.208333333333336|                          0.0|                0.0|                 0.0|                 0.0|                0.0|                 0.0|Despejado|\n",
            "|2024-03-19|Athens|33.88818875263158|-83.33008221052631| 7.177083290337275|      32.541666666666664|                          0.0|                0.0|0.041666666666666664|0.041666666666666664|                0.0|                 0.0|Despejado|\n",
            "|2024-03-19|Athens|33.89660980526316|        -83.456398| 7.207749949923406|                  32.375|                          0.0|                0.0|                 0.0|                 0.0|                0.0|                 0.0|Despejado|\n",
            "|2024-03-19|Athens|33.89660980526316|-83.42271378947368| 7.222916675576319|                  31.625|                          0.0|                0.0|                 0.0|                 0.0|                0.0|                 0.0|Despejado|\n",
            "+----------+------+-----------------+------------------+------------------+------------------------+-----------------------------+-------------------+--------------------+--------------------+-------------------+--------------------+---------+\n",
            "only showing top 20 rows\n",
            "\n"
          ]
        }
      ],
      "source": [
        "DF_weather = spark.read \\\n",
        "  .format(\"jdbc\") \\\n",
        "  .option(\"url\", \"jdbc:duckdb:quality_database.duckdb\") \\\n",
        "  .option(\"driver\", \"org.duckdb.DuckDBDriver\") \\\n",
        "  .option(\"query\", \"SELECT * FROM weather\") \\\n",
        "  .load()\n",
        "\n",
        "DF_weather.show()"
      ]
    },
    {
      "cell_type": "code",
      "execution_count": 4,
      "metadata": {
        "colab": {
          "base_uri": "https://localhost:8080/"
        },
        "id": "HuaBDQNB3aGR",
        "outputId": "d126d079-ffca-40f9-9c9c-b1e47ab081ea"
      },
      "outputs": [
        {
          "name": "stdout",
          "output_type": "stream",
          "text": [
            "+------------------+---------------+-----------+------------+---------------+-----------------+-----+---+------------------+--------------------------+--------+------------------+------------------+------------------+------------------+------------------+------------------+-----------------+------------------+---------+--------+--------------------+-------+\n",
            "|           realSum|      room_type|room_shared|room_private|person_capacity|host_is_superhost|multi|biz|cleanliness_rating|guest_satisfaction_overall|bedrooms|              dist|        metro_dist|        attr_index|   attr_index_norm|        rest_index|   rest_index_norm|              lng|               lat|     city|day_type|cleanliness_category|cluster|\n",
            "+------------------+---------------+-----------+------------+---------------+-----------------+-----+---+------------------+--------------------------+--------+------------------+------------------+------------------+------------------+------------------+------------------+-----------------+------------------+---------+--------+--------------------+-------+\n",
            "| 467.0400487427648|   Private room|      false|        true|            3.0|            false|    0|  1|              10.0|                      94.0|       1|0.5143556615734999|0.2772111229812157| 589.2808024041849| 31.20281003658549| 873.3642985244994| 60.85728084899449|          4.90027|          52.37469|Amsterdam|Weekdays|                High|      4|\n",
            "| 319.6400534295691|   Private room|      false|        true|            2.0|            false|    0|  1|               9.0|                      95.0|       1|0.3605068051816017|0.2235065665493052| 1030.281139745255|54.554070922707645| 761.5528542804844|53.066098548566586|          4.89837|          52.37355|Amsterdam|Weekdays|                High|      4|\n",
            "| 424.1557893750147|Entire home/apt|      false|       false|            2.0|            false|    0|  0|              10.0|                      96.0|       1| 1.590912120846862|1.5167871078585553|  296.451873246274|15.697323666669844| 394.5113584149335|27.490119046241784|          4.87076|          52.36905|Amsterdam|Weekdays|                High|      1|\n",
            "| 243.2451432990416|   Private room|      false|        true|            2.0|            false|    1|  0|               9.0|                      92.0|       1| 7.104815916987718|0.1969119600847507|  69.5429657100053| 3.682346242363628|  87.1808925146093| 6.074890019423834|          4.94234|          52.31694|Amsterdam|Weekdays|                High|      0|\n",
            "| 362.5243127973192|Entire home/apt|      false|       false|            2.0|            false|    0|  0|               7.0|                      80.0|       1| 2.190114389681436|0.3177565275300609| 315.8234079996523|16.723059303331887|382.98587502675457| 26.68700678179518|          4.89522|          52.35359|Amsterdam|Weekdays|              Medium|      5|\n",
            "| 509.9243081105149|Entire home/apt|      false|       false|            2.0|            false|    0|  0|               9.0|                      90.0|       1| 2.818626042486488| 1.518472413982306|179.44329984076285|  9.50164195817286|220.78014403492224|15.384278077446297|4.853940000000001|          52.36503|Amsterdam|Weekdays|                High|      6|\n",
            "| 830.8702027137105|Entire home/apt|      false|       false|            4.0|             true|    0|  1|              10.0|                     100.0|       2|1.1321735235564674|0.8502257789814728| 559.6504665385143| 21.60875125751844| 976.7858696082772| 21.45670378441689|          2.17113|           41.3973|Barcelona|Weekends|                High|      4|\n",
            "| 477.3430772453278|   Private room|      false|        true|            2.0|            false|    0|  1|              10.0|                     100.0|       1|0.7286618788059418|0.2223316598484229| 468.4954656613841|18.089151332915808|1316.7379029810731| 28.92430779870871|          2.16136|          41.38635|Barcelona|Weekends|                High|      4|\n",
            "| 648.1718528172784|   Private room|      false|        true|            2.0|            false|    1|  0|              10.0|                      87.0|       1|0.4677978484538275|0.1326626661574343| 646.4666012571992|24.960822545653727|1255.4776326443932|27.578625479517733|          2.17492|          41.38916|Barcelona|Weekends|                High|      4|\n",
            "|127.30700304885144|   Private room|      false|        true|            2.0|            false|    0|  1|              10.0|                      80.0|       1|1.4413739294644856|0.4080135828081396|349.51043470945825|13.495001786126576| 859.2961921322119| 18.87585030796193|          2.15389|41.382540000000006|Barcelona|Weekends|                High|      5|\n",
            "| 433.8213047222287|   Private room|      false|        true|            5.0|            false|    0|  1|              10.0|                     100.0|       1|1.5817983525225294| 0.827465246904999|503.34422155238735|19.434702069861093| 850.8693147023376|18.690740123154573|          2.16522|          41.40092|Barcelona|Weekends|                High|      5|\n",
            "| 201.5290019404765|Entire home/apt|      false|       false|            2.0|            false|    0|  1|               9.0|                      86.0|       1|1.2837417815274696|0.4645033883930236| 880.8688494611121|19.520227636483312| 1301.490079747617|28.337102925047024|           12.497|             41.89|     Rome|Weekdays|                High|      5|\n",
            "|  147.522970097959|   Private room|      false|        true|            2.0|            false|    1|  0|              10.0|                      96.0|       1| 2.710384712208753| 0.891315143109212|  235.566572214916| 5.220201754204782| 631.6806554056467| 13.75346614356224|          12.5052|          41.92517|     Rome|Weekdays|                High|      6|\n",
            "|132.56025997708835|Entire home/apt|      false|       false|            4.0|             true|    0|  0|              10.0|                      96.0|       1| 5.062173034083633| 0.534157577044168| 200.3739329865661| 4.440325919923335| 538.8573982927203|11.732442524882664|         12.48443|          41.85729|     Rome|Weekdays|                High|      0|\n",
            "| 328.4782456222383|Entire home/apt|      false|       false|            5.0|             true|    1|  0|              10.0|                      99.0|       2|  2.65830122073445|1.6422963435848186| 679.9525389827684|15.067882524246748|1990.3345871541296| 43.33518705144846|           12.472|            41.893|     Rome|Weekdays|                High|      6|\n",
            "|470.15640707923217|Entire home/apt|      false|       false|            6.0|            false|    0|  1|               9.0|                      90.0|       2|  2.22038871064004| 1.197007836103255| 1150.868999194464| 25.50348426759691|2110.0543728419584| 45.94182381494837|           12.476|            41.897|     Rome|Weekdays|                High|      1|\n",
            "| 209.9455263834662|Entire home/apt|      false|       false|            5.0|            false|    1|  0|               9.0|                      92.0|       2| 4.409090372095541|0.3881053049789409|162.94468042879532| 3.610886292630253| 468.4052521510336|10.198500970065304|         12.53463|          41.86941|     Rome|Weekdays|                High|      6|\n",
            "| 183.0594066350268|Entire home/apt|      false|       false|            4.0|             true|    1|  0|              10.0|                      96.0|       1|0.2520877633311864|0.3725162315222611| 521.6369357614602|11.559577496571302|1193.0212711764702|25.975431606558097|         12.50287|          41.89865|     Rome|Weekdays|                High|      4|\n",
            "| 230.5192527996633|Entire home/apt|      false|       false|            4.0|             true|    0|  1|              10.0|                      98.0|       1| 2.584619400328329|1.5909999621638993| 754.3447325671808|16.716428223227304|2198.9785500960697| 47.87795348860944|         12.47228|          41.89454|     Rome|Weekdays|                High|      1|\n",
            "| 81.82732097351132|   Private room|      false|        true|            3.0|            false|    1|  0|               8.0|                      86.0|       1|3.6898617720957336|1.1122849754014057|161.87787107746152|3.5872455867572905|  445.908083634112| 9.708674278562778|          12.5462|          41.90589|     Rome|Weekdays|                High|      6|\n",
            "+------------------+---------------+-----------+------------+---------------+-----------------+-----+---+------------------+--------------------------+--------+------------------+------------------+------------------+------------------+------------------+------------------+-----------------+------------------+---------+--------+--------------------+-------+\n",
            "only showing top 20 rows\n",
            "\n"
          ]
        }
      ],
      "source": [
        "DF_airbnb = spark.read \\\n",
        "  .format(\"jdbc\") \\\n",
        "  .option(\"url\", \"jdbc:duckdb:quality_database.duckdb\") \\\n",
        "  .option(\"driver\", \"org.duckdb.DuckDBDriver\") \\\n",
        "  .option(\"query\", \"SELECT * FROM airbnb\") \\\n",
        "  .load()\n",
        "\n",
        "DF_airbnb.show()"
      ]
    },
    {
      "cell_type": "code",
      "execution_count": 5,
      "metadata": {
        "colab": {
          "base_uri": "https://localhost:8080/"
        },
        "id": "5j9cJfgh3eBV",
        "outputId": "b0ee616e-ffc8-4c9a-cd3c-772d208ad5ff"
      },
      "outputs": [
        {
          "name": "stdout",
          "output_type": "stream",
          "text": [
            "+---------------+---------+---------+---------+---------------------+--------------------+--------------------+--------------+-----------+---------------+----------------+---------+------------+--------------+-----------+\n",
            "|airport_acronym|longitude| latitude|     city|flight_number_default|          owner_name|          owner_logo|origin_airport|origin_city|origin_latitude|origin_longitude|has_delay|arrival_date|departure_time|time_of_day|\n",
            "+---------------+---------+---------+---------+---------------------+--------------------+--------------------+--------------+-----------+---------------+----------------+---------+------------+--------------+-----------+\n",
            "|           EHAM| 4.763889|52.308609|Amsterdam|                OS373|   Austrian Airlines|https://images.fl...|           VIE|     Vienna|      48.110271|       16.569719|        0|  2024-03-21|      13:50:00|  afternoon|\n",
            "|           EHAM| 4.763889|52.308609|Amsterdam|               KL1920|      KLM Cityhopper|https://images.fl...|           GDN|     Gdansk|      54.376484|        18.47064|        1|  2024-03-21|      13:45:00|  afternoon|\n",
            "|           EHAM| 4.763889|52.308609|Amsterdam|               LH2306|  Lufthansa CityLine|             Unknown|           MUC|     Munich|      48.353779|        11.78608|        1|  2024-03-21|      14:15:00|  afternoon|\n",
            "|           EHAM| 4.763889|52.308609|Amsterdam|               SK1549|            SAS Link|https://images.fl...|           CPH| Copenhagen|      55.616959|       12.645637|        1|  2024-03-21|      14:25:00|  afternoon|\n",
            "|           EHAM| 4.763889|52.308609|Amsterdam|              Unknown|             Unknown|             Unknown|           GLZ|      Breda|      51.567402|         4.93183|        1|  2024-03-21|      15:30:00|  afternoon|\n",
            "|           EHAM| 4.763889|52.308609|Amsterdam|               HV5582|           Transavia|             Unknown|           NCE|       Nice|      43.661453|         7.21736|        1|  2024-03-21|      13:50:00|  afternoon|\n",
            "|           EHAM| 4.763889|52.308609|Amsterdam|               TK1953|    Turkish Airlines|https://images.fl...|           IST|   Istanbul|      41.267052|       28.729757|        0|  2024-03-21|      12:15:00|  afternoon|\n",
            "|           EHAM| 4.763889|52.308609|Amsterdam|                TP672|    TAP Air Portugal|https://images.fl...|           LIS|     Lisbon|      38.781311|        -9.13591|        1|  2024-03-21|      13:00:00|  afternoon|\n",
            "|           EHAM| 4.763889|52.308609|Amsterdam|                AZ110|         ITA Airways|https://images.fl...|           FCO|       Rome|       41.80447|        12.25079|        0|  2024-03-21|      13:40:00|  afternoon|\n",
            "|           EHAM| 4.763889|52.308609|Amsterdam|               KL1944|      KLM Cityhopper|https://images.fl...|           ZAG|     Zagreb|      45.742931|       16.068769|        1|  2024-03-21|      14:05:00|  afternoon|\n",
            "|           EHAM| 4.763889|52.308609|Amsterdam|                MU771|China Eastern Air...|https://images.fl...|           PVG|   Shanghai|       31.14337|      121.805199|        0|  2024-03-21|      04:05:00|      night|\n",
            "|           EHAM| 4.763889|52.308609|Amsterdam|               U28683|             easyJet|https://images.fl...|           LGW|     London|      51.148048|        -0.19027|        0|  2024-03-21|      14:55:00|  afternoon|\n",
            "|           EHAM| 4.763889|52.308609|Amsterdam|                KE925|          Korean Air|https://images.fl...|           ICN|      Seoul|       37.46907|        126.4505|        1|  2024-03-21|      02:10:00|      night|\n",
            "|           EHAM| 4.763889|52.308609|Amsterdam|                KL898|                 KLM|https://images.fl...|           PEK|    Beijing|      40.084152|      116.592735|        1|  2024-03-21|      03:50:00|      night|\n",
            "|           EHAM| 4.763889|52.308609|Amsterdam|               U22519|             easyJet|https://images.fl...|           LTN|     London|      51.874722|        -0.36833|        0|  2024-03-21|      15:10:00|  afternoon|\n",
            "|           EHAM| 4.763889|52.308609|Amsterdam|               U27842|      easyJet Europe|https://images.fl...|           STN|     London|      51.884998|           0.235|        0|  2024-03-21|      15:20:00|  afternoon|\n",
            "|           EHAM| 4.763889|52.308609|Amsterdam|                KL862|                 KLM|https://images.fl...|           NRT|      Tokyo|      35.764721|      140.386307|        0|  2024-03-21|      02:30:00|      night|\n",
            "|           EHAM| 4.763889|52.308609|Amsterdam|                KL868|                 KLM|https://images.fl...|           KIX|      Osaka|      34.427299|      135.244003|        0|  2024-03-21|      02:05:00|      night|\n",
            "|           EHAM| 4.763889|52.308609|Amsterdam|               UX1093|          Air Europa|https://images.fl...|           MAD|     Madrid|      40.488701|           -3.57|        1|  2024-03-21|      14:00:00|  afternoon|\n",
            "|           EHAM| 4.763889|52.308609|Amsterdam|               BA8455|        BA CityFlyer|             Unknown|           LCY|     London|      51.505268|        0.055278|        0|  2024-03-21|      15:30:00|  afternoon|\n",
            "+---------------+---------+---------+---------+---------------------+--------------------+--------------------+--------------+-----------+---------------+----------------+---------+------------+--------------+-----------+\n",
            "only showing top 20 rows\n",
            "\n"
          ]
        }
      ],
      "source": [
        "DF_flights = spark.read \\\n",
        "  .format(\"jdbc\") \\\n",
        "  .option(\"url\", \"jdbc:duckdb:quality_database.duckdb\") \\\n",
        "  .option(\"driver\", \"org.duckdb.DuckDBDriver\") \\\n",
        "  .option(\"query\", \"SELECT * FROM flights\") \\\n",
        "  .load()\n",
        "\n",
        "DF_flights.show()"
      ]
    },
    {
      "cell_type": "markdown",
      "metadata": {},
      "source": [
        "We write the two datasets that we won't modify in the new duckdb database"
      ]
    },
    {
      "cell_type": "code",
      "execution_count": 6,
      "metadata": {
        "id": "IR1ZhRzR-ntQ"
      },
      "outputs": [],
      "source": [
        "DF_flights.write \\\n",
        "    .format(\"jdbc\") \\\n",
        "    .option(\"url\", \"jdbc:duckdb:exploition_database.duckdb\") \\\n",
        "    .option(\"dbtable\", \"airbnb\") \\\n",
        "    .option(\"driver\", \"org.duckdb.DuckDBDriver\") \\\n",
        "    .mode(\"overwrite\") \\\n",
        "    .save()"
      ]
    },
    {
      "cell_type": "code",
      "execution_count": 7,
      "metadata": {
        "id": "96FStITi_O5m"
      },
      "outputs": [],
      "source": [
        "DF_weather.write \\\n",
        "    .format(\"jdbc\") \\\n",
        "    .option(\"url\", \"jdbc:duckdb:exploition_database.duckdb\") \\\n",
        "    .option(\"dbtable\", \"airbnb\") \\\n",
        "    .option(\"driver\", \"org.duckdb.DuckDBDriver\") \\\n",
        "    .mode(\"overwrite\") \\\n",
        "    .save()"
      ]
    },
    {
      "cell_type": "markdown",
      "metadata": {},
      "source": [
        "Now we will create a table with all the airports and the coordinates of the minimum euclidean distance to the airports in the weather dataset"
      ]
    },
    {
      "cell_type": "code",
      "execution_count": 8,
      "metadata": {
        "colab": {
          "base_uri": "https://localhost:8080/"
        },
        "id": "jpsP6VRu9zjl",
        "outputId": "ec049c85-9e9b-4a18-d9e2-8499e644f72b"
      },
      "outputs": [
        {
          "name": "stdout",
          "output_type": "stream",
          "text": [
            "+---------------+------------------+--------------------+\n",
            "|airport_acronym|          latitude|           longitude|\n",
            "+---------------+------------------+--------------------+\n",
            "|           CYXU|        34.0397677|          -83.296398|\n",
            "|           EDDB|52.437036500000005|          13.4688599|\n",
            "|           EGGW|51.587445599999995|-0.20776529999999999|\n",
            "|           EGKB|        51.4274456|          -0.0477653|\n",
            "|           EGKK|        51.4274456| -0.1909231947368421|\n",
            "|           EGLC| 51.50323507368421|          -0.0477653|\n",
            "|           EGLL| 51.46955086315789|-0.20776529999999999|\n",
            "|           EGMC| 51.57060349473684|          -0.0477653|\n",
            "|           EGSS|51.587445599999995|          -0.0477653|\n",
            "|           EGTK|51.587445599999995|-0.20776529999999999|\n",
            "|           EHAM| 52.30992170526316|           4.8124534|\n",
            "|           FAEL|        41.8133203|          12.5629321|\n",
            "|           KAHN| 33.95555717368421|  -83.32166115789474|\n",
            "|           KGON|        34.0397677|          -83.296398|\n",
            "|           KLOT|        34.0397677|          -83.456398|\n",
            "|           KRME|        34.0397677|          -83.296398|\n",
            "|           KRMG|        34.0397677|          -83.456398|\n",
            "|           LEBL|        41.3028939|           2.0974322|\n",
            "|           LFOB|        48.9334951|           2.2683915|\n",
            "|           LFOK|48.773495100000005|           2.4283915|\n",
            "+---------------+------------------+--------------------+\n",
            "only showing top 20 rows\n",
            "\n"
          ]
        }
      ],
      "source": [
        "flights = DF_flights.alias(\"flights\")\n",
        "weather = DF_weather.alias(\"weather\")\n",
        "\n",
        "# Make a window to select a single row for each airport_acronym\n",
        "window_spec = Window.partitionBy(\"flights.airport_acronym\").orderBy(\"flights.airport_acronym\")\n",
        "\n",
        "# Use row_number to select a single row for each airport_acronym\n",
        "flights = flights.withColumn(\"row_num\", F.row_number().over(window_spec)).filter(F.col(\"row_num\") == 1).drop(\"row_num\")\n",
        "flights = flights.select(\"airport_acronym\", \"latitude\", \"longitude\")\n",
        "\n",
        "# Make a window to select a single row for each latitude and longitude\n",
        "window_spec = Window.partitionBy(\"weather.latitude\", \"weather.longitude\").orderBy(\"weather.latitude\", \"weather.longitude\")\n",
        "\n",
        "# Use row_number to select a single row for each latitude and longitude\n",
        "weather = weather.withColumn(\"row_num\", F.row_number().over(window_spec)).filter(F.col(\"row_num\") == 1).drop(\"row_num\")\n",
        "\n",
        "# Calculate the Euclidean distance between each airport and all weather points\n",
        "distance_df = flights.crossJoin(weather).withColumn(\n",
        "    \"distance\",\n",
        "    F.sqrt(\n",
        "        (F.col(\"flights.latitude\") - F.col(\"weather.latitude\")) ** 2 +\n",
        "        (F.col(\"flights.longitude\") - F.col(\"weather.longitude\")) ** 2\n",
        "    )\n",
        ")\n",
        "\n",
        "# Make a window to select the row with the minimum distance for each airport\n",
        "windowSpec = Window.partitionBy(\"flights.airport_acronym\").orderBy(\"distance\")\n",
        "\n",
        "# Select the row with the minimum distance for each airport\n",
        "min_distance_df = distance_df.withColumn(\"row_num\", F.row_number().over(windowSpec)).filter(F.col(\"row_num\") == 1)\n",
        "\n",
        "# Select the columns to show\n",
        "final_df_airports = min_distance_df.select(\n",
        "    F.col(\"flights.airport_acronym\").alias(\"airport_acronym\"),\n",
        "    F.col(\"weather.latitude\").alias(\"latitude\"),\n",
        "    F.col(\"weather.longitude\").alias(\"longitude\")\n",
        ")\n",
        "\n",
        "# Show the final dataframe\n",
        "final_df_airports.show()"
      ]
    },
    {
      "cell_type": "code",
      "execution_count": 9,
      "metadata": {
        "id": "MUnqxe3LGuE1"
      },
      "outputs": [],
      "source": [
        "final_df_airports.write \\\n",
        "    .format(\"jdbc\") \\\n",
        "    .option(\"url\", \"jdbc:duckdb:quality_database.duckdb\") \\\n",
        "    .option(\"dbtable\", \"airports\") \\\n",
        "    .option(\"driver\", \"org.duckdb.DuckDBDriver\") \\\n",
        "    .save()"
      ]
    },
    {
      "cell_type": "markdown",
      "metadata": {},
      "source": [
        "Now, we will add the minimum euclidean distance coordinades from the weather dataset inside the airbnb dataset. We will not create another dataset because this new dataset will have the same rows as the airbnb dataset."
      ]
    },
    {
      "cell_type": "code",
      "execution_count": 10,
      "metadata": {
        "colab": {
          "base_uri": "https://localhost:8080/"
        },
        "id": "fXLhWEGRtzMs",
        "outputId": "1cb1a17e-2c63-4af3-c7cb-45c1178cdd71"
      },
      "outputs": [
        {
          "name": "stdout",
          "output_type": "stream",
          "text": [
            "City: Lisbon\n",
            "City: Berlin\n",
            "City: London\n",
            "City: Vienna\n",
            "City: Paris\n",
            "City: Athens\n",
            "City: Barcelona\n",
            "City: Amsterdam\n",
            "City: Rome\n",
            "City: Budapest\n"
          ]
        }
      ],
      "source": [
        "DF_airbnb = DF_airbnb.withColumn(\"id\", F.monotonically_increasing_id()) # Add an id column to the airbnb DataFrame\n",
        "\n",
        "airbnb = DF_airbnb.alias(\"airbnb\")\n",
        "weather = DF_weather.alias(\"weather\")\n",
        "\n",
        "# Get all the cities in both DataFrames\n",
        "cities = airbnb.select(\"city\").distinct().union(weather.select(\"city\").distinct()).distinct().collect()\n",
        "\n",
        "# List to store the DataFrames with the results for each city\n",
        "results_per_city = []\n",
        "\n",
        "for city_row in cities:\n",
        "    # For each city\n",
        "    city = city_row.city\n",
        "    print(f\"City: {city}\")\n",
        "\n",
        "    # Filter the DataFrames by the city\n",
        "    airbnb_city = airbnb.filter(F.col(\"city\") == city)\n",
        "    weather_city = weather.filter(F.col(\"city\") == city)\n",
        "\n",
        "    # Calculate the Euclidean distance between each airbnb and all weather points\n",
        "    distance_df = airbnb_city.crossJoin(weather_city).withColumn(\n",
        "        \"distance\",\n",
        "        F.sqrt(\n",
        "            (F.col(\"airbnb.lat\") - F.col(\"weather.latitude\")) ** 2 +\n",
        "            (F.col(\"airbnb.lng\") - F.col(\"weather.longitude\")) ** 2\n",
        "        )\n",
        "    )\n",
        "\n",
        "    # Make a window to select the row with the minimum distance for each airbnb\n",
        "    window_spec_airbnb = Window.partitionBy(\"airbnb.id\").orderBy(\"distance\")\n",
        "    closest_weather = distance_df.withColumn(\"row_num\", F.row_number().over(window_spec_airbnb))\\\n",
        "                                .filter(F.col(\"row_num\") == 1)\\\n",
        "                                .select(\n",
        "                                    F.col(\"airbnb.id\").alias(\"id\"),\n",
        "                                    F.col(\"weather.latitude\").alias(\"latitude_w\"),\n",
        "                                    F.col(\"weather.longitude\").alias(\"longitude_w\")\n",
        "                                )\n",
        "\n",
        "    # Append the results to the list\n",
        "    results_per_city.append(closest_weather)\n",
        "\n",
        "# Union all the DataFrames in the list\n",
        "final_df = results_per_city[0]\n",
        "for df in results_per_city[1:]:\n",
        "    final_df = final_df.union(df)"
      ]
    },
    {
      "cell_type": "code",
      "execution_count": 11,
      "metadata": {
        "id": "hd-Fsj4F7Vp4"
      },
      "outputs": [],
      "source": [
        "# Join the final DataFrame with the airbnb DataFrame\n",
        "result_df = DF_airbnb.join(final_df, \"id\", \"left\")"
      ]
    },
    {
      "cell_type": "code",
      "execution_count": 12,
      "metadata": {
        "id": "bsdPzqZMDmeI"
      },
      "outputs": [],
      "source": [
        "# Define the types of the columns\n",
        "column_types = {\n",
        "    \"id\": \"INT\",\n",
        "    \"realSum\": \"DOUBLE\",\n",
        "    \"room_type\": \"STRING\",\n",
        "    \"room_shared\": \"BOOLEAN\",\n",
        "    \"room_private\": \"BOOLEAN\",\n",
        "    \"person_capacity\": \"DOUBLE\",\n",
        "    \"host_is_superhost\": \"BOOLEAN\",\n",
        "    \"multi\": \"STRING\",\n",
        "    \"biz\": \"STRING\",\n",
        "    \"cleanliness_rating\": \"DOUBLE\",\n",
        "    \"guest_satisfaction_overall\": \"DOUBLE\",\n",
        "    \"bedrooms\": \"INT\",\n",
        "    \"dist\": \"DOUBLE\",\n",
        "    \"metro_dist\": \"DOUBLE\",\n",
        "    \"attr_index\": \"DOUBLE\",\n",
        "    \"attr_index_norm\": \"DOUBLE\",\n",
        "    \"rest_index\": \"DOUBLE\",\n",
        "    \"rest_index_norm\": \"DOUBLE\",\n",
        "    \"lng\": \"DOUBLE\",\n",
        "    \"lat\": \"DOUBLE\",\n",
        "    \"city\": \"STRING\",\n",
        "    \"day_type\": \"STRING\",\n",
        "    \"cleanliness_category\": \"STRING\",\n",
        "    \"cluster\": \"INT\",\n",
        "    \"latitude_w\": \"DOUBLE\",\n",
        "    \"longitude_w\": \"DOUBLE\"\n",
        "}\n",
        "\n",
        "# Convert the dictionary to a string\n",
        "column_types_str = \", \".join([f\"{col} {data_type}\" for col, data_type in column_types.items()])\n",
        "\n",
        "# Save the DataFrame to the database\n",
        "result_df.write \\\n",
        "    .format(\"jdbc\") \\\n",
        "    .option(\"url\", \"jdbc:duckdb:exploition_database.duckdb\") \\\n",
        "    .option(\"dbtable\", \"airbnb\") \\\n",
        "    .option(\"driver\", \"org.duckdb.DuckDBDriver\") \\\n",
        "    .option(\"createTableColumnTypes\", column_types_str) \\\n",
        "    .mode(\"overwrite\") \\\n",
        "    .save()"
      ]
    }
  ],
  "metadata": {
    "colab": {
      "provenance": []
    },
    "kernelspec": {
      "display_name": "Python 3",
      "name": "python3"
    },
    "language_info": {
      "name": "python"
    }
  },
  "nbformat": 4,
  "nbformat_minor": 0
}
