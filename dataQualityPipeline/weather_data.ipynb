{
  "cells": [
    {
      "cell_type": "code",
      "execution_count": 1,
      "metadata": {
        "id": "w2YCaLVAhAht",
        "outputId": "66530c54-4afe-4afd-97fa-fa0b3151b609",
        "colab": {
          "base_uri": "https://localhost:8080/"
        }
      },
      "outputs": [
        {
          "output_type": "stream",
          "name": "stdout",
          "text": [
            "Collecting pyspark\n",
            "  Downloading pyspark-3.5.1.tar.gz (317.0 MB)\n",
            "\u001b[2K     \u001b[90m━━━━━━━━━━━━━━━━━━━━━━━━━━━━━━━━━━━━━━━━\u001b[0m \u001b[32m317.0/317.0 MB\u001b[0m \u001b[31m3.5 MB/s\u001b[0m eta \u001b[36m0:00:00\u001b[0m\n",
            "\u001b[?25h  Preparing metadata (setup.py) ... \u001b[?25l\u001b[?25hdone\n",
            "Requirement already satisfied: duckdb in /usr/local/lib/python3.10/dist-packages (0.10.2)\n",
            "Requirement already satisfied: py4j==0.10.9.7 in /usr/local/lib/python3.10/dist-packages (from pyspark) (0.10.9.7)\n",
            "Building wheels for collected packages: pyspark\n",
            "  Building wheel for pyspark (setup.py) ... \u001b[?25l\u001b[?25hdone\n",
            "  Created wheel for pyspark: filename=pyspark-3.5.1-py2.py3-none-any.whl size=317488491 sha256=c0a59c32623c251db3b751b94768e520692a21b224e9ce91cc0b1a4c72d5b7cf\n",
            "  Stored in directory: /root/.cache/pip/wheels/80/1d/60/2c256ed38dddce2fdd93be545214a63e02fbd8d74fb0b7f3a6\n",
            "Successfully built pyspark\n",
            "Installing collected packages: pyspark\n",
            "Successfully installed pyspark-3.5.1\n",
            "--2024-04-22 17:24:17--  https://repo1.maven.org/maven2/org/duckdb/duckdb_jdbc/0.10.1/duckdb_jdbc-0.10.1.jar\n",
            "Resolving repo1.maven.org (repo1.maven.org)... 199.232.192.209, 199.232.196.209, 2a04:4e42:4c::209, ...\n",
            "Connecting to repo1.maven.org (repo1.maven.org)|199.232.192.209|:443... connected.\n",
            "HTTP request sent, awaiting response... 200 OK\n",
            "Length: 64009472 (61M) [application/java-archive]\n",
            "Saving to: ‘duckdb.jar’\n",
            "\n",
            "duckdb.jar          100%[===================>]  61.04M   196MB/s    in 0.3s    \n",
            "\n",
            "2024-04-22 17:24:17 (196 MB/s) - ‘duckdb.jar’ saved [64009472/64009472]\n",
            "\n"
          ]
        }
      ],
      "source": [
        "!pip install pyspark duckdb\n",
        "!wget -O \"duckdb.jar\" \"https://repo1.maven.org/maven2/org/duckdb/duckdb_jdbc/0.10.1/duckdb_jdbc-0.10.1.jar\"\n",
        "import pyspark\n",
        "from pyspark.sql import SparkSession\n",
        "import duckdb"
      ]
    },
    {
      "cell_type": "code",
      "source": [
        "#!wget -O \"database.duckdb\" \"https://www.icloud.com/iclouddrive/04aKe9BxKcOEpw52hgQMx6IBw#database\""
      ],
      "metadata": {
        "id": "z_BfXRouGX0j"
      },
      "execution_count": 2,
      "outputs": []
    },
    {
      "cell_type": "code",
      "source": [
        "conn = duckdb.connect(\"database.duckdb\")\n",
        "conn.close()\n",
        "spark = SparkSession.builder \\\n",
        "    .config(\"spark.jars\", \"duckdb.jar\") \\\n",
        "    .getOrCreate()"
      ],
      "metadata": {
        "id": "r5BjHMedhMxv"
      },
      "execution_count": 3,
      "outputs": []
    },
    {
      "cell_type": "code",
      "source": [
        "from pyspark.sql import functions as F"
      ],
      "metadata": {
        "id": "AOjpmrfWo5I5"
      },
      "execution_count": 4,
      "outputs": []
    },
    {
      "cell_type": "code",
      "source": [
        "DF = spark.read \\\n",
        "  .format(\"jdbc\") \\\n",
        "  .option(\"url\", \"jdbc:duckdb:database.duckdb\") \\\n",
        "  .option(\"driver\", \"org.duckdb.DuckDBDriver\") \\\n",
        "  .option(\"query\", \"SELECT * FROM weather\") \\\n",
        "  .load()\n",
        "\n",
        "DF.show()"
      ],
      "metadata": {
        "colab": {
          "base_uri": "https://localhost:8080/"
        },
        "id": "f5PV0nXrjvM5",
        "outputId": "0ca17ae8-8236-4078-8351-9ec4f6346818"
      },
      "execution_count": 5,
      "outputs": [
        {
          "output_type": "stream",
          "name": "stdout",
          "text": [
            "+-------------------+--------------+--------------------+-------------------------+-------------+------------+-----------+---------------+---------------+----------------+----------+---------+---------+\n",
            "|               date|temperature_2m|relative_humidity_2m|precipitation_probability|precipitation|weather_code|cloud_cover|cloud_cover_low|cloud_cover_mid|cloud_cover_high|  latitude|longitude|     city|\n",
            "+-------------------+--------------+--------------------+-------------------------+-------------+------------+-----------+---------------+---------------+----------------+----------+---------+---------+\n",
            "|2024-03-19 00:00:00|          8.05|                96.0|                      0.0|          0.0|         3.0|      100.0|           91.0|           98.0|            37.0|52.2930796|4.8124534|Amsterdam|\n",
            "|2024-03-19 01:00:00|          8.45|                94.0|                      0.0|          0.0|         3.0|       98.0|           87.0|           91.0|            20.0|52.2930796|4.8124534|Amsterdam|\n",
            "|2024-03-19 02:00:00|          8.65|                93.0|                      0.0|          0.0|         3.0|      100.0|           89.0|          100.0|            52.0|52.2930796|4.8124534|Amsterdam|\n",
            "|2024-03-19 03:00:00|           9.6|                92.0|                      0.0|          0.0|         3.0|       98.0|           93.0|           66.0|             6.0|52.2930796|4.8124534|Amsterdam|\n",
            "|2024-03-19 04:00:00|          9.55|                92.0|                      0.0|          0.0|         3.0|      100.0|           65.0|            7.0|           100.0|52.2930796|4.8124534|Amsterdam|\n",
            "|2024-03-19 05:00:00|           9.6|                92.0|                      0.0|          0.0|         3.0|      100.0|          100.0|           43.0|           100.0|52.2930796|4.8124534|Amsterdam|\n",
            "|2024-03-19 06:00:00|           9.8|                91.0|                      0.0|          0.0|         3.0|      100.0|           85.0|           44.0|           100.0|52.2930796|4.8124534|Amsterdam|\n",
            "|2024-03-19 07:00:00|          10.0|                90.0|                      0.0|          0.0|         3.0|       97.0|           92.0|            0.0|            65.0|52.2930796|4.8124534|Amsterdam|\n",
            "|2024-03-19 08:00:00|          10.6|                87.0|                      0.0|          0.0|         3.0|      100.0|          100.0|            0.0|            32.0|52.2930796|4.8124534|Amsterdam|\n",
            "|2024-03-19 09:00:00|         11.65|                83.0|                      0.0|          0.0|         3.0|      100.0|          100.0|            0.0|           100.0|52.2930796|4.8124534|Amsterdam|\n",
            "|2024-03-19 10:00:00|          12.9|                78.0|                      0.0|          0.0|         3.0|       85.0|           80.0|            0.0|            26.0|52.2930796|4.8124534|Amsterdam|\n",
            "|2024-03-19 11:00:00|          14.0|                70.0|                      0.0|          0.0|         3.0|       87.0|           78.0|           12.0|             0.0|52.2930796|4.8124534|Amsterdam|\n",
            "|2024-03-19 12:00:00|          14.7|                63.0|                      0.0|          0.0|         3.0|       84.0|           38.0|           60.0|            37.0|52.2930796|4.8124534|Amsterdam|\n",
            "|2024-03-19 13:00:00|          15.2|                60.0|                      0.0|          0.0|         3.0|       97.0|           78.0|           76.0|             0.0|52.2930796|4.8124534|Amsterdam|\n",
            "|2024-03-19 14:00:00|         14.65|                64.0|                      0.0|          0.0|         3.0|       88.0|           75.0|           64.0|             0.0|52.2930796|4.8124534|Amsterdam|\n",
            "|2024-03-19 15:00:00|         13.45|                65.0|                      0.0|          0.0|         3.0|       95.0|           43.0|           78.0|            46.0|52.2930796|4.8124534|Amsterdam|\n",
            "|2024-03-19 16:00:00|         12.65|                72.0|                      0.0|          0.0|         3.0|      100.0|           77.0|           93.0|           100.0|52.2930796|4.8124534|Amsterdam|\n",
            "|2024-03-19 17:00:00|          11.9|                74.0|                      0.0|          0.0|         3.0|      100.0|           51.0|           85.0|           100.0|52.2930796|4.8124534|Amsterdam|\n",
            "|2024-03-19 18:00:00|          11.1|                79.0|                      0.0|          0.0|         3.0|      100.0|           21.0|          100.0|           100.0|52.2930796|4.8124534|Amsterdam|\n",
            "|2024-03-19 19:00:00|         10.55|                83.0|                      0.0|          0.0|         3.0|      100.0|           74.0|           74.0|           100.0|52.2930796|4.8124534|Amsterdam|\n",
            "+-------------------+--------------+--------------------+-------------------------+-------------+------------+-----------+---------------+---------------+----------------+----------+---------+---------+\n",
            "only showing top 20 rows\n",
            "\n"
          ]
        }
      ]
    },
    {
      "cell_type": "code",
      "source": [
        "#DF.write.csv(\"weather.csv\")"
      ],
      "metadata": {
        "id": "Kx-C0oc044L1"
      },
      "execution_count": 6,
      "outputs": []
    },
    {
      "cell_type": "markdown",
      "source": [
        "# MISSINGS"
      ],
      "metadata": {
        "id": "aFcvlHyrudqD"
      }
    },
    {
      "cell_type": "code",
      "source": [
        "# Funció per mirar quants NAs hi ha a un DF\n",
        "\n",
        "def mirar_missings(data):\n",
        "  # Agafem una llista amb tots els noms de les columnes de DF\n",
        "  columns = data.columns\n",
        "\n",
        "  # Comptem NAs en totes les columnes\n",
        "  na_counts = [data.filter(F.col(c).isNull()).count() for c in columns]\n",
        "\n",
        "  for c, v in zip(columns, na_counts):\n",
        "      print(f\"Column '{c}' has {v} missings.\")\n",
        "\n",
        "mirar_missings(DF)"
      ],
      "metadata": {
        "id": "p6vmAUy0z_-y",
        "colab": {
          "base_uri": "https://localhost:8080/"
        },
        "outputId": "2a1c4ceb-dc89-4338-98a0-5bec671be8b5"
      },
      "execution_count": 7,
      "outputs": [
        {
          "output_type": "stream",
          "name": "stdout",
          "text": [
            "Column 'date' has 0 missings.\n",
            "Column 'temperature_2m' has 0 missings.\n",
            "Column 'relative_humidity_2m' has 0 missings.\n",
            "Column 'precipitation_probability' has 552000 missings.\n",
            "Column 'precipitation' has 0 missings.\n",
            "Column 'weather_code' has 0 missings.\n",
            "Column 'cloud_cover' has 0 missings.\n",
            "Column 'cloud_cover_low' has 0 missings.\n",
            "Column 'cloud_cover_mid' has 0 missings.\n",
            "Column 'cloud_cover_high' has 0 missings.\n",
            "Column 'latitude' has 0 missings.\n",
            "Column 'longitude' has 0 missings.\n",
            "Column 'city' has 0 missings.\n"
          ]
        }
      ]
    },
    {
      "cell_type": "code",
      "source": [
        "# Si tenim un NA a \"precipitation_probability\" pero la precipitació és 0, posem la probabilitat de precipitació a 0.\n",
        "DF = DF.withColumn(\n",
        "    \"precipitation_probability\",\n",
        "    F.when(\n",
        "        (F.col(\"precipitation_probability\").isNull()) & (F.col(\"precipitation\") == 0.0),\n",
        "        0.0\n",
        "    ).otherwise(F.col(\"precipitation_probability\"))\n",
        ")"
      ],
      "metadata": {
        "id": "CszenDO78r3V"
      },
      "execution_count": 8,
      "outputs": []
    },
    {
      "cell_type": "code",
      "source": [
        "mirar_missings(DF)"
      ],
      "metadata": {
        "id": "p0mvTYtt8sX2",
        "colab": {
          "base_uri": "https://localhost:8080/"
        },
        "outputId": "278998d3-6978-4bd8-b634-d63fe6a10648"
      },
      "execution_count": 9,
      "outputs": [
        {
          "output_type": "stream",
          "name": "stdout",
          "text": [
            "Column 'date' has 0 missings.\n",
            "Column 'temperature_2m' has 0 missings.\n",
            "Column 'relative_humidity_2m' has 0 missings.\n",
            "Column 'precipitation_probability' has 78714 missings.\n",
            "Column 'precipitation' has 0 missings.\n",
            "Column 'weather_code' has 0 missings.\n",
            "Column 'cloud_cover' has 0 missings.\n",
            "Column 'cloud_cover_low' has 0 missings.\n",
            "Column 'cloud_cover_mid' has 0 missings.\n",
            "Column 'cloud_cover_high' has 0 missings.\n",
            "Column 'latitude' has 0 missings.\n",
            "Column 'longitude' has 0 missings.\n",
            "Column 'city' has 0 missings.\n"
          ]
        }
      ]
    },
    {
      "cell_type": "code",
      "source": [
        "DF = DF.withColumn(\"date_only\", F.to_date(\"date\"))"
      ],
      "metadata": {
        "id": "iI4ll8w-pPl7"
      },
      "execution_count": 10,
      "outputs": []
    },
    {
      "cell_type": "code",
      "source": [
        "mean_values = DF.groupBy(\"date_only\", \"latitude\", \"longitude\").agg(\n",
        "    F.mean(\"temperature_2m\").alias(\"mean_temperature_2m\"),\n",
        "    F.mean(\"relative_humidity_2m\").alias(\"mean_relative_humidity_2m\"),\n",
        "    F.mean(\"precipitation_probability\").alias(\"mean_precipitation_probability\"),\n",
        "    F.mean(\"precipitation\").alias(\"mean_precipitation\"),\n",
        "    F.mean(\"weather_code\").alias(\"mean_weather_code\"),\n",
        "    F.mean(\"cloud_cover\").alias(\"mean_cloud_cover\"),\n",
        "    F.mean(\"cloud_cover_low\").alias(\"mean_cloud_cover_low\"),\n",
        "    F.mean(\"cloud_cover_mid\").alias(\"mean_cloud_cover_mid\"),\n",
        "    F.mean(\"cloud_cover_high\").alias(\"mean_cloud_cover_high\")\n",
        ")\n",
        "mean_values.show()"
      ],
      "metadata": {
        "id": "0VpN1uGqpWJR",
        "colab": {
          "base_uri": "https://localhost:8080/"
        },
        "outputId": "22a1bf2d-5093-447b-b8df-3ca6fb0309c7"
      },
      "execution_count": 11,
      "outputs": [
        {
          "output_type": "stream",
          "name": "stdout",
          "text": [
            "+----------+------------------+------------------+-------------------+-------------------------+------------------------------+--------------------+------------------+------------------+--------------------+--------------------+---------------------+\n",
            "| date_only|          latitude|         longitude|mean_temperature_2m|mean_relative_humidity_2m|mean_precipitation_probability|  mean_precipitation| mean_weather_code|  mean_cloud_cover|mean_cloud_cover_low|mean_cloud_cover_mid|mean_cloud_cover_high|\n",
            "+----------+------------------+------------------+-------------------+-------------------------+------------------------------+--------------------+------------------+------------------+--------------------+--------------------+---------------------+\n",
            "|2024-03-27|        52.2930796| 4.837716557894737| 10.151583671569824|        80.70833333333333|             7.791666666666667| 0.03750000149011612| 8.833333333333334| 94.83333333333333|  61.333333333333336|   68.08333333333333|               77.375|\n",
            "|2024-03-20|        52.2930796| 4.879821821052632| 11.930500030517578|        81.08333333333333|                           1.0|                 0.0|               3.0| 99.58333333333333|  37.958333333333336|                91.0|               95.875|\n",
            "|2024-04-03|52.301500652631574| 4.930348136842105|  9.998916645844778|       59.416666666666664|                           0.0|                 0.0|2.7083333333333335| 88.41666666666667|                 0.0|  1.6666666666666667|    86.45833333333333|\n",
            "|2024-03-28| 52.30992170526316| 4.905084978947368|  9.939833362897238|        78.91666666666667|            15.916666666666666| 0.03750000149011612| 7.333333333333333|43.416666666666664|  13.916666666666666|  26.958333333333332|               36.375|\n",
            "|2024-04-02| 52.31834275789473| 4.820874452631579| 10.208916982014975|       59.333333333333336|                           0.0|                 0.0|             1.125|35.958333333333336|                3.75|  1.7083333333333333|   28.916666666666668|\n",
            "|2024-04-01|52.326763810526316|         4.9724534| 10.224749863147736|                    69.75|                           0.0|                 0.0|1.1666666666666667|37.041666666666664|               1.625|   6.416666666666667|   34.583333333333336|\n",
            "|2024-03-31| 52.33518486315789| 4.862979715789473| 11.749999940395355|        72.20833333333333|                           0.0|                 0.0|1.7083333333333333|             59.25|               2.875|                6.75|   55.541666666666664|\n",
            "|2024-03-25| 52.33518486315789| 4.905084978947368| 6.4815836151440935|        72.54166666666667|            11.083333333333334|                 0.0|1.9583333333333333|            58.875|  50.083333333333336|               21.25|   0.6666666666666666|\n",
            "|2024-03-27| 52.33518486315789| 4.921927084210526| 10.076083223025003|        81.41666666666667|                          7.25|0.050000001676380634|14.958333333333334| 97.08333333333333|   65.16666666666667|   68.08333333333333|               78.125|\n",
            "|2024-03-25| 52.34360591578947|4.8714007684210525| 6.4815836151440935|        72.54166666666667|            11.708333333333334|                 0.0|1.9583333333333333|            58.875|  50.083333333333336|               21.25|   0.6666666666666666|\n",
            "|2024-03-19| 52.35202696842105| 4.862979715789473| 11.208917101224264|                   80.625|                          0.25|                 0.0| 6.166666666666667| 96.45833333333333|   72.08333333333333|  59.458333333333336|               63.125|\n",
            "|2024-03-28|52.360448021052626| 4.964032347368421|  9.933333257834116|        78.91666666666667|            15.916666666666666| 0.03750000149011612| 7.333333333333333|43.416666666666664|  13.916666666666666|  26.958333333333332|               36.375|\n",
            "|2024-03-26| 52.36886907368421|  4.89666392631579|  6.663770799835523|        73.29166666666667|            14.166666666666666|                 0.0|2.9166666666666665|              92.5|               38.75|   75.08333333333333|    84.66666666666667|\n",
            "|2024-03-27| 52.36886907368421| 4.905084978947368|  9.948749701182047|        81.95833333333333|                          7.25|0.050000001676380634|14.833333333333334| 94.08333333333333|                63.0|  60.458333333333336|               74.125|\n",
            "|2024-03-22|52.377290126315785| 4.955611294736842|  9.282250046730042|        88.79166666666667|            24.416666666666668|   0.287500006146729|              29.5|             98.25|   72.91666666666667|   94.33333333333333|   23.708333333333332|\n",
            "|2024-03-31| 52.38571117894737|         4.8124534|  11.40625007947286|        74.08333333333333|                           0.0|                 0.0|1.7083333333333333|             58.75|                 2.5|   6.541666666666667|               55.125|\n",
            "|2024-03-25| 52.38571117894737| 4.829295505263158|  6.494583487510681|        72.54166666666667|            13.583333333333334|                 0.0|1.9583333333333333|            58.875|  50.083333333333336|               21.25|   0.6666666666666666|\n",
            "|2024-03-22| 52.39413223157894| 4.964032347368421|  9.262750188509623|        88.79166666666667|            24.416666666666668|   0.287500006146729|              29.5|             98.25|   72.91666666666667|   94.33333333333333|   23.708333333333332|\n",
            "|2024-03-28|52.402553284210526| 4.820874452631579| 10.221583048502604|        76.45833333333333|                        16.625| 0.02500000037252903| 7.333333333333333|43.541666666666664|                11.5|  24.541666666666668|                35.25|\n",
            "|2024-03-28|52.402553284210526|  4.89666392631579|  9.918000241120657|        78.58333333333333|            18.291666666666668| 0.03750000149011612|             7.375|46.083333333333336|  13.833333333333334|  27.583333333333332|   34.416666666666664|\n",
            "+----------+------------------+------------------+-------------------+-------------------------+------------------------------+--------------------+------------------+------------------+--------------------+--------------------+---------------------+\n",
            "only showing top 20 rows\n",
            "\n"
          ]
        }
      ]
    },
    {
      "cell_type": "code",
      "source": [
        "DF = DF.join(\n",
        "    mean_values,\n",
        "    on=[\"date_only\", \"latitude\", \"longitude\"],\n",
        "    how=\"left\"\n",
        ")"
      ],
      "metadata": {
        "id": "S7P65jq-py3-"
      },
      "execution_count": 12,
      "outputs": []
    },
    {
      "cell_type": "code",
      "source": [
        "columns_to_fill = [\n",
        "    \"temperature_2m\", \"relative_humidity_2m\", \"precipitation_probability\",\n",
        "    \"precipitation\", \"weather_code\", \"cloud_cover\", \"cloud_cover_low\",\n",
        "    \"cloud_cover_mid\", \"cloud_cover_high\"\n",
        "]\n",
        "\n",
        "# Utilizar un bucle para reemplazar los valores faltantes con las medias correspondientes\n",
        "for col in columns_to_fill:\n",
        "    DF = DF.withColumn(col, F.coalesce(DF[col], DF[f\"mean_{col}\"]))\n",
        "\n",
        "# Limpiar el DataFrame eliminando las columnas de medias\n",
        "columns_to_drop = [f\"mean_{col}\" for col in columns_to_fill]\n",
        "columns_to_drop.append(\"date_only\")\n",
        "DF = DF.drop(*columns_to_drop)"
      ],
      "metadata": {
        "id": "QENglEk1rhin"
      },
      "execution_count": 13,
      "outputs": []
    },
    {
      "cell_type": "code",
      "source": [
        "mirar_missings(DF)"
      ],
      "metadata": {
        "id": "uHN1DZAqtlLd",
        "colab": {
          "base_uri": "https://localhost:8080/"
        },
        "outputId": "00e05a2f-1f99-4ca1-9d2c-e1bb03b50f3d"
      },
      "execution_count": 14,
      "outputs": [
        {
          "output_type": "stream",
          "name": "stdout",
          "text": [
            "Column 'latitude' has 0 missings.\n",
            "Column 'longitude' has 0 missings.\n",
            "Column 'date' has 0 missings.\n",
            "Column 'temperature_2m' has 0 missings.\n",
            "Column 'relative_humidity_2m' has 0 missings.\n",
            "Column 'precipitation_probability' has 0 missings.\n",
            "Column 'precipitation' has 0 missings.\n",
            "Column 'weather_code' has 0 missings.\n",
            "Column 'cloud_cover' has 0 missings.\n",
            "Column 'cloud_cover_low' has 0 missings.\n",
            "Column 'cloud_cover_mid' has 0 missings.\n",
            "Column 'cloud_cover_high' has 0 missings.\n",
            "Column 'city' has 0 missings.\n"
          ]
        }
      ]
    },
    {
      "cell_type": "code",
      "source": [
        "DF.show(20)"
      ],
      "metadata": {
        "id": "KG91QJ3Wsqhp",
        "colab": {
          "base_uri": "https://localhost:8080/"
        },
        "outputId": "a4ca3d12-8d04-4f97-8c56-d2061e088322"
      },
      "execution_count": 15,
      "outputs": [
        {
          "output_type": "stream",
          "name": "stdout",
          "text": [
            "+----------+---------+-------------------+------------------+--------------------+-------------------------+-------------+------------+-----------+---------------+---------------+----------------+---------+\n",
            "|  latitude|longitude|               date|    temperature_2m|relative_humidity_2m|precipitation_probability|precipitation|weather_code|cloud_cover|cloud_cover_low|cloud_cover_mid|cloud_cover_high|     city|\n",
            "+----------+---------+-------------------+------------------+--------------------+-------------------------+-------------+------------+-----------+---------------+---------------+----------------+---------+\n",
            "|52.2930796|4.8124534|2024-03-19 00:00:00| 8.050000190734863|                96.0|                      0.0|          0.0|         3.0|      100.0|           91.0|           98.0|            37.0|Amsterdam|\n",
            "|52.2930796|4.8124534|2024-03-19 01:00:00| 8.449999809265137|                94.0|                      0.0|          0.0|         3.0|       98.0|           87.0|           91.0|            20.0|Amsterdam|\n",
            "|52.2930796|4.8124534|2024-03-19 02:00:00| 8.649999618530273|                93.0|                      0.0|          0.0|         3.0|      100.0|           89.0|          100.0|            52.0|Amsterdam|\n",
            "|52.2930796|4.8124534|2024-03-19 03:00:00| 9.600000381469727|                92.0|                      0.0|          0.0|         3.0|       98.0|           93.0|           66.0|             6.0|Amsterdam|\n",
            "|52.2930796|4.8124534|2024-03-19 04:00:00| 9.550000190734863|                92.0|                      0.0|          0.0|         3.0|      100.0|           65.0|            7.0|           100.0|Amsterdam|\n",
            "|52.2930796|4.8124534|2024-03-19 05:00:00| 9.600000381469727|                92.0|                      0.0|          0.0|         3.0|      100.0|          100.0|           43.0|           100.0|Amsterdam|\n",
            "|52.2930796|4.8124534|2024-03-19 06:00:00| 9.800000190734863|                91.0|                      0.0|          0.0|         3.0|      100.0|           85.0|           44.0|           100.0|Amsterdam|\n",
            "|52.2930796|4.8124534|2024-03-19 07:00:00|              10.0|                90.0|                      0.0|          0.0|         3.0|       97.0|           92.0|            0.0|            65.0|Amsterdam|\n",
            "|52.2930796|4.8124534|2024-03-19 08:00:00|10.600000381469727|                87.0|                      0.0|          0.0|         3.0|      100.0|          100.0|            0.0|            32.0|Amsterdam|\n",
            "|52.2930796|4.8124534|2024-03-19 09:00:00|11.649999618530273|                83.0|                      0.0|          0.0|         3.0|      100.0|          100.0|            0.0|           100.0|Amsterdam|\n",
            "|52.2930796|4.8124534|2024-03-19 10:00:00|12.899999618530273|                78.0|                      0.0|          0.0|         3.0|       85.0|           80.0|            0.0|            26.0|Amsterdam|\n",
            "|52.2930796|4.8124534|2024-03-19 11:00:00|              14.0|                70.0|                      0.0|          0.0|         3.0|       87.0|           78.0|           12.0|             0.0|Amsterdam|\n",
            "|52.2930796|4.8124534|2024-03-19 12:00:00|14.699999809265137|                63.0|                      0.0|          0.0|         3.0|       84.0|           38.0|           60.0|            37.0|Amsterdam|\n",
            "|52.2930796|4.8124534|2024-03-19 13:00:00|15.199999809265137|                60.0|                      0.0|          0.0|         3.0|       97.0|           78.0|           76.0|             0.0|Amsterdam|\n",
            "|52.2930796|4.8124534|2024-03-19 14:00:00|14.649999618530273|                64.0|                      0.0|          0.0|         3.0|       88.0|           75.0|           64.0|             0.0|Amsterdam|\n",
            "|52.2930796|4.8124534|2024-03-19 15:00:00|13.449999809265137|                65.0|                      0.0|          0.0|         3.0|       95.0|           43.0|           78.0|            46.0|Amsterdam|\n",
            "|52.2930796|4.8124534|2024-03-19 16:00:00|12.649999618530273|                72.0|                      0.0|          0.0|         3.0|      100.0|           77.0|           93.0|           100.0|Amsterdam|\n",
            "|52.2930796|4.8124534|2024-03-19 17:00:00|11.899999618530273|                74.0|                      0.0|          0.0|         3.0|      100.0|           51.0|           85.0|           100.0|Amsterdam|\n",
            "|52.2930796|4.8124534|2024-03-19 18:00:00|11.100000381469727|                79.0|                      0.0|          0.0|         3.0|      100.0|           21.0|          100.0|           100.0|Amsterdam|\n",
            "|52.2930796|4.8124534|2024-03-19 19:00:00|10.550000190734863|                83.0|                      0.0|          0.0|         3.0|      100.0|           74.0|           74.0|           100.0|Amsterdam|\n",
            "+----------+---------+-------------------+------------------+--------------------+-------------------------+-------------+------------+-----------+---------------+---------------+----------------+---------+\n",
            "only showing top 20 rows\n",
            "\n"
          ]
        }
      ]
    },
    {
      "cell_type": "markdown",
      "source": [
        "# CANVI DE VARIABLES: weather_code"
      ],
      "metadata": {
        "id": "jR-2Vcc1JR32"
      }
    },
    {
      "cell_type": "markdown",
      "source": [
        "Aquesta variable és numèrica, tot i que representa un estat del cel, per tant, canviarem la variable *weather_code* per *weather_description*, una variable que explicarà millor l'estat del cel.\n",
        "\n",
        "> Informació utilitzada: [https://open-meteo.com/en/docs/](https://open-meteo.com/en/docs/)\n",
        "\n",
        "\n",
        "\n"
      ],
      "metadata": {
        "id": "H95rw1tjEHai"
      }
    },
    {
      "cell_type": "code",
      "source": [
        "# Mirem la variable weather_code\n",
        "weather_code_counts = DF.groupBy(\"weather_code\").count()\n",
        "weather_code_counts = weather_code_counts.orderBy(\"weather_code\")\n",
        "weather_code_counts.show()"
      ],
      "metadata": {
        "id": "qrbsLG3pIj1G",
        "colab": {
          "base_uri": "https://localhost:8080/"
        },
        "outputId": "a36b4d8c-b810-47ff-89eb-0a7a10563c5f"
      },
      "execution_count": 16,
      "outputs": [
        {
          "output_type": "stream",
          "name": "stdout",
          "text": [
            "+------------+------+\n",
            "|weather_code| count|\n",
            "+------------+------+\n",
            "|         0.0|225354|\n",
            "|         1.0|166518|\n",
            "|         2.0|244533|\n",
            "|         3.0|719045|\n",
            "|        45.0|  5447|\n",
            "|        51.0|110978|\n",
            "|        53.0| 15782|\n",
            "|        55.0|  4103|\n",
            "|        61.0| 28331|\n",
            "|        63.0|   610|\n",
            "|        80.0| 14756|\n",
            "|        95.0|   543|\n",
            "+------------+------+\n",
            "\n"
          ]
        }
      ]
    },
    {
      "cell_type": "code",
      "source": [
        "# Crear un DataFrame actualizado con la descripción del clima basada en weather_code\n",
        "DF = DF.withColumn(\"weather_description\",\n",
        "    F.when(F.col(\"weather_code\") == 0.0, \"Sense Nuvols\")\n",
        "     .when(F.col(\"weather_code\") == 1.0, \"Nuvols Low\")\n",
        "     .when(F.col(\"weather_code\") == 2.0, \"Nuvols Medium\")\n",
        "     .when(F.col(\"weather_code\") == 3.0, \"Nuvols High\")\n",
        "     .when(F.col(\"weather_code\") == 45.0, \"Boira\")\n",
        "     .when(F.col(\"weather_code\") == 51.0, \"Pluja Low\")\n",
        "     .when((F.col(\"weather_code\") == 53.0) | (F.col(\"weather_code\") == 55.0) | (F.col(\"weather_code\") == 61.0) | (F.col(\"weather_code\") == 63.0), \"Pluja Medium\")\n",
        "     .when(F.col(\"weather_code\") == 80.0, \"Pluja High\")\n",
        "     .when(F.col(\"weather_code\") == 95.0, \"Tempesta\")\n",
        "     .otherwise(\"Desconocido\")\n",
        ")\n",
        "DF = DF.drop(\"weather_code\")"
      ],
      "metadata": {
        "id": "pbm0oSn-JYsm"
      },
      "execution_count": 17,
      "outputs": []
    },
    {
      "cell_type": "code",
      "source": [
        "# Mirem la variable weather_code\n",
        "weather_code_counts = DF.groupBy(\"weather_description\").count()\n",
        "weather_code_counts = weather_code_counts.orderBy(\"weather_description\")\n",
        "weather_code_counts.show()"
      ],
      "metadata": {
        "id": "t6lYKwEUGjsb",
        "colab": {
          "base_uri": "https://localhost:8080/"
        },
        "outputId": "4bb967f1-0fc1-40dc-d858-09becd67008d"
      },
      "execution_count": 18,
      "outputs": [
        {
          "output_type": "stream",
          "name": "stdout",
          "text": [
            "+-------------------+------+\n",
            "|weather_description| count|\n",
            "+-------------------+------+\n",
            "|              Boira|  5447|\n",
            "|        Nuvols High|719045|\n",
            "|         Nuvols Low|166518|\n",
            "|      Nuvols Medium|244533|\n",
            "|         Pluja High| 14756|\n",
            "|          Pluja Low|110978|\n",
            "|       Pluja Medium| 48826|\n",
            "|       Sense Nuvols|225354|\n",
            "|           Tempesta|   543|\n",
            "+-------------------+------+\n",
            "\n"
          ]
        }
      ]
    },
    {
      "cell_type": "markdown",
      "source": [
        "# AGRUPACIÓ DE FILES"
      ],
      "metadata": {
        "id": "mA0bmhINEsUy"
      }
    },
    {
      "cell_type": "markdown",
      "source": [
        "Per tal de simplificar el problema, agruparem els valors per dia/mes/any i no per hora/dia/mes/any. Per fer-ho, algunes columnes seran agrupades per la mitja i altres per la suma."
      ],
      "metadata": {
        "id": "UOuxDfUxRUdQ"
      }
    },
    {
      "cell_type": "code",
      "source": [
        "from pyspark.sql.types import DateType, StringType, MapType, IntegerType"
      ],
      "metadata": {
        "id": "MM3IJIf6Hhhw"
      },
      "execution_count": 19,
      "outputs": []
    },
    {
      "cell_type": "code",
      "source": [
        "# Asegúrate de que 'date' sea solo la fecha si aún no se ha hecho\n",
        "DF = DF.withColumn('date', F.to_date('date'))\n",
        "\n",
        "# Agrupar por 'date', 'latitude', 'longitude' y realizar las agregaciones\n",
        "DF = DF.groupBy('date', 'latitude', 'longitude').agg(\n",
        "    F.first('latitude').alias('avg_latitude'),\n",
        "    F.first('longitude').alias('avg_longitude'),\n",
        "    F.mean('temperature_2m').alias('avg_temperature_2m'),\n",
        "    F.mean('relative_humidity_2m').alias('avg_relative_humidity_2m'),\n",
        "    F.mean('precipitation_probability').alias('avg_precipitation_probability'),\n",
        "    F.sum('precipitation').alias('total_precipitation'),\n",
        "    F.mean('cloud_cover').alias('avg_cloud_cover'),\n",
        "    F.mean('cloud_cover_low').alias('avg_cloud_cover_low'),\n",
        "    F.mean('cloud_cover_mid').alias('avg_cloud_cover_mid'),\n",
        "    F.mean('cloud_cover_high').alias('avg_cloud_cover_high'),\n",
        "    F.first('city').alias('city'),  # Aunque 'city' ya está en el groupBy, lo mantenemos por claridad\n",
        "    F.collect_list('weather_description').alias('weather_descriptions')\n",
        ")"
      ],
      "metadata": {
        "id": "NNiJ_f2BEx_R"
      },
      "execution_count": 20,
      "outputs": []
    },
    {
      "cell_type": "code",
      "source": [
        "def count_descriptions(descriptions):\n",
        "    counts = {}\n",
        "    for desc in descriptions:\n",
        "        counts[desc] = counts.get(desc, 0) + 1\n",
        "    return counts\n",
        "\n",
        "# Registrar la UDF\n",
        "count_descriptions_udf = F.udf(count_descriptions, MapType(StringType(), IntegerType()))\n",
        "\n",
        "# Aplicar la UDF\n",
        "DF = DF.withColumn(\n",
        "    'weather_description_count',\n",
        "    count_descriptions_udf('weather_descriptions')\n",
        ")"
      ],
      "metadata": {
        "id": "QvZGGTthKOI0"
      },
      "execution_count": 21,
      "outputs": []
    },
    {
      "cell_type": "code",
      "source": [
        "print(DF.count())"
      ],
      "metadata": {
        "id": "M_VE1vXPKSc6",
        "colab": {
          "base_uri": "https://localhost:8080/"
        },
        "outputId": "36c8b00a-8763-4c3d-de95-597c5c921307"
      },
      "execution_count": 22,
      "outputs": [
        {
          "output_type": "stream",
          "name": "stdout",
          "text": [
            "64000\n"
          ]
        }
      ]
    },
    {
      "cell_type": "code",
      "source": [
        "DF = DF.select('date', 'city', 'latitude', 'longitude', 'avg_temperature_2m',\n",
        "                     'avg_relative_humidity_2m', 'avg_precipitation_probability',\n",
        "                     'total_precipitation', 'avg_cloud_cover', 'avg_cloud_cover_low',\n",
        "                     'avg_cloud_cover_mid', 'avg_cloud_cover_high', 'weather_description_count')"
      ],
      "metadata": {
        "id": "wN0nG8gzHKex"
      },
      "execution_count": 23,
      "outputs": []
    },
    {
      "cell_type": "code",
      "source": [
        "DF.show()"
      ],
      "metadata": {
        "id": "zfGswsICSxc-",
        "colab": {
          "base_uri": "https://localhost:8080/"
        },
        "outputId": "5ae3c7e4-05cd-408f-f947-2ffe5f8a0d18"
      },
      "execution_count": 24,
      "outputs": [
        {
          "output_type": "stream",
          "name": "stdout",
          "text": [
            "+----------+------+-----------------+------------------+------------------+------------------------+-----------------------------+-------------------+--------------------+--------------------+-------------------+--------------------+-------------------------+\n",
            "|      date|  city|         latitude|         longitude|avg_temperature_2m|avg_relative_humidity_2m|avg_precipitation_probability|total_precipitation|     avg_cloud_cover| avg_cloud_cover_low|avg_cloud_cover_mid|avg_cloud_cover_high|weather_description_count|\n",
            "+----------+------+-----------------+------------------+------------------+------------------------+-----------------------------+-------------------+--------------------+--------------------+-------------------+--------------------+-------------------------+\n",
            "|2024-03-19|Athens|       33.8797677|        -83.456398| 7.064750048021476|                  32.375|                          0.0|                0.0|                 0.0|                 0.0|                0.0|                 0.0|     {Sense Nuvols -> 24}|\n",
            "|2024-03-19|Athens|       33.8797677|-83.44797694736842| 7.149250260554254|                  32.375|                          0.0|                0.0|                 0.0|                 0.0|                0.0|                 0.0|     {Sense Nuvols -> 24}|\n",
            "|2024-03-19|Athens|       33.8797677|-83.43955589473684| 7.190416609868407|                  31.625|                          0.0|                0.0|                 0.0|                 0.0|                0.0|                 0.0|     {Sense Nuvols -> 24}|\n",
            "|2024-03-19|Athens|       33.8797677|-83.43113484210525| 7.164416588842869|                  31.625|                          0.0|                0.0|                 0.0|                 0.0|                0.0|                 0.0|     {Sense Nuvols -> 24}|\n",
            "|2024-03-19|Athens|       33.8797677|-83.40587168421052| 7.304083292993407|      31.083333333333332|                          0.0|                0.0|0.041666666666666664|0.041666666666666664|                0.0|                 0.0|     {Sense Nuvols -> 24}|\n",
            "|2024-03-19|Athens|       33.8797677|-83.38902957894736| 7.427583223208785|      31.083333333333332|                          0.0|                0.0|0.041666666666666664|0.041666666666666664|                0.0|                 0.0|     {Sense Nuvols -> 24}|\n",
            "|2024-03-19|Athens|       33.8797677| -83.3721874736842|  7.39958348001043|      31.958333333333332|                          0.0|                0.0|                0.25|                0.25|                0.0|                 0.0|     {Sense Nuvols -> 24}|\n",
            "|2024-03-19|Athens|       33.8797677|-83.35534536842104| 7.464583328614633|      31.958333333333332|                          0.0|                0.0|                0.25|                0.25|                0.0|                 0.0|     {Sense Nuvols -> 24}|\n",
            "|2024-03-19|Athens|       33.8797677|-83.33008221052631| 7.440583318471909|      31.708333333333332|                          0.0|                0.0|  0.5416666666666666|  0.5416666666666666|                0.0|                 0.0|     {Sense Nuvols -> 24}|\n",
            "|2024-03-19|Athens|       33.8797677|-83.32166115789474| 7.362583255395293|      31.708333333333332|                          0.0|                0.0|  0.5416666666666666|  0.5416666666666666|                0.0|                 0.0|     {Sense Nuvols -> 24}|\n",
            "|2024-03-19|Athens|       33.8797677|-83.30481905263157| 7.317749996980031|                  31.625|                          0.0|                0.0|                0.75|                0.75|                0.0|                 0.0|     {Sense Nuvols -> 24}|\n",
            "|2024-03-19|Athens|33.88818875263158|-83.43955589473684| 7.216416630273064|                  31.625|                          0.0|                0.0|                 0.0|                 0.0|                0.0|                 0.0|     {Sense Nuvols -> 24}|\n",
            "|2024-03-19|Athens|33.88818875263158|-83.43113484210525| 7.138416577130556|                  31.625|                          0.0|                0.0|                 0.0|                 0.0|                0.0|                 0.0|     {Sense Nuvols -> 24}|\n",
            "|2024-03-19|Athens|33.88818875263158|-83.40587168421052|7.2585833339641495|      31.083333333333332|                          0.0|                0.0|0.041666666666666664|0.041666666666666664|                0.0|                 0.0|     {Sense Nuvols -> 24}|\n",
            "|2024-03-19|Athens|33.88818875263158|-83.39745063157895|7.2910834805419045|      31.083333333333332|                          0.0|                0.0|0.041666666666666664|0.041666666666666664|                0.0|                 0.0|     {Sense Nuvols -> 24}|\n",
            "|2024-03-19|Athens|33.88818875263158|-83.38060852631578|7.4600832884510355|      31.083333333333332|                          0.0|                0.0|0.041666666666666664|0.041666666666666664|                0.0|                 0.0|     {Sense Nuvols -> 24}|\n",
            "|2024-03-19|Athens|33.88818875263158|-83.35534536842104| 7.393083434551954|      31.958333333333332|                          0.0|                0.0|                0.25|                0.25|                0.0|                 0.0|     {Sense Nuvols -> 24}|\n",
            "|2024-03-19|Athens|33.88818875263158|-83.33850326315789| 7.203083311052372|      32.541666666666664|                          0.0|                0.0|0.041666666666666664|0.041666666666666664|                0.0|                 0.0|     {Sense Nuvols -> 24}|\n",
            "|2024-03-19|Athens|33.88818875263158|-83.32166115789474|  7.18358333564053|      32.541666666666664|                          0.0|                0.0|0.041666666666666664|0.041666666666666664|                0.0|                 0.0|     {Sense Nuvols -> 24}|\n",
            "|2024-03-19|Athens|33.88818875263158|-83.31324010526315|  7.20958335371688|      32.541666666666664|                          0.0|                0.0|0.041666666666666664|0.041666666666666664|                0.0|                 0.0|     {Sense Nuvols -> 24}|\n",
            "+----------+------+-----------------+------------------+------------------+------------------------+-----------------------------+-------------------+--------------------+--------------------+-------------------+--------------------+-------------------------+\n",
            "only showing top 20 rows\n",
            "\n"
          ]
        }
      ]
    },
    {
      "cell_type": "markdown",
      "source": [
        "Un cop tenim les files agrupades per dia/mes/any, ens hem d'asegurar de mantenir correctament l'estat del cel a la variable *weather_description_count*.\n",
        "\n",
        "Per fer-ho, aplicarem una funció per tal de crear un *string* que defineixi l'estat del cel."
      ],
      "metadata": {
        "id": "QFVY1c-aonfl"
      }
    },
    {
      "cell_type": "code",
      "source": [
        "def estat_cel(description_map):\n",
        "    conditions = {\n",
        "        \"Sense Nuvols\": (\"Despejado\", 10),\n",
        "        \"Nuvols Low\": (\"Poco nublado\", 6),\n",
        "        \"Nuvols Medium\": (\"Parcialmente nublado\", 6),\n",
        "        \"Nuvols High\": (\"Nublado\", 6),\n",
        "        \"Pluja Low\": (\"Lloviznas\", 4),\n",
        "        \"Pluja Medium\": (\"Lluvias moderadas\", 4),\n",
        "        \"Pluja High\": (\"Lluvias intensas\", 4),\n",
        "        \"Boira\": (\"Niebla\", 3),\n",
        "        \"Tempesta\": (\"Tormenta\", 1)\n",
        "    }\n",
        "\n",
        "    descriptions = []\n",
        "    for key, (label, threshold) in conditions.items():\n",
        "        if description_map.get(key, 0) > threshold:\n",
        "            descriptions.append(label)\n",
        "\n",
        "    if not descriptions:\n",
        "        # Si no se cumple ninguna condición, asignamos la condición con el mayor conteo\n",
        "        # que sea relevante pero no alcanzó el umbral\n",
        "        highest_count = max(description_map.items(), key=lambda x: x[1])\n",
        "        if highest_count[1] > 0:\n",
        "            descriptions.append(conditions.get(highest_count[0], (highest_count[0], 0))[0])\n",
        "        else:\n",
        "            descriptions.append(\"Condición no específica\")\n",
        "\n",
        "    return ', '.join(descriptions)\n",
        "\n",
        "# Registrar la UDF en Spark\n",
        "estat_cel_udf = F.udf(estat_cel, StringType())\n",
        "\n",
        "# Crear una nueva columna usando la UDF\n",
        "DF = DF.withColumn(\"estat_cel\", estat_cel_udf(\"weather_description_count\"))"
      ],
      "metadata": {
        "id": "TP9Nbl5zcOHf"
      },
      "execution_count": 25,
      "outputs": []
    },
    {
      "cell_type": "code",
      "source": [
        "# Mirem la variable estat_cel\n",
        "estat_cel_counts = DF.groupBy(\"estat_cel\").count()\n",
        "estat_cel_counts = estat_cel_counts.orderBy(\"estat_cel\")\n",
        "estat_cel_counts.show(truncate=False, n=50)"
      ],
      "metadata": {
        "id": "LJJRjkemVQVQ",
        "colab": {
          "base_uri": "https://localhost:8080/"
        },
        "outputId": "fe5c1c6b-8b29-4144-e88a-9914ad02c7d1"
      },
      "execution_count": 26,
      "outputs": [
        {
          "output_type": "stream",
          "name": "stdout",
          "text": [
            "+-----------------------------------------------+-----+\n",
            "|estat_cel                                      |count|\n",
            "+-----------------------------------------------+-----+\n",
            "|Despejado                                      |5156 |\n",
            "|Despejado, Nublado                             |1533 |\n",
            "|Despejado, Poco nublado                        |584  |\n",
            "|Lloviznas                                      |3013 |\n",
            "|Lloviznas, Lluvias moderadas                   |617  |\n",
            "|Lloviznas, Niebla                              |5    |\n",
            "|Lluvias intensas                               |342  |\n",
            "|Lluvias moderadas                              |160  |\n",
            "|Nublado                                        |28028|\n",
            "|Nublado, Lloviznas                             |4485 |\n",
            "|Nublado, Lloviznas, Lluvias intensas           |2    |\n",
            "|Nublado, Lloviznas, Lluvias moderadas          |539  |\n",
            "|Nublado, Lluvias intensas                      |326  |\n",
            "|Nublado, Lluvias moderadas                     |2684 |\n",
            "|Nublado, Niebla                                |170  |\n",
            "|Nublado, Tormenta                              |181  |\n",
            "|Parcialmente nublado                           |3278 |\n",
            "|Parcialmente nublado, Lloviznas                |159  |\n",
            "|Parcialmente nublado, Lluvias intensas         |418  |\n",
            "|Parcialmente nublado, Niebla                   |14   |\n",
            "|Parcialmente nublado, Nublado                  |6334 |\n",
            "|Parcialmente nublado, Nublado, Lloviznas       |36   |\n",
            "|Parcialmente nublado, Nublado, Lluvias intensas|21   |\n",
            "|Parcialmente nublado, Nublado, Niebla          |197  |\n",
            "|Poco nublado                                   |3306 |\n",
            "|Poco nublado, Lloviznas                        |99   |\n",
            "|Poco nublado, Lluvias moderadas                |204  |\n",
            "|Poco nublado, Niebla                           |225  |\n",
            "|Poco nublado, Nublado                          |1196 |\n",
            "|Poco nublado, Nublado, Lluvias moderadas       |140  |\n",
            "|Poco nublado, Parcialmente nublado             |360  |\n",
            "|Poco nublado, Parcialmente nublado, Nublado    |188  |\n",
            "+-----------------------------------------------+-----+\n",
            "\n"
          ]
        }
      ]
    },
    {
      "cell_type": "markdown",
      "source": [
        "Tot i això, veiem que hi ha moltes files que es repeteixen o son inconsistents:\n",
        "\n",
        "*   *Parcialmente nublado, Nublado, Lluvias intensas*\n",
        "\n",
        "En aquests casos, decidirem si el cel esta parcialment nuvolat o nuvolat."
      ],
      "metadata": {
        "id": "gkOVUFTdpWTm"
      }
    },
    {
      "cell_type": "code",
      "source": [
        "# Diccionario de reemplazos\n",
        "replacements = {\n",
        "    \"Despejado, Nublado\": \"Parcialmente nublado\",\n",
        "    \"Despejado, Poco nublado\": \"Parcialmente nublado\",\n",
        "    \"Lloviznas, Lluvias moderadas\": \"Lluvias ligeras\",\n",
        "    \"Nublado, Lloviznas, Lluvias intensas\": \"Nublado, Lluvias moderadas\",\n",
        "    \"Nublado, Lloviznas, Lluvias moderadas\": \"Nublado, Lluvias moderadas\",\n",
        "    \"Poco nublado\": \"Parcialmente nublado\",\n",
        "    \"Poco nublado, Lloviznas\": \"Parcialmente nublado, Lloviznas\",\n",
        "    \"Poco nublado, Lluvias moderadas\": \"Parcialmente nublado, Lluvias moderadas\",\n",
        "    \"Poco nublado, Niebla\": \"Parcialmente nublado, Niebla\",\n",
        "    \"Poco nublado, Nublado\": \"Parcialmente nublado\",\n",
        "    \"Poco nublado, Nublado, Lluvias moderadas\": \"Nublado, Lluvias moderadas\",\n",
        "    \"Poco nublado, Parcialmente nublado\": \"Parcialmente nublado\",\n",
        "    \"Poco nublado, Parcialmente nublado, Nublado\": \"Parcialmente nublado\",\n",
        "    \"Parcialmente nublado, Nublado\": \"Parcialmente nublado\",\n",
        "    \"Parcialmente nublado, Nublado, Lloviznas\": \"Parcialmente nublado, Lloviznas\",\n",
        "    \"Parcialmente nublado, Nublado, Lluvias intensas\": \"Nublado, Lluvias intensas\",\n",
        "    \"Parcialmente nublado, Nublado, Niebla\": \"Nublado, Niebla\"\n",
        "}\n",
        "\n",
        "# Crear una columna condicional usando when-otherwise\n",
        "replacement_expr = F.col(\"estat_cel\")  # comienza con la columna original\n",
        "for key, value in replacements.items():\n",
        "    replacement_expr = F.when(F.col(\"estat_cel\") == key, value).otherwise(replacement_expr)\n",
        "\n",
        "# Aplicar la transformación al DataFrame\n",
        "DF = DF.withColumn(\"estat_cel\", replacement_expr)\n",
        "\n",
        "DF = DF.drop(\"weather_description_count\")"
      ],
      "metadata": {
        "id": "ZIOFBbvgk_0O"
      },
      "execution_count": 27,
      "outputs": []
    },
    {
      "cell_type": "code",
      "source": [
        "# Mirem la variable estat_cel\n",
        "estat_cel_counts = DF.groupBy(\"estat_cel\").count()\n",
        "estat_cel_counts = estat_cel_counts.orderBy(\"estat_cel\")\n",
        "estat_cel_counts.show(truncate=False, n=30)"
      ],
      "metadata": {
        "id": "LHFCO_oVnxbl",
        "colab": {
          "base_uri": "https://localhost:8080/"
        },
        "outputId": "f9e0dea4-4a3d-4c5c-8b60-4bfd870d0636"
      },
      "execution_count": 28,
      "outputs": [
        {
          "output_type": "stream",
          "name": "stdout",
          "text": [
            "+---------------------------------------+-----+\n",
            "|estat_cel                              |count|\n",
            "+---------------------------------------+-----+\n",
            "|Despejado                              |5156 |\n",
            "|Lloviznas                              |3013 |\n",
            "|Lloviznas, Niebla                      |5    |\n",
            "|Lluvias intensas                       |342  |\n",
            "|Lluvias ligeras                        |617  |\n",
            "|Lluvias moderadas                      |160  |\n",
            "|Nublado                                |28028|\n",
            "|Nublado, Lloviznas                     |4485 |\n",
            "|Nublado, Lluvias intensas              |347  |\n",
            "|Nublado, Lluvias moderadas             |3365 |\n",
            "|Nublado, Niebla                        |367  |\n",
            "|Nublado, Tormenta                      |181  |\n",
            "|Parcialmente nublado                   |16779|\n",
            "|Parcialmente nublado, Lloviznas        |294  |\n",
            "|Parcialmente nublado, Lluvias intensas |418  |\n",
            "|Parcialmente nublado, Lluvias moderadas|204  |\n",
            "|Parcialmente nublado, Niebla           |239  |\n",
            "+---------------------------------------+-----+\n",
            "\n"
          ]
        }
      ]
    },
    {
      "cell_type": "code",
      "source": [
        "DF.show()"
      ],
      "metadata": {
        "id": "bKgm1jPFqcsQ",
        "colab": {
          "base_uri": "https://localhost:8080/"
        },
        "outputId": "960f1386-c301-497f-a4c8-b88b4aabd010"
      },
      "execution_count": 29,
      "outputs": [
        {
          "output_type": "stream",
          "name": "stdout",
          "text": [
            "+----------+------+-----------------+------------------+------------------+------------------------+-----------------------------+-------------------+--------------------+--------------------+-------------------+--------------------+---------+\n",
            "|      date|  city|         latitude|         longitude|avg_temperature_2m|avg_relative_humidity_2m|avg_precipitation_probability|total_precipitation|     avg_cloud_cover| avg_cloud_cover_low|avg_cloud_cover_mid|avg_cloud_cover_high|estat_cel|\n",
            "+----------+------+-----------------+------------------+------------------+------------------------+-----------------------------+-------------------+--------------------+--------------------+-------------------+--------------------+---------+\n",
            "|2024-03-19|Athens|       33.8797677|        -83.456398| 7.064750048021476|                  32.375|                          0.0|                0.0|                 0.0|                 0.0|                0.0|                 0.0|Despejado|\n",
            "|2024-03-19|Athens|       33.8797677|-83.44797694736842| 7.149250260554254|                  32.375|                          0.0|                0.0|                 0.0|                 0.0|                0.0|                 0.0|Despejado|\n",
            "|2024-03-19|Athens|       33.8797677|-83.43955589473684| 7.190416609868407|                  31.625|                          0.0|                0.0|                 0.0|                 0.0|                0.0|                 0.0|Despejado|\n",
            "|2024-03-19|Athens|       33.8797677|-83.43113484210525| 7.164416588842869|                  31.625|                          0.0|                0.0|                 0.0|                 0.0|                0.0|                 0.0|Despejado|\n",
            "|2024-03-19|Athens|       33.8797677|-83.40587168421052| 7.304083292993407|      31.083333333333332|                          0.0|                0.0|0.041666666666666664|0.041666666666666664|                0.0|                 0.0|Despejado|\n",
            "|2024-03-19|Athens|       33.8797677|-83.38902957894736| 7.427583223208785|      31.083333333333332|                          0.0|                0.0|0.041666666666666664|0.041666666666666664|                0.0|                 0.0|Despejado|\n",
            "|2024-03-19|Athens|       33.8797677| -83.3721874736842|  7.39958348001043|      31.958333333333332|                          0.0|                0.0|                0.25|                0.25|                0.0|                 0.0|Despejado|\n",
            "|2024-03-19|Athens|       33.8797677|-83.35534536842104| 7.464583328614633|      31.958333333333332|                          0.0|                0.0|                0.25|                0.25|                0.0|                 0.0|Despejado|\n",
            "|2024-03-19|Athens|       33.8797677|-83.33008221052631| 7.440583318471909|      31.708333333333332|                          0.0|                0.0|  0.5416666666666666|  0.5416666666666666|                0.0|                 0.0|Despejado|\n",
            "|2024-03-19|Athens|       33.8797677|-83.32166115789474| 7.362583255395293|      31.708333333333332|                          0.0|                0.0|  0.5416666666666666|  0.5416666666666666|                0.0|                 0.0|Despejado|\n",
            "|2024-03-19|Athens|       33.8797677|-83.30481905263157| 7.317749996980031|                  31.625|                          0.0|                0.0|                0.75|                0.75|                0.0|                 0.0|Despejado|\n",
            "|2024-03-19|Athens|33.88818875263158|-83.43955589473684| 7.216416630273064|                  31.625|                          0.0|                0.0|                 0.0|                 0.0|                0.0|                 0.0|Despejado|\n",
            "|2024-03-19|Athens|33.88818875263158|-83.43113484210525| 7.138416577130556|                  31.625|                          0.0|                0.0|                 0.0|                 0.0|                0.0|                 0.0|Despejado|\n",
            "|2024-03-19|Athens|33.88818875263158|-83.40587168421052|7.2585833339641495|      31.083333333333332|                          0.0|                0.0|0.041666666666666664|0.041666666666666664|                0.0|                 0.0|Despejado|\n",
            "|2024-03-19|Athens|33.88818875263158|-83.39745063157895|7.2910834805419045|      31.083333333333332|                          0.0|                0.0|0.041666666666666664|0.041666666666666664|                0.0|                 0.0|Despejado|\n",
            "|2024-03-19|Athens|33.88818875263158|-83.38060852631578|7.4600832884510355|      31.083333333333332|                          0.0|                0.0|0.041666666666666664|0.041666666666666664|                0.0|                 0.0|Despejado|\n",
            "|2024-03-19|Athens|33.88818875263158|-83.35534536842104| 7.393083434551954|      31.958333333333332|                          0.0|                0.0|                0.25|                0.25|                0.0|                 0.0|Despejado|\n",
            "|2024-03-19|Athens|33.88818875263158|-83.33850326315789| 7.203083311052372|      32.541666666666664|                          0.0|                0.0|0.041666666666666664|0.041666666666666664|                0.0|                 0.0|Despejado|\n",
            "|2024-03-19|Athens|33.88818875263158|-83.32166115789474|  7.18358333564053|      32.541666666666664|                          0.0|                0.0|0.041666666666666664|0.041666666666666664|                0.0|                 0.0|Despejado|\n",
            "|2024-03-19|Athens|33.88818875263158|-83.31324010526315|  7.20958335371688|      32.541666666666664|                          0.0|                0.0|0.041666666666666664|0.041666666666666664|                0.0|                 0.0|Despejado|\n",
            "+----------+------+-----------------+------------------+------------------+------------------------+-----------------------------+-------------------+--------------------+--------------------+-------------------+--------------------+---------+\n",
            "only showing top 20 rows\n",
            "\n"
          ]
        }
      ]
    }
  ],
  "metadata": {
    "language_info": {
      "name": "python"
    },
    "colab": {
      "provenance": []
    },
    "kernelspec": {
      "name": "python3",
      "display_name": "Python 3"
    }
  },
  "nbformat": 4,
  "nbformat_minor": 0
}