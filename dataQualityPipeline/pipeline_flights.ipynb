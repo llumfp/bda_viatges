{
  "nbformat": 4,
  "nbformat_minor": 0,
  "metadata": {
    "colab": {
      "provenance": []
    },
    "kernelspec": {
      "name": "python3",
      "display_name": "Python 3"
    },
    "language_info": {
      "name": "python"
    }
  },
  "cells": [
    {
      "cell_type": "code",
      "execution_count": null,
      "metadata": {
        "colab": {
          "base_uri": "https://localhost:8080/"
        },
        "id": "Q995YKSTjvz8",
        "outputId": "732b0f48-b394-474e-a39d-8f4a19e553bf"
      },
      "outputs": [
        {
          "output_type": "stream",
          "name": "stdout",
          "text": [
            "Requirement already satisfied: duckdb in /usr/local/lib/python3.10/dist-packages (0.10.1)\n",
            "Requirement already satisfied: pandas in /usr/local/lib/python3.10/dist-packages (2.0.3)\n",
            "Collecting pandas\n",
            "  Downloading pandas-2.2.2-cp310-cp310-manylinux_2_17_x86_64.manylinux2014_x86_64.whl (13.0 MB)\n",
            "\u001b[2K     \u001b[90m━━━━━━━━━━━━━━━━━━━━━━━━━━━━━━━━━━━━━━━━\u001b[0m \u001b[32m13.0/13.0 MB\u001b[0m \u001b[31m28.2 MB/s\u001b[0m eta \u001b[36m0:00:00\u001b[0m\n",
            "\u001b[?25hRequirement already satisfied: numpy>=1.22.4 in /usr/local/lib/python3.10/dist-packages (from pandas) (1.25.2)\n",
            "Requirement already satisfied: python-dateutil>=2.8.2 in /usr/local/lib/python3.10/dist-packages (from pandas) (2.8.2)\n",
            "Requirement already satisfied: pytz>=2020.1 in /usr/local/lib/python3.10/dist-packages (from pandas) (2023.4)\n",
            "Requirement already satisfied: tzdata>=2022.7 in /usr/local/lib/python3.10/dist-packages (from pandas) (2024.1)\n",
            "Requirement already satisfied: six>=1.5 in /usr/local/lib/python3.10/dist-packages (from python-dateutil>=2.8.2->pandas) (1.16.0)\n",
            "Installing collected packages: pandas\n",
            "  Attempting uninstall: pandas\n",
            "    Found existing installation: pandas 2.0.3\n",
            "    Uninstalling pandas-2.0.3:\n",
            "      Successfully uninstalled pandas-2.0.3\n",
            "\u001b[31mERROR: pip's dependency resolver does not currently take into account all the packages that are installed. This behaviour is the source of the following dependency conflicts.\n",
            "google-colab 1.0.0 requires pandas==2.0.3, but you have pandas 2.2.2 which is incompatible.\u001b[0m\u001b[31m\n",
            "\u001b[0mSuccessfully installed pandas-2.2.2\n"
          ]
        }
      ],
      "source": [
        "!pip install --upgrade duckdb pandas"
      ]
    },
    {
      "cell_type": "code",
      "source": [
        "!pip install pyspark"
      ],
      "metadata": {
        "colab": {
          "base_uri": "https://localhost:8080/"
        },
        "id": "nsqu_GewkySR",
        "outputId": "936d67ca-3952-4ce3-d570-42bdc1928e25"
      },
      "execution_count": null,
      "outputs": [
        {
          "output_type": "stream",
          "name": "stdout",
          "text": [
            "Collecting pyspark\n",
            "  Downloading pyspark-3.5.1.tar.gz (317.0 MB)\n",
            "\u001b[2K     \u001b[90m━━━━━━━━━━━━━━━━━━━━━━━━━━━━━━━━━━━━━━━━\u001b[0m \u001b[32m317.0/317.0 MB\u001b[0m \u001b[31m3.3 MB/s\u001b[0m eta \u001b[36m0:00:00\u001b[0m\n",
            "\u001b[?25h  Preparing metadata (setup.py) ... \u001b[?25l\u001b[?25hdone\n",
            "Requirement already satisfied: py4j==0.10.9.7 in /usr/local/lib/python3.10/dist-packages (from pyspark) (0.10.9.7)\n",
            "Building wheels for collected packages: pyspark\n",
            "  Building wheel for pyspark (setup.py) ... \u001b[?25l\u001b[?25hdone\n",
            "  Created wheel for pyspark: filename=pyspark-3.5.1-py2.py3-none-any.whl size=317488491 sha256=c7d9b83354269c82bc04fd7d042d81917ccbf41348f26f67e1b19c63dfd958e9\n",
            "  Stored in directory: /root/.cache/pip/wheels/80/1d/60/2c256ed38dddce2fdd93be545214a63e02fbd8d74fb0b7f3a6\n",
            "Successfully built pyspark\n",
            "Installing collected packages: pyspark\n",
            "Successfully installed pyspark-3.5.1\n"
          ]
        }
      ]
    },
    {
      "cell_type": "code",
      "source": [
        "# We should have the same version (0.10.1) of duckdb to load the database without any problem:\n",
        "!pip show duckdb"
      ],
      "metadata": {
        "colab": {
          "base_uri": "https://localhost:8080/"
        },
        "id": "1Vh7oiS_kIWl",
        "outputId": "19562bca-63b4-40b0-ce80-b58040de8069"
      },
      "execution_count": null,
      "outputs": [
        {
          "output_type": "stream",
          "name": "stdout",
          "text": [
            "Name: duckdb\n",
            "Version: 0.10.1\n",
            "Summary: DuckDB in-process database\n",
            "Home-page: https://www.duckdb.org\n",
            "Author: \n",
            "Author-email: \n",
            "License: MIT\n",
            "Location: /usr/local/lib/python3.10/dist-packages\n",
            "Requires: \n",
            "Required-by: malloy\n"
          ]
        }
      ]
    },
    {
      "cell_type": "code",
      "source": [
        "!wget -O \"duckdb.jar\" \"https://repo1.maven.org/maven2/org/duckdb/duckdb_jdbc/0.10.1/duckdb_jdbc-0.10.1.jar\""
      ],
      "metadata": {
        "colab": {
          "base_uri": "https://localhost:8080/"
        },
        "id": "XsCBwBA2kCPd",
        "outputId": "1a58c107-858b-43ac-ec57-72b96521447f"
      },
      "execution_count": null,
      "outputs": [
        {
          "output_type": "stream",
          "name": "stdout",
          "text": [
            "--2024-04-16 15:46:22--  https://repo1.maven.org/maven2/org/duckdb/duckdb_jdbc/0.10.1/duckdb_jdbc-0.10.1.jar\n",
            "Resolving repo1.maven.org (repo1.maven.org)... 199.232.192.209, 199.232.196.209, 2a04:4e42:4c::209, ...\n",
            "Connecting to repo1.maven.org (repo1.maven.org)|199.232.192.209|:443... connected.\n",
            "HTTP request sent, awaiting response... 200 OK\n",
            "Length: 64009472 (61M) [application/java-archive]\n",
            "Saving to: ‘duckdb.jar’\n",
            "\n",
            "duckdb.jar          100%[===================>]  61.04M   192MB/s    in 0.3s    \n",
            "\n",
            "2024-04-16 15:46:23 (192 MB/s) - ‘duckdb.jar’ saved [64009472/64009472]\n",
            "\n"
          ]
        }
      ]
    },
    {
      "cell_type": "code",
      "source": [
        "import duckdb\n",
        "\n",
        "# Conectar a la base de datos DuckDB\n",
        "conn = duckdb.connect(database='database_new.duckdb', read_only=True)\n",
        "\n",
        "# Ejecutar una consulta para obtener la estructura de la tabla 'flights'\n",
        "query = \"PRAGMA table_info('flights')\"\n",
        "table_info = conn.execute(query).fetchall()\n",
        "\n",
        "# Imprimir información de cada columna\n",
        "for column in table_info:\n",
        "    print(f\"Column Name: {column[1]}, Data Type: {column[2]}\")\n",
        "\n",
        "# Cerrar la conexión\n",
        "conn.close()\n"
      ],
      "metadata": {
        "colab": {
          "base_uri": "https://localhost:8080/"
        },
        "id": "qxEap4yho0YT",
        "outputId": "d7ec1d50-047b-4d9b-e5ae-fb65fb758403"
      },
      "execution_count": null,
      "outputs": [
        {
          "output_type": "stream",
          "name": "stdout",
          "text": [
            "Column Name: airport_acronym, Data Type: VARCHAR\n",
            "Column Name: longitude, Data Type: DOUBLE\n",
            "Column Name: latitude, Data Type: DOUBLE\n",
            "Column Name: city, Data Type: VARCHAR\n",
            "Column Name: flight_number_default, Data Type: VARCHAR\n",
            "Column Name: estimated_arrival_time, Data Type: VARCHAR\n",
            "Column Name: estimated_departure_time, Data Type: VARCHAR\n",
            "Column Name: real_arrival_time, Data Type: VARCHAR\n",
            "Column Name: real_departure_time, Data Type: VARCHAR\n",
            "Column Name: scheduled_arrival_time, Data Type: VARCHAR\n",
            "Column Name: scheduled_departure_time, Data Type: VARCHAR\n",
            "Column Name: owner_name, Data Type: VARCHAR\n",
            "Column Name: owner_logo, Data Type: VARCHAR\n",
            "Column Name: destination_gate, Data Type: VARCHAR\n",
            "Column Name: destination_terminal, Data Type: VARCHAR\n",
            "Column Name: destination_baggage, Data Type: VARCHAR\n",
            "Column Name: origin_name, Data Type: VARCHAR\n",
            "Column Name: origin_city, Data Type: VARCHAR\n",
            "Column Name: origin_latitude, Data Type: VARCHAR\n",
            "Column Name: origin_longitude, Data Type: VARCHAR\n",
            "Column Name: origin_gate, Data Type: VARCHAR\n",
            "Column Name: origin_terminal, Data Type: VARCHAR\n",
            "Column Name: flight_status_live, Data Type: VARCHAR\n"
          ]
        }
      ]
    },
    {
      "cell_type": "code",
      "source": [
        "from pyspark.sql import SparkSession\n",
        "\n",
        "spark = SparkSession.builder\\\n",
        "    .config(\"spark.jars\", \"duckdb.jar\") \\\n",
        "    .getOrCreate()\n",
        "\n",
        "DF = spark.read \\\n",
        "  .format(\"jdbc\") \\\n",
        "  .option(\"url\", \"jdbc:duckdb:database_new.duckdb\") \\\n",
        "  .option(\"driver\", \"org.duckdb.DuckDBDriver\") \\\n",
        "  .option(\"query\", \"SELECT * FROM flights\") \\\n",
        "  .load()\n",
        "\n",
        "DF.show()"
      ],
      "metadata": {
        "colab": {
          "base_uri": "https://localhost:8080/"
        },
        "id": "YKZTwC0okFVI",
        "outputId": "05f83109-71f6-46dd-cd71-da4790dd3c97"
      },
      "execution_count": null,
      "outputs": [
        {
          "output_type": "stream",
          "name": "stdout",
          "text": [
            "+---------------+---------+---------+---------+---------------------+----------------------+------------------------+-----------------+-------------------+----------------------+------------------------+--------------------+--------------------+----------------+--------------------+-------------------+--------------------+-----------+---------------+----------------+-----------+---------------+------------------+\n",
            "|airport_acronym|longitude| latitude|     city|flight_number_default|estimated_arrival_time|estimated_departure_time|real_arrival_time|real_departure_time|scheduled_arrival_time|scheduled_departure_time|          owner_name|          owner_logo|destination_gate|destination_terminal|destination_baggage|         origin_name|origin_city|origin_latitude|origin_longitude|origin_gate|origin_terminal|flight_status_live|\n",
            "+---------------+---------+---------+---------+---------------------+----------------------+------------------------+-----------------+-------------------+----------------------+------------------------+--------------------+--------------------+----------------+--------------------+-------------------+--------------------+-----------+---------------+----------------+-----------+---------------+------------------+\n",
            "|           EHAM| 4.763889|52.308609|Amsterdam|                OS373|                  NULL|                    NULL|       1711034744|         1711029233|            1711035900|              1711029000|   Austrian Airlines|https://images.fl...|            NULL|                   1|               NULL|Vienna Internatio...|     Vienna|      48.110271|       16.569719|        F26|              3|             false|\n",
            "|           EHAM| 4.763889|52.308609|Amsterdam|               KL1920|            1711036170|                    NULL|             NULL|         1711031577|            1711035900|              1711028700|      KLM Cityhopper|https://images.fl...|             A04|                   2|                010|Gdansk Lech Wales...|     Gdansk|      54.376484|        18.47064|         16|           NULL|              true|\n",
            "|           EHAM| 4.763889|52.308609|Amsterdam|               LH2306|            1711038464|                    NULL|             NULL|         1711035404|            1711036200|              1711030500|  Lufthansa CityLine|                NULL|            NULL|                   1|               NULL|      Munich Airport|     Munich|      48.353779|        11.78608|        G11|              2|              true|\n",
            "|           EHAM| 4.763889|52.308609|Amsterdam|               SK1549|            1711037440|                    NULL|             NULL|         1711033861|            1711036200|              1711031100|            SAS Link|https://images.fl...|            NULL|                   1|               NULL|  Copenhagen Airport| Copenhagen|      55.616959|       12.645637|        B15|              3|              true|\n",
            "|           EHAM| 4.763889|52.308609|Amsterdam|                 NULL|                  NULL|              1711035600|             NULL|               NULL|            1711036320|              1711035000|                NULL|                NULL|            NULL|                NULL|               NULL|Gilze Rijen Air Base|      Breda|      51.567402|         4.93183|       NULL|           NULL|             false|\n",
            "|           EHAM| 4.763889|52.308609|Amsterdam|               HV5582|            1711036680|                    NULL|             NULL|         1711030530|            1711036500|              1711029000|           Transavia|                NULL|            NULL|                   1|               NULL|Nice Cote d'Azur ...|       Nice|      43.661453|         7.21736|          G|              1|              true|\n",
            "|           EHAM| 4.763889|52.308609|Amsterdam|               TK1953|            1711035810|                    NULL|             NULL|         1711024812|            1711036500|              1711023300|    Turkish Airlines|https://images.fl...|            NULL|                   3|               NULL|    Istanbul Airport|   Istanbul|      41.267052|       28.729757|        A1H|           NULL|              true|\n",
            "|           EHAM| 4.763889|52.308609|Amsterdam|                TP672|            1711037060|                    NULL|             NULL|         1711027289|            1711036800|              1711026000|    TAP Air Portugal|https://images.fl...|            NULL|                   1|               NULL|Lisbon Humberto D...|     Lisbon|      38.781311|        -9.13591|       NULL|              1|              true|\n",
            "|           EHAM| 4.763889|52.308609|Amsterdam|                AZ110|            1711036280|                    NULL|             NULL|         1711029076|            1711037700|              1711028400|         ITA Airways|https://images.fl...|            NULL|                   1|               NULL|Rome Leonardo da ...|       Rome|       41.80447|        12.25079|       NULL|              1|              true|\n",
            "|           EHAM| 4.763889|52.308609|Amsterdam|               KL1944|            1711038080|                    NULL|             NULL|         1711031954|            1711037700|              1711029900|      KLM Cityhopper|https://images.fl...|             A04|                   2|                009|Zagreb Franjo Tud...|     Zagreb|      45.742931|       16.068769|        G12|           NULL|              true|\n",
            "|           EHAM| 4.763889|52.308609|Amsterdam|                MU771|            1711036410|                    NULL|             NULL|         1710995703|            1711037700|              1710993900|China Eastern Air...|https://images.fl...|              E9|                   3|                 16|Shanghai Pudong I...|   Shanghai|       31.14337|      121.805199|          K|              1|              true|\n",
            "|           EHAM| 4.763889|52.308609|Amsterdam|               U28683|            1711035910|                    NULL|             NULL|         1711033470|            1711037700|              1711032900|             easyJet|https://images.fl...|            NULL|                NULL|               NULL|London Gatwick Ai...|     London|      51.148048|        -0.19027|        107|              N|              true|\n",
            "|           EHAM| 4.763889|52.308609|Amsterdam|                KE925|            1711038080|                    NULL|             NULL|         1710988510|            1711037700|              1710987000|          Korean Air|https://images.fl...|            NULL|                   3|               NULL|Seoul Incheon Int...|      Seoul|       37.46907|        126.4505|        255|              2|              true|\n",
            "|           EHAM| 4.763889|52.308609|Amsterdam|                KL898|            1711039104|                    NULL|             NULL|         1710994793|            1711038000|              1710993000|                 KLM|https://images.fl...|              F7|                   2|                 12|Beijing Capital I...|    Beijing|      40.084152|      116.592735|          8|              2|              true|\n",
            "|           EHAM| 4.763889|52.308609|Amsterdam|               U22519|            1711037056|                    NULL|             NULL|         1711034307|            1711038000|              1711033800|             easyJet|https://images.fl...|            NULL|                NULL|               NULL|London Luton Airport|     London|      51.874722|        -0.36833|         14|           NULL|              true|\n",
            "|           EHAM| 4.763889|52.308609|Amsterdam|               U27842|            1711037184|                    NULL|             NULL|         1711035368|            1711038600|              1711034400|      easyJet Europe|https://images.fl...|            NULL|                NULL|               NULL|London Stansted A...|     London|      51.884998|           0.235|       NULL|              1|              true|\n",
            "|           EHAM| 4.763889|52.308609|Amsterdam|                KL862|            1711037570|                    NULL|             NULL|         1710989262|            1711038600|              1710988200|                 KLM|https://images.fl...|              F4|                   3|                 15|Tokyo Narita Inte...|      Tokyo|      35.764721|      140.386307|         17|              1|              true|\n",
            "|           EHAM| 4.763889|52.308609|Amsterdam|                KL868|            1711037120|                    NULL|             NULL|         1710987855|            1711038600|              1710986700|                 KLM|https://images.fl...|             E17|                   2|                  8|Osaka Kansai Inte...|      Osaka|      34.427299|      135.244003|         21|              1|              true|\n",
            "|           EHAM| 4.763889|52.308609|Amsterdam|               UX1093|            1711039616|                    NULL|             NULL|         1711031860|            1711038900|              1711029600|          Air Europa|https://images.fl...|            NULL|                   1|               NULL|Madrid Barajas Ai...|     Madrid|      40.488701|           -3.57|        E72|              3|              true|\n",
            "|           EHAM| 4.763889|52.308609|Amsterdam|               BA8455|            1711037568|                    NULL|             NULL|         1711035092|            1711038900|              1711035000|        BA CityFlyer|                NULL|            NULL|                   1|                 02| London City Airport|     London|      51.505268|        0.055278|       NULL|           NULL|              true|\n",
            "+---------------+---------+---------+---------+---------------------+----------------------+------------------------+-----------------+-------------------+----------------------+------------------------+--------------------+--------------------+----------------+--------------------+-------------------+--------------------+-----------+---------------+----------------+-----------+---------------+------------------+\n",
            "only showing top 20 rows\n",
            "\n"
          ]
        }
      ]
    },
    {
      "cell_type": "markdown",
      "source": [
        "## Preprocessing"
      ],
      "metadata": {
        "id": "6ZGFAk3QsiaJ"
      }
    },
    {
      "cell_type": "code",
      "source": [
        "from pyspark.sql import functions as F"
      ],
      "metadata": {
        "id": "u0ZgHVY5skbF"
      },
      "execution_count": null,
      "outputs": []
    },
    {
      "cell_type": "markdown",
      "source": [
        "#### Missings"
      ],
      "metadata": {
        "id": "VToQecgPuKLR"
      }
    },
    {
      "cell_type": "code",
      "source": [
        "null_counts = DF.select([F.count(F.when(F.col(c).isNull(), c)).alias(c) for c in DF.columns])\n",
        "null_counts.show()"
      ],
      "metadata": {
        "colab": {
          "base_uri": "https://localhost:8080/"
        },
        "id": "ZjVY8NfFpu0S",
        "outputId": "73e1ce35-4956-415b-e71e-487005e2069e"
      },
      "execution_count": null,
      "outputs": [
        {
          "output_type": "stream",
          "name": "stdout",
          "text": [
            "+---------------+---------+--------+----+---------------------+----------------------+------------------------+-----------------+-------------------+----------------------+------------------------+----------+----------+----------------+--------------------+-------------------+-----------+-----------+---------------+----------------+-----------+---------------+------------------+\n",
            "|airport_acronym|longitude|latitude|city|flight_number_default|estimated_arrival_time|estimated_departure_time|real_arrival_time|real_departure_time|scheduled_arrival_time|scheduled_departure_time|owner_name|owner_logo|destination_gate|destination_terminal|destination_baggage|origin_name|origin_city|origin_latitude|origin_longitude|origin_gate|origin_terminal|flight_status_live|\n",
            "+---------------+---------+--------+----+---------------------+----------------------+------------------------+-----------------+-------------------+----------------------+------------------------+----------+----------+----------------+--------------------+-------------------+-----------+-----------+---------------+----------------+-----------+---------------+------------------+\n",
            "|              0|        0|       0|   0|                  154|                  1299|                     612|             1758|               1270|                     0|                       0|       259|       531|            1528|                 730|               1432|          0|          0|              0|               0|        969|            969|                 0|\n",
            "+---------------+---------+--------+----+---------------------+----------------------+------------------------+-----------------+-------------------+----------------------+------------------------+----------+----------+----------------+--------------------+-------------------+-----------+-----------+---------------+----------------+-----------+---------------+------------------+\n",
            "\n"
          ]
        }
      ]
    },
    {
      "cell_type": "code",
      "source": [
        "# We decide to delete those rows with missings in arrivals variable because it doesn't give any information to us\n",
        "DF = DF.dropna(subset=[\"arrivals\"])"
      ],
      "metadata": {
        "id": "eJl1KQWLuOWh"
      },
      "execution_count": null,
      "outputs": []
    },
    {
      "cell_type": "code",
      "source": [
        "null_counts_post_cleanup = DF.select([F.count(F.when(F.col(\"arrivals\").isNull(), \"arrivals\")).alias(\"null_arrivals\")])\n",
        "null_counts_post_cleanup.show()"
      ],
      "metadata": {
        "colab": {
          "base_uri": "https://localhost:8080/"
        },
        "id": "pPkXUAfGuvmk",
        "outputId": "68428b5c-bfc7-4051-dff3-3d2652477ce3"
      },
      "execution_count": null,
      "outputs": [
        {
          "output_type": "stream",
          "name": "stdout",
          "text": [
            "+-------------+\n",
            "|null_arrivals|\n",
            "+-------------+\n",
            "|            0|\n",
            "+-------------+\n",
            "\n"
          ]
        }
      ]
    }
  ]
}