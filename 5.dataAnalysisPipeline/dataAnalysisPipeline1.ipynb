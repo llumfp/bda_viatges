{
  "cells": [
    {
      "cell_type": "code",
      "execution_count": 1,
      "metadata": {
        "colab": {
          "base_uri": "https://localhost:8080/"
        },
        "id": "Q995YKSTjvz8",
        "outputId": "7b8044fc-7e62-44a4-aaca-dc9a24d3dc3e"
      },
      "outputs": [
        {
          "name": "stdout",
          "output_type": "stream",
          "text": [
            "Requirement already satisfied: duckdb in /usr/local/lib/python3.10/dist-packages (0.10.1)\n",
            "Collecting duckdb\n",
            "  Using cached duckdb-0.10.2-cp310-cp310-manylinux_2_17_x86_64.manylinux2014_x86_64.whl (18.2 MB)\n",
            "Requirement already satisfied: pandas in /usr/local/lib/python3.10/dist-packages (2.2.2)\n",
            "Requirement already satisfied: numpy>=1.22.4 in /usr/local/lib/python3.10/dist-packages (from pandas) (1.25.2)\n",
            "Requirement already satisfied: python-dateutil>=2.8.2 in /usr/local/lib/python3.10/dist-packages (from pandas) (2.8.2)\n",
            "Requirement already satisfied: pytz>=2020.1 in /usr/local/lib/python3.10/dist-packages (from pandas) (2023.4)\n",
            "Requirement already satisfied: tzdata>=2022.7 in /usr/local/lib/python3.10/dist-packages (from pandas) (2024.1)\n",
            "Requirement already satisfied: six>=1.5 in /usr/local/lib/python3.10/dist-packages (from python-dateutil>=2.8.2->pandas) (1.16.0)\n",
            "Installing collected packages: duckdb\n",
            "  Attempting uninstall: duckdb\n",
            "    Found existing installation: duckdb 0.10.1\n",
            "    Uninstalling duckdb-0.10.1:\n",
            "      Successfully uninstalled duckdb-0.10.1\n",
            "Successfully installed duckdb-0.10.2\n"
          ]
        }
      ],
      "source": [
        "!pip install --upgrade duckdb pandas"
      ]
    },
    {
      "cell_type": "code",
      "execution_count": 2,
      "metadata": {
        "colab": {
          "base_uri": "https://localhost:8080/"
        },
        "id": "nsqu_GewkySR",
        "outputId": "a4b0f0ba-3010-4299-ea39-678a3ca636ff"
      },
      "outputs": [
        {
          "name": "stdout",
          "output_type": "stream",
          "text": [
            "Requirement already satisfied: pyspark in /usr/local/lib/python3.10/dist-packages (3.5.1)\n",
            "Requirement already satisfied: py4j==0.10.9.7 in /usr/local/lib/python3.10/dist-packages (from pyspark) (0.10.9.7)\n"
          ]
        }
      ],
      "source": [
        "!pip install pyspark"
      ]
    },
    {
      "cell_type": "code",
      "execution_count": 3,
      "metadata": {
        "colab": {
          "base_uri": "https://localhost:8080/"
        },
        "id": "1Vh7oiS_kIWl",
        "outputId": "f9c8decd-3bfe-416d-8fce-25e116e4f19c"
      },
      "outputs": [
        {
          "name": "stdout",
          "output_type": "stream",
          "text": [
            "Name: duckdb\n",
            "Version: 0.10.2\n",
            "Summary: DuckDB in-process database\n",
            "Home-page: https://www.duckdb.org\n",
            "Author: \n",
            "Author-email: \n",
            "License: MIT\n",
            "Location: /usr/local/lib/python3.10/dist-packages\n",
            "Requires: \n",
            "Required-by: malloy\n"
          ]
        }
      ],
      "source": [
        "# We should have the same version (0.10.1) of duckdb to load the database without any problem:\n",
        "!pip show duckdb"
      ]
    },
    {
      "cell_type": "code",
      "execution_count": 4,
      "metadata": {
        "colab": {
          "base_uri": "https://localhost:8080/"
        },
        "id": "Rw4S0LWG3-aJ",
        "outputId": "b04cc0c4-dcab-4efa-d7f7-afd14ff67de5"
      },
      "outputs": [
        {
          "name": "stdout",
          "output_type": "stream",
          "text": [
            "Collecting duckdb==0.10.1\n",
            "  Using cached duckdb-0.10.1-cp310-cp310-manylinux_2_17_x86_64.manylinux2014_x86_64.whl (18.1 MB)\n",
            "Installing collected packages: duckdb\n",
            "  Attempting uninstall: duckdb\n",
            "    Found existing installation: duckdb 0.10.2\n",
            "    Uninstalling duckdb-0.10.2:\n",
            "      Successfully uninstalled duckdb-0.10.2\n",
            "Successfully installed duckdb-0.10.1\n"
          ]
        }
      ],
      "source": [
        "!pip install -U duckdb==0.10.1"
      ]
    },
    {
      "cell_type": "code",
      "execution_count": 5,
      "metadata": {
        "colab": {
          "base_uri": "https://localhost:8080/"
        },
        "id": "XsCBwBA2kCPd",
        "outputId": "9844c5f7-25db-4c9f-ee58-f6fe3a83cbf9"
      },
      "outputs": [
        {
          "name": "stdout",
          "output_type": "stream",
          "text": [
            "--2024-04-24 19:20:01--  https://repo1.maven.org/maven2/org/duckdb/duckdb_jdbc/0.10.1/duckdb_jdbc-0.10.1.jar\n",
            "Resolving repo1.maven.org (repo1.maven.org)... 199.232.192.209, 199.232.196.209, 2a04:4e42:4c::209, ...\n",
            "Connecting to repo1.maven.org (repo1.maven.org)|199.232.192.209|:443... connected.\n",
            "HTTP request sent, awaiting response... 200 OK\n",
            "Length: 64009472 (61M) [application/java-archive]\n",
            "Saving to: ‘duckdb.jar’\n",
            "\n",
            "duckdb.jar          100%[===================>]  61.04M   189MB/s    in 0.3s    \n",
            "\n",
            "2024-04-24 19:20:02 (189 MB/s) - ‘duckdb.jar’ saved [64009472/64009472]\n",
            "\n"
          ]
        }
      ],
      "source": [
        "!wget -O \"duckdb.jar\" \"https://repo1.maven.org/maven2/org/duckdb/duckdb_jdbc/0.10.1/duckdb_jdbc-0.10.1.jar\""
      ]
    },
    {
      "cell_type": "code",
      "execution_count": 6,
      "metadata": {
        "id": "_3rv8c_9YvT9"
      },
      "outputs": [],
      "source": [
        "from pyspark.sql import SparkSession\n",
        "\n",
        "spark = SparkSession.builder\\\n",
        "    .config(\"spark.jars\", \"duckdb.jar\") \\\n",
        "    .getOrCreate()"
      ]
    },
    {
      "cell_type": "markdown",
      "metadata": {},
      "source": [
        "In this pipeline, we will preditc if a flight will arrive late to the destination airport. To do so, we will use the flights, airports and weather datasets. Now, we will select the rows necessary for the analysis of the flights dataset. As we have the airports dataset, we will merge the flight dataset with the weather dataset with the nearest latitude and longitude of the destination airport and meteorological data of the day of the flight."
      ]
    },
    {
      "cell_type": "code",
      "execution_count": 27,
      "metadata": {
        "colab": {
          "base_uri": "https://localhost:8080/"
        },
        "id": "YKZTwC0okFVI",
        "outputId": "fd0e50b1-ec7b-4038-d904-56d14bad3c5b"
      },
      "outputs": [
        {
          "name": "stdout",
          "output_type": "stream",
          "text": [
            "+--------+---------+-----------+------------------+------------------------+-------------------+------------------+\n",
            "|    city|has_delay|time_of_day|avg_temperature_2m|avg_relative_humidity_2m|total_precipitation|   avg_cloud_cover|\n",
            "+--------+---------+-----------+------------------+------------------------+-------------------+------------------+\n",
            "|  Athens|        1|    evening| 13.59660428762436|      56.208333333333336|                0.0|50.291666666666664|\n",
            "|    Rome|        1|  afternoon| 13.65533318122228|      57.666666666666664|                0.0|46.208333333333336|\n",
            "|    Rome|        1|  afternoon|13.991666714350382|      55.416666666666664|                0.0|45.958333333333336|\n",
            "|Budapest|        1|    evening| 9.587249795595804|      55.583333333333336|                0.0|            75.375|\n",
            "|  Vienna|        1|    evening| 9.837875028451284|       75.83333333333333|0.20000000298023224|              87.5|\n",
            "|   Paris|        1|      night|13.895458181699118|       71.20833333333333|                0.0|60.083333333333336|\n",
            "|  London|        1|    evening|12.069103797276815|       75.66666666666667|                0.0| 92.79166666666667|\n",
            "|  London|        1|  afternoon|12.213687539100647|       74.45833333333333|                0.0|            91.375|\n",
            "|  London|        1|  afternoon|11.846853931744894|       76.04166666666667|                0.0| 88.95833333333333|\n",
            "|  Berlin|        0|    evening|10.429521063963572|                    80.0|  4.600000001490116| 96.54166666666667|\n",
            "|  Athens|        1|    evening| 13.59660428762436|      56.208333333333336|                0.0|50.291666666666664|\n",
            "|    Rome|        1|  afternoon| 13.65533318122228|      57.666666666666664|                0.0|46.208333333333336|\n",
            "|  London|        1|    evening|13.991666714350382|      55.416666666666664|                0.0|45.958333333333336|\n",
            "|Budapest|        1|    evening| 9.587249795595804|      55.583333333333336|                0.0|            75.375|\n",
            "|  Vienna|        0|    evening| 9.837875028451284|       75.83333333333333|0.20000000298023224|              87.5|\n",
            "|   Paris|        1|    evening|13.895458181699118|       71.20833333333333|                0.0|60.083333333333336|\n",
            "|  London|        1|    evening|12.069103797276815|       75.66666666666667|                0.0| 92.79166666666667|\n",
            "|  London|        1|    evening|11.846853931744894|       76.04166666666667|                0.0| 88.95833333333333|\n",
            "|  Berlin|        1|    evening|10.429521063963572|                    80.0|  4.600000001490116| 96.54166666666667|\n",
            "|  Athens|        1|    evening| 13.59660428762436|      56.208333333333336|                0.0|50.291666666666664|\n",
            "+--------+---------+-----------+------------------+------------------------+-------------------+------------------+\n",
            "only showing top 20 rows\n",
            "\n"
          ]
        }
      ],
      "source": [
        "query = \"\"\"SELECT\n",
        "    f.city,\n",
        "    f.has_delay,\n",
        "    f.time_of_day,\n",
        "    w.avg_temperature_2m,\n",
        "    w.avg_relative_humidity_2m,\n",
        "    w.total_precipitation,\n",
        "    w.avg_cloud_cover\n",
        "FROM\n",
        "    flights f\n",
        "INNER JOIN\n",
        "    airports a\n",
        "ON\n",
        "    f.airport_acronym = a.airport_acronym\n",
        "INNER JOIN\n",
        "    weather w\n",
        "ON\n",
        "    a.latitude=w.latitude and a.longitude=w.longitude and f.arrival_date=w.date\n",
        "\"\"\"\n",
        "\n",
        "\n",
        "DF = spark.read \\\n",
        "  .format(\"jdbc\") \\\n",
        "  .option(\"url\", \"jdbc:duckdb:exploitation_database.duckdb\") \\\n",
        "  .option(\"driver\", \"org.duckdb.DuckDBDriver\") \\\n",
        "  .option(\"query\", query) \\\n",
        "  .load()\n",
        "\n",
        "DF.show()"
      ]
    },
    {
      "cell_type": "markdown",
      "metadata": {
        "id": "uY9L2LbnYrsb"
      },
      "source": [
        "# MODEL"
      ]
    },
    {
      "cell_type": "markdown",
      "metadata": {},
      "source": [
        "In fact, we tried several models, but the best one was the DecisionTreeClassifier. We will use this model to predict if a flight will arrive late to the destination airport. We will use the following features:\n",
        "\n",
        "- `city`: city of the destination airport\n",
        "- `time_of_day`: time of the day of the flight (morning, afternoon, evening, night)\n",
        "- `avg_temperature_2m`: average temperature at 2 meters above the ground\n",
        "- `avg_relative_humidity_2m`: average relative humidity at 2 meters above the ground\n",
        "- `total_precipitation`: total precipitation\n",
        "- `avg_cloud_cover`: average cloud cover"
      ]
    },
    {
      "cell_type": "code",
      "execution_count": 33,
      "metadata": {
        "id": "NBPjV6NHYs71"
      },
      "outputs": [],
      "source": [
        "import pandas as pd\n",
        "from sklearn.model_selection import train_test_split\n",
        "from sklearn.tree import DecisionTreeClassifier\n",
        "from sklearn.model_selection import GridSearchCV\n",
        "from sklearn.pipeline import make_pipeline\n",
        "from sklearn.compose import ColumnTransformer\n",
        "from sklearn.preprocessing import OneHotEncoder\n",
        "from sklearn.compose import make_column_selector as selector\n",
        "from sklearn.preprocessing import StandardScaler\n",
        "from sklearn.metrics import classification_report\n",
        "\n",
        "data = DF.toPandas()"
      ]
    },
    {
      "cell_type": "code",
      "execution_count": 29,
      "metadata": {
        "id": "hPa3HwvbZHiY"
      },
      "outputs": [],
      "source": [
        "# We split the data into train and test sets\n",
        "train, test = train_test_split(data, test_size=0.3, random_state=42, shuffle=True)"
      ]
    },
    {
      "cell_type": "code",
      "execution_count": 30,
      "metadata": {
        "id": "pUw3vyF1je-x"
      },
      "outputs": [],
      "source": [
        "# We preprocess the data, scaling numerical features and one-hot encoding categorical features\n",
        "preprocessor = ColumnTransformer(\n",
        "    transformers=[\n",
        "        ('num', StandardScaler(), selector(dtype_exclude=\"object\")),\n",
        "        ('cat', OneHotEncoder(), selector(dtype_include=\"object\"))\n",
        "])"
      ]
    },
    {
      "cell_type": "code",
      "execution_count": 31,
      "metadata": {
        "colab": {
          "base_uri": "https://localhost:8080/",
          "height": 216
        },
        "id": "YVySnbzIjAyz",
        "outputId": "6d443854-c434-4fc1-a39b-3ee65b6ca988"
      },
      "outputs": [
        {
          "data": {
            "text/html": [
              "<style>#sk-container-id-2 {color: black;background-color: white;}#sk-container-id-2 pre{padding: 0;}#sk-container-id-2 div.sk-toggleable {background-color: white;}#sk-container-id-2 label.sk-toggleable__label {cursor: pointer;display: block;width: 100%;margin-bottom: 0;padding: 0.3em;box-sizing: border-box;text-align: center;}#sk-container-id-2 label.sk-toggleable__label-arrow:before {content: \"▸\";float: left;margin-right: 0.25em;color: #696969;}#sk-container-id-2 label.sk-toggleable__label-arrow:hover:before {color: black;}#sk-container-id-2 div.sk-estimator:hover label.sk-toggleable__label-arrow:before {color: black;}#sk-container-id-2 div.sk-toggleable__content {max-height: 0;max-width: 0;overflow: hidden;text-align: left;background-color: #f0f8ff;}#sk-container-id-2 div.sk-toggleable__content pre {margin: 0.2em;color: black;border-radius: 0.25em;background-color: #f0f8ff;}#sk-container-id-2 input.sk-toggleable__control:checked~div.sk-toggleable__content {max-height: 200px;max-width: 100%;overflow: auto;}#sk-container-id-2 input.sk-toggleable__control:checked~label.sk-toggleable__label-arrow:before {content: \"▾\";}#sk-container-id-2 div.sk-estimator input.sk-toggleable__control:checked~label.sk-toggleable__label {background-color: #d4ebff;}#sk-container-id-2 div.sk-label input.sk-toggleable__control:checked~label.sk-toggleable__label {background-color: #d4ebff;}#sk-container-id-2 input.sk-hidden--visually {border: 0;clip: rect(1px 1px 1px 1px);clip: rect(1px, 1px, 1px, 1px);height: 1px;margin: -1px;overflow: hidden;padding: 0;position: absolute;width: 1px;}#sk-container-id-2 div.sk-estimator {font-family: monospace;background-color: #f0f8ff;border: 1px dotted black;border-radius: 0.25em;box-sizing: border-box;margin-bottom: 0.5em;}#sk-container-id-2 div.sk-estimator:hover {background-color: #d4ebff;}#sk-container-id-2 div.sk-parallel-item::after {content: \"\";width: 100%;border-bottom: 1px solid gray;flex-grow: 1;}#sk-container-id-2 div.sk-label:hover label.sk-toggleable__label {background-color: #d4ebff;}#sk-container-id-2 div.sk-serial::before {content: \"\";position: absolute;border-left: 1px solid gray;box-sizing: border-box;top: 0;bottom: 0;left: 50%;z-index: 0;}#sk-container-id-2 div.sk-serial {display: flex;flex-direction: column;align-items: center;background-color: white;padding-right: 0.2em;padding-left: 0.2em;position: relative;}#sk-container-id-2 div.sk-item {position: relative;z-index: 1;}#sk-container-id-2 div.sk-parallel {display: flex;align-items: stretch;justify-content: center;background-color: white;position: relative;}#sk-container-id-2 div.sk-item::before, #sk-container-id-2 div.sk-parallel-item::before {content: \"\";position: absolute;border-left: 1px solid gray;box-sizing: border-box;top: 0;bottom: 0;left: 50%;z-index: -1;}#sk-container-id-2 div.sk-parallel-item {display: flex;flex-direction: column;z-index: 1;position: relative;background-color: white;}#sk-container-id-2 div.sk-parallel-item:first-child::after {align-self: flex-end;width: 50%;}#sk-container-id-2 div.sk-parallel-item:last-child::after {align-self: flex-start;width: 50%;}#sk-container-id-2 div.sk-parallel-item:only-child::after {width: 0;}#sk-container-id-2 div.sk-dashed-wrapped {border: 1px dashed gray;margin: 0 0.4em 0.5em 0.4em;box-sizing: border-box;padding-bottom: 0.4em;background-color: white;}#sk-container-id-2 div.sk-label label {font-family: monospace;font-weight: bold;display: inline-block;line-height: 1.2em;}#sk-container-id-2 div.sk-label-container {text-align: center;}#sk-container-id-2 div.sk-container {/* jupyter's `normalize.less` sets `[hidden] { display: none; }` but bootstrap.min.css set `[hidden] { display: none !important; }` so we also need the `!important` here to be able to override the default hidden behavior on the sphinx rendered scikit-learn.org. See: https://github.com/scikit-learn/scikit-learn/issues/21755 */display: inline-block !important;position: relative;}#sk-container-id-2 div.sk-text-repr-fallback {display: none;}</style><div id=\"sk-container-id-2\" class=\"sk-top-container\"><div class=\"sk-text-repr-fallback\"><pre>GridSearchCV(cv=5,\n",
              "             estimator=Pipeline(steps=[(&#x27;columntransformer&#x27;,\n",
              "                                        ColumnTransformer(transformers=[(&#x27;num&#x27;,\n",
              "                                                                         StandardScaler(),\n",
              "                                                                         &lt;sklearn.compose._column_transformer.make_column_selector object at 0x7d3fcafefc70&gt;),\n",
              "                                                                        (&#x27;cat&#x27;,\n",
              "                                                                         OneHotEncoder(),\n",
              "                                                                         &lt;sklearn.compose._column_transformer.make_column_selector object at 0x7d3fcafef280&gt;)])),\n",
              "                                       (&#x27;decisiontreeclassifier&#x27;,\n",
              "                                        DecisionTreeClassifier())]),\n",
              "             n_jobs=-1,\n",
              "             param_grid={&#x27;decisiontreeclassifier__criterion&#x27;: [&#x27;gini&#x27;,\n",
              "                                                               &#x27;entropy&#x27;],\n",
              "                         &#x27;decisiontreeclassifier__max_depth&#x27;: [1, 2, 3, 4, 5, 6,\n",
              "                                                               7, 8, 9, 10]})</pre><b>In a Jupyter environment, please rerun this cell to show the HTML representation or trust the notebook. <br />On GitHub, the HTML representation is unable to render, please try loading this page with nbviewer.org.</b></div><div class=\"sk-container\" hidden><div class=\"sk-item sk-dashed-wrapped\"><div class=\"sk-label-container\"><div class=\"sk-label sk-toggleable\"><input class=\"sk-toggleable__control sk-hidden--visually\" id=\"sk-estimator-id-9\" type=\"checkbox\" ><label for=\"sk-estimator-id-9\" class=\"sk-toggleable__label sk-toggleable__label-arrow\">GridSearchCV</label><div class=\"sk-toggleable__content\"><pre>GridSearchCV(cv=5,\n",
              "             estimator=Pipeline(steps=[(&#x27;columntransformer&#x27;,\n",
              "                                        ColumnTransformer(transformers=[(&#x27;num&#x27;,\n",
              "                                                                         StandardScaler(),\n",
              "                                                                         &lt;sklearn.compose._column_transformer.make_column_selector object at 0x7d3fcafefc70&gt;),\n",
              "                                                                        (&#x27;cat&#x27;,\n",
              "                                                                         OneHotEncoder(),\n",
              "                                                                         &lt;sklearn.compose._column_transformer.make_column_selector object at 0x7d3fcafef280&gt;)])),\n",
              "                                       (&#x27;decisiontreeclassifier&#x27;,\n",
              "                                        DecisionTreeClassifier())]),\n",
              "             n_jobs=-1,\n",
              "             param_grid={&#x27;decisiontreeclassifier__criterion&#x27;: [&#x27;gini&#x27;,\n",
              "                                                               &#x27;entropy&#x27;],\n",
              "                         &#x27;decisiontreeclassifier__max_depth&#x27;: [1, 2, 3, 4, 5, 6,\n",
              "                                                               7, 8, 9, 10]})</pre></div></div></div><div class=\"sk-parallel\"><div class=\"sk-parallel-item\"><div class=\"sk-item\"><div class=\"sk-label-container\"><div class=\"sk-label sk-toggleable\"><input class=\"sk-toggleable__control sk-hidden--visually\" id=\"sk-estimator-id-10\" type=\"checkbox\" ><label for=\"sk-estimator-id-10\" class=\"sk-toggleable__label sk-toggleable__label-arrow\">estimator: Pipeline</label><div class=\"sk-toggleable__content\"><pre>Pipeline(steps=[(&#x27;columntransformer&#x27;,\n",
              "                 ColumnTransformer(transformers=[(&#x27;num&#x27;, StandardScaler(),\n",
              "                                                  &lt;sklearn.compose._column_transformer.make_column_selector object at 0x7d3fcafefc70&gt;),\n",
              "                                                 (&#x27;cat&#x27;, OneHotEncoder(),\n",
              "                                                  &lt;sklearn.compose._column_transformer.make_column_selector object at 0x7d3fcafef280&gt;)])),\n",
              "                (&#x27;decisiontreeclassifier&#x27;, DecisionTreeClassifier())])</pre></div></div></div><div class=\"sk-serial\"><div class=\"sk-item\"><div class=\"sk-serial\"><div class=\"sk-item sk-dashed-wrapped\"><div class=\"sk-label-container\"><div class=\"sk-label sk-toggleable\"><input class=\"sk-toggleable__control sk-hidden--visually\" id=\"sk-estimator-id-11\" type=\"checkbox\" ><label for=\"sk-estimator-id-11\" class=\"sk-toggleable__label sk-toggleable__label-arrow\">columntransformer: ColumnTransformer</label><div class=\"sk-toggleable__content\"><pre>ColumnTransformer(transformers=[(&#x27;num&#x27;, StandardScaler(),\n",
              "                                 &lt;sklearn.compose._column_transformer.make_column_selector object at 0x7d3fcafefc70&gt;),\n",
              "                                (&#x27;cat&#x27;, OneHotEncoder(),\n",
              "                                 &lt;sklearn.compose._column_transformer.make_column_selector object at 0x7d3fcafef280&gt;)])</pre></div></div></div><div class=\"sk-parallel\"><div class=\"sk-parallel-item\"><div class=\"sk-item\"><div class=\"sk-label-container\"><div class=\"sk-label sk-toggleable\"><input class=\"sk-toggleable__control sk-hidden--visually\" id=\"sk-estimator-id-12\" type=\"checkbox\" ><label for=\"sk-estimator-id-12\" class=\"sk-toggleable__label sk-toggleable__label-arrow\">num</label><div class=\"sk-toggleable__content\"><pre>&lt;sklearn.compose._column_transformer.make_column_selector object at 0x7d3fcafefc70&gt;</pre></div></div></div><div class=\"sk-serial\"><div class=\"sk-item\"><div class=\"sk-estimator sk-toggleable\"><input class=\"sk-toggleable__control sk-hidden--visually\" id=\"sk-estimator-id-13\" type=\"checkbox\" ><label for=\"sk-estimator-id-13\" class=\"sk-toggleable__label sk-toggleable__label-arrow\">StandardScaler</label><div class=\"sk-toggleable__content\"><pre>StandardScaler()</pre></div></div></div></div></div></div><div class=\"sk-parallel-item\"><div class=\"sk-item\"><div class=\"sk-label-container\"><div class=\"sk-label sk-toggleable\"><input class=\"sk-toggleable__control sk-hidden--visually\" id=\"sk-estimator-id-14\" type=\"checkbox\" ><label for=\"sk-estimator-id-14\" class=\"sk-toggleable__label sk-toggleable__label-arrow\">cat</label><div class=\"sk-toggleable__content\"><pre>&lt;sklearn.compose._column_transformer.make_column_selector object at 0x7d3fcafef280&gt;</pre></div></div></div><div class=\"sk-serial\"><div class=\"sk-item\"><div class=\"sk-estimator sk-toggleable\"><input class=\"sk-toggleable__control sk-hidden--visually\" id=\"sk-estimator-id-15\" type=\"checkbox\" ><label for=\"sk-estimator-id-15\" class=\"sk-toggleable__label sk-toggleable__label-arrow\">OneHotEncoder</label><div class=\"sk-toggleable__content\"><pre>OneHotEncoder()</pre></div></div></div></div></div></div></div></div><div class=\"sk-item\"><div class=\"sk-estimator sk-toggleable\"><input class=\"sk-toggleable__control sk-hidden--visually\" id=\"sk-estimator-id-16\" type=\"checkbox\" ><label for=\"sk-estimator-id-16\" class=\"sk-toggleable__label sk-toggleable__label-arrow\">DecisionTreeClassifier</label><div class=\"sk-toggleable__content\"><pre>DecisionTreeClassifier()</pre></div></div></div></div></div></div></div></div></div></div></div></div>"
            ],
            "text/plain": [
              "GridSearchCV(cv=5,\n",
              "             estimator=Pipeline(steps=[('columntransformer',\n",
              "                                        ColumnTransformer(transformers=[('num',\n",
              "                                                                         StandardScaler(),\n",
              "                                                                         <sklearn.compose._column_transformer.make_column_selector object at 0x7d3fcafefc70>),\n",
              "                                                                        ('cat',\n",
              "                                                                         OneHotEncoder(),\n",
              "                                                                         <sklearn.compose._column_transformer.make_column_selector object at 0x7d3fcafef280>)])),\n",
              "                                       ('decisiontreeclassifier',\n",
              "                                        DecisionTreeClassifier())]),\n",
              "             n_jobs=-1,\n",
              "             param_grid={'decisiontreeclassifier__criterion': ['gini',\n",
              "                                                               'entropy'],\n",
              "                         'decisiontreeclassifier__max_depth': [1, 2, 3, 4, 5, 6,\n",
              "                                                               7, 8, 9, 10]})"
            ]
          },
          "execution_count": 31,
          "metadata": {},
          "output_type": "execute_result"
        }
      ],
      "source": [
        "# We train a decision tree classifier using grid search to find the best hyperparameters\n",
        "param_grid = {\n",
        "    'decisiontreeclassifier__max_depth': [1, 2, 3, 4, 5, 6, 7, 8, 9, 10],\n",
        "    'decisiontreeclassifier__criterion': ['gini', 'entropy']\n",
        "}\n",
        "grid_search = GridSearchCV(make_pipeline(preprocessor, DecisionTreeClassifier()), param_grid, cv=5, n_jobs=-1)\n",
        "grid_search.fit(train.drop('has_delay', axis=1), train['has_delay'])"
      ]
    },
    {
      "cell_type": "code",
      "execution_count": 34,
      "metadata": {
        "colab": {
          "base_uri": "https://localhost:8080/"
        },
        "id": "Tz78Ebw-jnBK",
        "outputId": "1d3df515-da96-46ea-8374-83f42fa1fbe9"
      },
      "outputs": [
        {
          "name": "stdout",
          "output_type": "stream",
          "text": [
            "Best parameters found:  {'decisiontreeclassifier__criterion': 'entropy', 'decisiontreeclassifier__max_depth': 9}\n",
            "Best score found:  0.6003101334294987\n",
            "Test score:  0.5972222222222222\n",
            "              precision    recall  f1-score   support\n",
            "\n",
            "           0       0.63      0.52      0.57       257\n",
            "           1       0.58      0.68      0.62       247\n",
            "\n",
            "    accuracy                           0.60       504\n",
            "   macro avg       0.60      0.60      0.60       504\n",
            "weighted avg       0.60      0.60      0.59       504\n",
            "\n"
          ]
        }
      ],
      "source": [
        "print(\"Best parameters found: \", grid_search.best_params_)\n",
        "print(\"Best score found: \", grid_search.best_score_)\n",
        "print(\"Test score: \", grid_search.score(test.drop('has_delay', axis=1), test['has_delay']))\n",
        "print(classification_report(test['has_delay'], grid_search.predict(test.drop('has_delay', axis=1))))"
      ]
    },
    {
      "cell_type": "code",
      "execution_count": 35,
      "metadata": {
        "colab": {
          "base_uri": "https://localhost:8080/"
        },
        "id": "rmbUJN2Cj13c",
        "outputId": "b0165d11-fa68-4b03-e791-759588e96284"
      },
      "outputs": [
        {
          "data": {
            "text/plain": [
              "['best_model_dt.pkl']"
            ]
          },
          "execution_count": 35,
          "metadata": {},
          "output_type": "execute_result"
        }
      ],
      "source": [
        "# Save the best model\n",
        "import joblib\n",
        "joblib.dump(grid_search, 'best_model_dt.pkl')"
      ]
    }
  ],
  "metadata": {
    "colab": {
      "provenance": []
    },
    "kernelspec": {
      "display_name": "Python 3",
      "name": "python3"
    },
    "language_info": {
      "name": "python"
    }
  },
  "nbformat": 4,
  "nbformat_minor": 0
}
