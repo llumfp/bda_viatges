{
  "cells": [
    {
      "cell_type": "code",
      "execution_count": 1,
      "metadata": {
        "colab": {
          "base_uri": "https://localhost:8080/"
        },
        "id": "Q995YKSTjvz8",
        "outputId": "8383644f-f76e-4a6b-855c-b417de75f2c6"
      },
      "outputs": [
        {
          "name": "stdout",
          "output_type": "stream",
          "text": [
            "Requirement already satisfied: duckdb in /usr/local/lib/python3.10/dist-packages (0.10.2)\n",
            "Requirement already satisfied: pandas in /usr/local/lib/python3.10/dist-packages (2.0.3)\n",
            "Collecting pandas\n",
            "  Downloading pandas-2.2.2-cp310-cp310-manylinux_2_17_x86_64.manylinux2014_x86_64.whl (13.0 MB)\n",
            "\u001b[2K     \u001b[90m━━━━━━━━━━━━━━━━━━━━━━━━━━━━━━━━━━━━━━━━\u001b[0m \u001b[32m13.0/13.0 MB\u001b[0m \u001b[31m23.2 MB/s\u001b[0m eta \u001b[36m0:00:00\u001b[0m\n",
            "\u001b[?25hRequirement already satisfied: numpy>=1.22.4 in /usr/local/lib/python3.10/dist-packages (from pandas) (1.25.2)\n",
            "Requirement already satisfied: python-dateutil>=2.8.2 in /usr/local/lib/python3.10/dist-packages (from pandas) (2.8.2)\n",
            "Requirement already satisfied: pytz>=2020.1 in /usr/local/lib/python3.10/dist-packages (from pandas) (2023.4)\n",
            "Requirement already satisfied: tzdata>=2022.7 in /usr/local/lib/python3.10/dist-packages (from pandas) (2024.1)\n",
            "Requirement already satisfied: six>=1.5 in /usr/local/lib/python3.10/dist-packages (from python-dateutil>=2.8.2->pandas) (1.16.0)\n",
            "Installing collected packages: pandas\n",
            "  Attempting uninstall: pandas\n",
            "    Found existing installation: pandas 2.0.3\n",
            "    Uninstalling pandas-2.0.3:\n",
            "      Successfully uninstalled pandas-2.0.3\n",
            "\u001b[31mERROR: pip's dependency resolver does not currently take into account all the packages that are installed. This behaviour is the source of the following dependency conflicts.\n",
            "google-colab 1.0.0 requires pandas==2.0.3, but you have pandas 2.2.2 which is incompatible.\u001b[0m\u001b[31m\n",
            "\u001b[0mSuccessfully installed pandas-2.2.2\n"
          ]
        }
      ],
      "source": [
        "!pip install --upgrade duckdb pandas"
      ]
    },
    {
      "cell_type": "code",
      "execution_count": 2,
      "metadata": {
        "colab": {
          "base_uri": "https://localhost:8080/"
        },
        "id": "nsqu_GewkySR",
        "outputId": "7cd55f23-c5c5-4d8f-f1d8-332d05074c74"
      },
      "outputs": [
        {
          "name": "stdout",
          "output_type": "stream",
          "text": [
            "Collecting pyspark\n",
            "  Downloading pyspark-3.5.1.tar.gz (317.0 MB)\n",
            "\u001b[2K     \u001b[90m━━━━━━━━━━━━━━━━━━━━━━━━━━━━━━━━━━━━━━━━\u001b[0m \u001b[32m317.0/317.0 MB\u001b[0m \u001b[31m3.6 MB/s\u001b[0m eta \u001b[36m0:00:00\u001b[0m\n",
            "\u001b[?25h  Preparing metadata (setup.py) ... \u001b[?25l\u001b[?25hdone\n",
            "Requirement already satisfied: py4j==0.10.9.7 in /usr/local/lib/python3.10/dist-packages (from pyspark) (0.10.9.7)\n",
            "Building wheels for collected packages: pyspark\n",
            "  Building wheel for pyspark (setup.py) ... \u001b[?25l\u001b[?25hdone\n",
            "  Created wheel for pyspark: filename=pyspark-3.5.1-py2.py3-none-any.whl size=317488491 sha256=1bd35d82bd9cd2f5e469cf67ed1c198313768d0be7d0b4a8a2f5e554d09087ca\n",
            "  Stored in directory: /root/.cache/pip/wheels/80/1d/60/2c256ed38dddce2fdd93be545214a63e02fbd8d74fb0b7f3a6\n",
            "Successfully built pyspark\n",
            "Installing collected packages: pyspark\n",
            "Successfully installed pyspark-3.5.1\n"
          ]
        }
      ],
      "source": [
        "!pip install pyspark"
      ]
    },
    {
      "cell_type": "code",
      "execution_count": 3,
      "metadata": {
        "colab": {
          "base_uri": "https://localhost:8080/"
        },
        "id": "1Vh7oiS_kIWl",
        "outputId": "2972b683-121f-4343-cc69-274984d54ee8"
      },
      "outputs": [
        {
          "name": "stdout",
          "output_type": "stream",
          "text": [
            "Name: duckdb\n",
            "Version: 0.10.2\n",
            "Summary: DuckDB in-process database\n",
            "Home-page: https://www.duckdb.org\n",
            "Author: \n",
            "Author-email: \n",
            "License: MIT\n",
            "Location: /usr/local/lib/python3.10/dist-packages\n",
            "Requires: \n",
            "Required-by: malloy\n"
          ]
        }
      ],
      "source": [
        "# We should have the same version (0.10.1) of duckdb to load the database without any problem:\n",
        "!pip show duckdb"
      ]
    },
    {
      "cell_type": "code",
      "execution_count": 4,
      "metadata": {
        "colab": {
          "base_uri": "https://localhost:8080/"
        },
        "id": "Rw4S0LWG3-aJ",
        "outputId": "657a3390-08be-40bd-9d83-2eefdfa5f136"
      },
      "outputs": [
        {
          "name": "stdout",
          "output_type": "stream",
          "text": [
            "Collecting duckdb==0.10.1\n",
            "  Downloading duckdb-0.10.1-cp310-cp310-manylinux_2_17_x86_64.manylinux2014_x86_64.whl (18.1 MB)\n",
            "\u001b[2K     \u001b[90m━━━━━━━━━━━━━━━━━━━━━━━━━━━━━━━━━━━━━━━━\u001b[0m \u001b[32m18.1/18.1 MB\u001b[0m \u001b[31m16.6 MB/s\u001b[0m eta \u001b[36m0:00:00\u001b[0m\n",
            "\u001b[?25hInstalling collected packages: duckdb\n",
            "  Attempting uninstall: duckdb\n",
            "    Found existing installation: duckdb 0.10.2\n",
            "    Uninstalling duckdb-0.10.2:\n",
            "      Successfully uninstalled duckdb-0.10.2\n",
            "Successfully installed duckdb-0.10.1\n"
          ]
        }
      ],
      "source": [
        "!pip install -U duckdb==0.10.1"
      ]
    },
    {
      "cell_type": "code",
      "execution_count": 5,
      "metadata": {
        "colab": {
          "base_uri": "https://localhost:8080/"
        },
        "id": "XsCBwBA2kCPd",
        "outputId": "b4624a72-a7f1-4f23-87a0-836a398a6ae5"
      },
      "outputs": [
        {
          "name": "stdout",
          "output_type": "stream",
          "text": [
            "--2024-04-25 17:01:43--  https://repo1.maven.org/maven2/org/duckdb/duckdb_jdbc/0.10.1/duckdb_jdbc-0.10.1.jar\n",
            "Resolving repo1.maven.org (repo1.maven.org)... 199.232.192.209, 199.232.196.209, 2a04:4e42:4c::209, ...\n",
            "Connecting to repo1.maven.org (repo1.maven.org)|199.232.192.209|:443... connected.\n",
            "HTTP request sent, awaiting response... 200 OK\n",
            "Length: 64009472 (61M) [application/java-archive]\n",
            "Saving to: ‘duckdb.jar’\n",
            "\n",
            "duckdb.jar          100%[===================>]  61.04M   143MB/s    in 0.4s    \n",
            "\n",
            "2024-04-25 17:01:44 (143 MB/s) - ‘duckdb.jar’ saved [64009472/64009472]\n",
            "\n"
          ]
        }
      ],
      "source": [
        "!wget -O \"duckdb.jar\" \"https://repo1.maven.org/maven2/org/duckdb/duckdb_jdbc/0.10.1/duckdb_jdbc-0.10.1.jar\""
      ]
    },
    {
      "cell_type": "markdown",
      "metadata": {
        "id": "AD0gfmeQEtFA"
      },
      "source": [
        "## Chatbot class"
      ]
    },
    {
      "cell_type": "markdown",
      "metadata": {},
      "source": [
        "In this data analysis pipeline, we will create a chatbot that will help us find an apartment based on the user's preferences. The chatbot will ask the user a series of questions to understand the user's preferences and then recommend an apartment based on the user's answers.\n",
        "\n",
        "The questions will be:\n",
        "\n",
        "- How many people are you?\n",
        "- What is the maximum price you want?\n",
        "- What types of rooms are you interested in?\n",
        "- How many rooms do you want?\n",
        "- Which temperature you want?\n",
        "- How important is it for you that it doesn't rain?\n",
        "\n",
        "Then, the chatbot will recommend an apartment based on the user's answers on a random city sorted by the price."
      ]
    },
    {
      "cell_type": "code",
      "execution_count": 6,
      "metadata": {
        "id": "_3rv8c_9YvT9"
      },
      "outputs": [],
      "source": [
        "from pyspark.sql import SparkSession\n",
        "\n",
        "spark = SparkSession.builder\\\n",
        "    .config(\"spark.jars\", \"duckdb.jar\") \\\n",
        "    .getOrCreate()"
      ]
    },
    {
      "cell_type": "code",
      "execution_count": 94,
      "metadata": {
        "id": "vWs0syCHhh2C"
      },
      "outputs": [],
      "source": [
        "class Chatbot:\n",
        "    def __init__(self):\n",
        "        self.room_type_list = None\n",
        "        self.min_temp = None\n",
        "        self.max_temp = None\n",
        "        self.min_sum = None\n",
        "        self.max_sum = None\n",
        "        self.min_pers = None\n",
        "        self.max_pers = None\n",
        "        self.initialize_parameters()\n",
        "\n",
        "    def initialize_parameters(self):\n",
        "        \"\"\"\n",
        "        Function that gets the min and max amount for some variables and the different types of rooms.\n",
        "        \"\"\"\n",
        "\n",
        "        query_room_type = \"\"\"\n",
        "        SELECT DISTINCT\n",
        "          a.room_type\n",
        "        FROM\n",
        "          airbnb a\n",
        "        \"\"\"\n",
        "\n",
        "        query_temp = \"\"\"\n",
        "        SELECT\n",
        "          min(w.avg_temperature_2m) AS min, max(w.avg_temperature_2m) AS max\n",
        "        FROM\n",
        "          weather w\n",
        "        WHERE\n",
        "          w.date = '2024-03-21'\n",
        "        \"\"\"\n",
        "\n",
        "        query_real_sum = \"\"\"\n",
        "        SELECT DISTINCT\n",
        "          min(a.realSum) AS min, max(a.realSum) AS max\n",
        "        FROM\n",
        "          airbnb a\n",
        "        \"\"\"\n",
        "\n",
        "        query_person = \"\"\"\n",
        "        SELECT DISTINCT\n",
        "          min(a.person_capacity) AS min, max(a.person_capacity) AS max\n",
        "        FROM\n",
        "          airbnb a\n",
        "        \"\"\"\n",
        "\n",
        "        DF = spark.read \\\n",
        "          .format(\"jdbc\") \\\n",
        "          .option(\"url\", \"jdbc:duckdb:exploitation_database.duckdb\") \\\n",
        "          .option(\"driver\", \"org.duckdb.DuckDBDriver\") \\\n",
        "          .option(\"query\", query_room_type) \\\n",
        "          .load()\n",
        "\n",
        "        self.room_type_list = DF.select(\"room_type\").rdd.flatMap(lambda x: x).collect()\n",
        "\n",
        "        DF = spark.read \\\n",
        "          .format(\"jdbc\") \\\n",
        "          .option(\"url\", \"jdbc:duckdb:exploitation_database.duckdb\") \\\n",
        "          .option(\"driver\", \"org.duckdb.DuckDBDriver\") \\\n",
        "          .option(\"query\", query_temp) \\\n",
        "          .load()\n",
        "\n",
        "        self.min_temp = round(DF.select(\"min\").rdd.flatMap(lambda x: x).collect()[0],1)\n",
        "        self.max_temp = round(DF.select(\"max\").rdd.flatMap(lambda x: x).collect()[0],1)\n",
        "\n",
        "        DF = spark.read \\\n",
        "          .format(\"jdbc\") \\\n",
        "          .option(\"url\", \"jdbc:duckdb:exploitation_database.duckdb\") \\\n",
        "          .option(\"driver\", \"org.duckdb.DuckDBDriver\") \\\n",
        "          .option(\"query\", query_real_sum) \\\n",
        "          .load()\n",
        "\n",
        "        self.min_sum = round(DF.select(\"min\").rdd.flatMap(lambda x: x).collect()[0],1)\n",
        "        self.max_sum = round(DF.select(\"max\").rdd.flatMap(lambda x: x).collect()[0],1)\n",
        "\n",
        "        DF = spark.read \\\n",
        "          .format(\"jdbc\") \\\n",
        "          .option(\"url\", \"jdbc:duckdb:exploitation_database.duckdb\") \\\n",
        "          .option(\"driver\", \"org.duckdb.DuckDBDriver\") \\\n",
        "          .option(\"query\", query_person) \\\n",
        "          .load()\n",
        "\n",
        "        self.min_pers = int(DF.select(\"min\").rdd.flatMap(lambda x: x).collect()[0])\n",
        "        self.max_pers = int(DF.select(\"max\").rdd.flatMap(lambda x: x).collect()[0])\n",
        "\n",
        "    def ask(self):\n",
        "        print(\"-------------------------------------------------\")\n",
        "        print(\"---------------------CHATBOT---------------------\")\n",
        "        print(\"--------We will find your ideal apartment--------\")\n",
        "        print(\"-------------------------------------------------\")\n",
        "\n",
        "        complete = False\n",
        "\n",
        "        print()\n",
        "\n",
        "        while not complete:\n",
        "            day_type = input(\"Are you traveling on Weekdays or Weekends? \")\n",
        "            if day_type in [\"Weekdays\", \"Weekends\"]:\n",
        "                complete = True\n",
        "        complete = False\n",
        "\n",
        "        while not complete:\n",
        "            people = int(input(f\"How many people are you? ({self.min_pers} - {self.max_pers}): \"))\n",
        "            if self.min_pers <= people <= self.max_pers:\n",
        "                complete = True\n",
        "        complete = False\n",
        "\n",
        "        while not complete:\n",
        "            price = int(input(f\"What is the maximum price you want? ({self.min_sum}€ - {self.max_sum}€): \"))\n",
        "            if self.min_sum <= price <= self.max_sum:\n",
        "                complete = True\n",
        "        complete = False\n",
        "\n",
        "        str_room_types = \", \".join(self.room_type_list)\n",
        "        while not complete:\n",
        "            room_type = input(f\"What types of rooms are you interested in? ({str_room_types}): \")\n",
        "            if room_type in self.room_type_list:\n",
        "                complete = True\n",
        "        complete = False\n",
        "\n",
        "        if room_type == \"Entire home/apt\":\n",
        "            while not complete:\n",
        "                rooms = int(input(\"How many rooms do you want? (1 - 4): \"))\n",
        "                if 1 <= rooms <= 4:\n",
        "                    complete = True\n",
        "        else:\n",
        "            rooms = None\n",
        "        complete = False\n",
        "\n",
        "        while not complete:\n",
        "            temp = int(input(f\"Which temperature you want? ({self.min_temp}º - {self.max_temp}º): \"))\n",
        "            if self.min_temp <= temp <= self.max_temp:\n",
        "                complete = True\n",
        "        complete = False\n",
        "\n",
        "        while not complete:\n",
        "            rain_importance = input(\"How important is it for you that it doesn't rain? (Important, Not important): \")\n",
        "            if rain_importance in [\"Important\", \"Not important\"]:\n",
        "                if rain_importance == \"Important\":\n",
        "                    rain_importance = 0\n",
        "                elif rain_importance == \"Not important\":\n",
        "                    rain_importance = 1000\n",
        "                complete = True\n",
        "\n",
        "        self.find_apartment(people, day_type, price, room_type, temp, rain_importance, rooms)\n",
        "\n",
        "    def find_apartment(self, people, day_type, price, room_type, temp, rain_importance, rooms):\n",
        "        query = f\"\"\"SELECT *\n",
        "        FROM\n",
        "            airbnb a, weather w\n",
        "        WHERE\n",
        "            a.latitude_w = w.latitude AND\n",
        "            a.longitude_w = w.longitude AND\n",
        "            a.person_capacity >= '{people}' AND\n",
        "            a.day_type = '{day_type}' AND\n",
        "            a.realSum <= {price} AND\n",
        "            a.room_type = '{room_type}' AND\n",
        "            w.avg_temperature_2m >= {temp-2} AND\n",
        "            w.avg_temperature_2m <= {temp+2} AND\n",
        "            w.date = '2024-03-19' AND\n",
        "            w.total_precipitation <= {rain_importance}\n",
        "        \"\"\"\n",
        "        if rooms:\n",
        "            query += f\"AND bedrooms >= '{rooms}' \"\n",
        "\n",
        "        DF = spark.read \\\n",
        "          .format(\"jdbc\") \\\n",
        "          .option(\"url\", \"jdbc:duckdb:exploitation_database.duckdb\") \\\n",
        "          .option(\"driver\", \"org.duckdb.DuckDBDriver\") \\\n",
        "          .option(\"query\", query) \\\n",
        "          .load()\n",
        "\n",
        "        DF = DF.sort(\"realSum\")\n",
        "        DF = DF.limit(10).collect()\n",
        "        print()\n",
        "        print()\n",
        "        for fila in DF:\n",
        "          print(f\"The apartment {fila['id']} with coordinates {round(fila['latitude_w'],4)} lat and {round(fila['longitude_w'],4)} lon, in the city {fila['city']}, has the sky: {fila['estat_cel']}\")\n"
      ]
    },
    {
      "cell_type": "markdown",
      "metadata": {
        "id": "apMVkXgqitP-"
      },
      "source": [
        "## Try the chatbot"
      ]
    },
    {
      "cell_type": "code",
      "execution_count": 95,
      "metadata": {
        "id": "wnspK7YXiYIv"
      },
      "outputs": [],
      "source": [
        "chatbot = Chatbot()"
      ]
    },
    {
      "cell_type": "code",
      "execution_count": 96,
      "metadata": {
        "colab": {
          "base_uri": "https://localhost:8080/"
        },
        "id": "6bSskSREid4_",
        "outputId": "557e2870-9712-430a-fe36-312005bf0535"
      },
      "outputs": [
        {
          "name": "stdout",
          "output_type": "stream",
          "text": [
            "-------------------------------------------------\n",
            "---------------------CHATBOT---------------------\n",
            "--------We will find your ideal apartment--------\n",
            "-------------------------------------------------\n",
            "\n",
            "Are you traveling on Weekdays or Weekends? Weekends\n",
            "How many people are you? (2 - 6): 3\n",
            "What is the maximum price you want (34.8€ - 18545.5€): 4000\n",
            "What types of rooms are you interested in? (Entire home/apt, Private room, Shared room): Private room\n",
            "Which temperature you want? (8.6º - 15.1º): 13\n",
            "How important is it for you that it doesn't rain? (Important, Not important): Important\n",
            "\n",
            "\n",
            "The apartment 41384 with coordinates 38.7625 lat and -9.124 lon, in the city Lisbon, has the sky: Nublado\n",
            "The apartment 43519 with coordinates 51.4527 lat and -0.0478 lon, in the city London, has the sky: Nublado\n",
            "The apartment 10142 with coordinates 51.4696 lat and -0.0478 lon, in the city London, has the sky: Nublado\n",
            "The apartment 33908 with coordinates 51.4443 lat and -0.0478 lon, in the city London, has the sky: Nublado\n",
            "The apartment 4848 with coordinates 51.4864 lat and -0.0478 lon, in the city London, has the sky: Nublado\n",
            "The apartment 10133 with coordinates 51.4274 lat and -0.0562 lon, in the city London, has the sky: Nublado\n",
            "The apartment 19112 with coordinates 51.4948 lat and -0.0478 lon, in the city London, has the sky: Nublado\n",
            "The apartment 23732 with coordinates 51.5201 lat and -0.0478 lon, in the city London, has the sky: Nublado\n",
            "The apartment 50803 with coordinates 38.7288 lat and -9.1324 lon, in the city Lisbon, has the sky: Nublado\n",
            "The apartment 32697 with coordinates 38.7372 lat and -9.1324 lon, in the city Lisbon, has the sky: Parcialmente nublado\n"
          ]
        }
      ],
      "source": [
        "chatbot.ask()"
      ]
    }
  ],
  "metadata": {
    "colab": {
      "provenance": []
    },
    "kernelspec": {
      "display_name": "Python 3",
      "name": "python3"
    },
    "language_info": {
      "name": "python"
    }
  },
  "nbformat": 4,
  "nbformat_minor": 0
}
