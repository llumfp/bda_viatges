{
  "nbformat": 4,
  "nbformat_minor": 0,
  "metadata": {
    "colab": {
      "provenance": []
    },
    "kernelspec": {
      "name": "python3",
      "display_name": "Python 3"
    },
    "language_info": {
      "name": "python"
    }
  },
  "cells": [
    {
      "cell_type": "code",
      "source": [
        "!pip install pyspark"
      ],
      "metadata": {
        "colab": {
          "base_uri": "https://localhost:8080/"
        },
        "id": "MINzv4e82A0k",
        "outputId": "a452911d-33c6-4ce0-f166-5e57eb67c581"
      },
      "execution_count": 1,
      "outputs": [
        {
          "output_type": "stream",
          "name": "stdout",
          "text": [
            "Collecting pyspark\n",
            "  Downloading pyspark-3.5.1.tar.gz (317.0 MB)\n",
            "\u001b[2K     \u001b[90m━━━━━━━━━━━━━━━━━━━━━━━━━━━━━━━━━━━━━━━━\u001b[0m \u001b[32m317.0/317.0 MB\u001b[0m \u001b[31m3.2 MB/s\u001b[0m eta \u001b[36m0:00:00\u001b[0m\n",
            "\u001b[?25h  Preparing metadata (setup.py) ... \u001b[?25l\u001b[?25hdone\n",
            "Requirement already satisfied: py4j==0.10.9.7 in /usr/local/lib/python3.10/dist-packages (from pyspark) (0.10.9.7)\n",
            "Building wheels for collected packages: pyspark\n",
            "  Building wheel for pyspark (setup.py) ... \u001b[?25l\u001b[?25hdone\n",
            "  Created wheel for pyspark: filename=pyspark-3.5.1-py2.py3-none-any.whl size=317488491 sha256=f6d4504521e3ffb40cdc2e4155616e0910d6cc36a6402f85da74f2eac4e3b2d7\n",
            "  Stored in directory: /root/.cache/pip/wheels/80/1d/60/2c256ed38dddce2fdd93be545214a63e02fbd8d74fb0b7f3a6\n",
            "Successfully built pyspark\n",
            "Installing collected packages: pyspark\n",
            "Successfully installed pyspark-3.5.1\n"
          ]
        }
      ]
    },
    {
      "cell_type": "code",
      "source": [
        "import json\n",
        "def save_json(dicc,file):\n",
        "    with open(file,'w') as f:\n",
        "        f.write(json.dumps(dicc))"
      ],
      "metadata": {
        "id": "V7xg8Vp4StHn"
      },
      "execution_count": 2,
      "outputs": []
    },
    {
      "cell_type": "code",
      "source": [
        "def read_json(file):\n",
        "    with open(file,'r') as f:\n",
        "        data = json.load(f)\n",
        "    return data"
      ],
      "metadata": {
        "id": "wnpg5e3sSw1b"
      },
      "execution_count": 3,
      "outputs": []
    },
    {
      "cell_type": "code",
      "source": [
        "!pip install FlightRadarAPI"
      ],
      "metadata": {
        "colab": {
          "base_uri": "https://localhost:8080/"
        },
        "id": "D_P5gZrlolkb",
        "outputId": "3f064a73-63a7-4142-aafe-258090b6b80f"
      },
      "execution_count": null,
      "outputs": [
        {
          "output_type": "stream",
          "name": "stdout",
          "text": [
            "Collecting FlightRadarAPI\n",
            "  Using cached flightradarapi-1.3.27-py3-none-any.whl (14 kB)\n",
            "Collecting brotli (from FlightRadarAPI)\n",
            "  Using cached Brotli-1.1.0-cp310-cp310-manylinux_2_5_x86_64.manylinux1_x86_64.manylinux_2_12_x86_64.manylinux2010_x86_64.whl (3.0 MB)\n",
            "Requirement already satisfied: requests in /usr/local/lib/python3.10/dist-packages (from FlightRadarAPI) (2.31.0)\n",
            "Requirement already satisfied: charset-normalizer<4,>=2 in /usr/local/lib/python3.10/dist-packages (from requests->FlightRadarAPI) (3.3.2)\n",
            "Requirement already satisfied: idna<4,>=2.5 in /usr/local/lib/python3.10/dist-packages (from requests->FlightRadarAPI) (3.6)\n",
            "Requirement already satisfied: urllib3<3,>=1.21.1 in /usr/local/lib/python3.10/dist-packages (from requests->FlightRadarAPI) (2.0.7)\n",
            "Requirement already satisfied: certifi>=2017.4.17 in /usr/local/lib/python3.10/dist-packages (from requests->FlightRadarAPI) (2024.2.2)\n",
            "Installing collected packages: brotli, FlightRadarAPI\n",
            "Successfully installed FlightRadarAPI-1.3.27 brotli-1.1.0\n"
          ]
        }
      ]
    },
    {
      "cell_type": "code",
      "execution_count": null,
      "metadata": {
        "id": "iy4YNvIa1n8l"
      },
      "outputs": [],
      "source": [
        "from FlightRadar24 import FlightRadar24API\n",
        "import re\n",
        "fr_api = FlightRadar24API()"
      ]
    },
    {
      "cell_type": "markdown",
      "source": [
        "## Obtain airports from cities we are interested in\\"
      ],
      "metadata": {
        "id": "RDb0ebkCoOUs"
      }
    },
    {
      "cell_type": "code",
      "source": [
        "airports = fr_api.get_airports()"
      ],
      "metadata": {
        "id": "Ir21lJck1zVG"
      },
      "execution_count": null,
      "outputs": []
    },
    {
      "cell_type": "code",
      "source": [
        "# List of cities\n",
        "cities = ['Amsterdam','Athens','Barcelona','Berlin','Budapest','Lisbon','London','Paris','Rome','Vienna']"
      ],
      "metadata": {
        "id": "i91hdRfuoUY0"
      },
      "execution_count": null,
      "outputs": []
    },
    {
      "cell_type": "code",
      "source": [
        "import re\n",
        "regex = r'\\((.*?)\\)'\n",
        "airports_in_city = []\n",
        "\n",
        "for ap in airports:\n",
        "    for city in cities:\n",
        "        if city in str(ap):\n",
        "            acronym = re.findall(regex,str(ap))[0]\n",
        "            airports_in_city.append(ap)\n",
        "            break"
      ],
      "metadata": {
        "id": "TrN_W97SovkZ"
      },
      "execution_count": null,
      "outputs": []
    },
    {
      "cell_type": "code",
      "source": [
        "def parseig_aeroports(lista_aeropuertos):\n",
        "    airports_info = {}\n",
        "    regex = r'\\((.*?)\\) .*? Latitude: ([-+]?\\d+\\.\\d+) - Longitude: ([-+]?\\d+\\.\\d+)'\n",
        "\n",
        "    for aeropuerto in lista_aeropuertos:\n",
        "        matches = re.findall(regex, str(aeropuerto))\n",
        "        if matches:\n",
        "            siglas = matches[0][0]\n",
        "            latitude = float(matches[0][1])\n",
        "            longitude = float(matches[0][2])\n",
        "            for city in cities:\n",
        "                if city in aeropuerto:\n",
        "                    airp_city = city\n",
        "            airports_info[siglas] = {'Latitude': latitude, 'Longitude': longitude,'City':airp_city}\n",
        "\n",
        "    return airports_info"
      ],
      "metadata": {
        "id": "RQvEcmJxoxk7"
      },
      "execution_count": null,
      "outputs": []
    },
    {
      "cell_type": "code",
      "source": [
        "airports_info = parseig_aeroports(airports_in_city)"
      ],
      "metadata": {
        "id": "cL2kz2Raoy-B"
      },
      "execution_count": null,
      "outputs": []
    },
    {
      "cell_type": "markdown",
      "source": [
        "We store information we have by the moment because we had some issues with API requests."
      ],
      "metadata": {
        "id": "MJG4U_RRo3d9"
      }
    },
    {
      "cell_type": "code",
      "source": [
        "save_json(airports_info,'airports_info.json')"
      ],
      "metadata": {
        "id": "h3Ya2Mjho5Lv"
      },
      "execution_count": null,
      "outputs": []
    },
    {
      "cell_type": "markdown",
      "source": [
        "## Get arrivals from airports"
      ],
      "metadata": {
        "id": "OO_QV21Po7BW"
      }
    },
    {
      "cell_type": "code",
      "source": [
        "airports_info = read_json('airports_info.json')"
      ],
      "metadata": {
        "id": "m_mlE7mOo8WI"
      },
      "execution_count": null,
      "outputs": []
    },
    {
      "cell_type": "code",
      "source": [
        "def get_100_arrivals(acronym):\n",
        "    aeroport = fr_api.get_airport_details(acronym)\n",
        "    vols = aeroport['airport']['pluginData']['schedule']['arrivals']['data']\n",
        "    return vols"
      ],
      "metadata": {
        "id": "DeHhmJzko9f_"
      },
      "execution_count": null,
      "outputs": []
    },
    {
      "cell_type": "code",
      "source": [
        "for airp in airports_info.keys():\n",
        "    airports_info[airp]['arrivals'] = get_100_arrivals(airp)"
      ],
      "metadata": {
        "id": "VhdqEYP8o-1u"
      },
      "execution_count": null,
      "outputs": []
    },
    {
      "cell_type": "code",
      "source": [
        "save_json(airports_info,'airport_info_arrivals.json')"
      ],
      "metadata": {
        "id": "Fdbmva_So_-g"
      },
      "execution_count": null,
      "outputs": []
    },
    {
      "cell_type": "markdown",
      "source": [
        "## Save into DataLake"
      ],
      "metadata": {
        "id": "5aCB69lYpB8Q"
      }
    },
    {
      "cell_type": "code",
      "source": [
        "import re"
      ],
      "metadata": {
        "id": "2rTrvGcZpDKl"
      },
      "execution_count": 4,
      "outputs": []
    },
    {
      "cell_type": "code",
      "source": [
        "airports_info = read_json('airport_info_arrivals.json')"
      ],
      "metadata": {
        "id": "NU7-PgG-pYos"
      },
      "execution_count": 5,
      "outputs": []
    },
    {
      "cell_type": "code",
      "source": [
        "from pyspark.sql import SparkSession\n",
        "\n",
        "# Init session in Spark\n",
        "spark = SparkSession.builder \\\n",
        "    .appName(\"JSON a Parquet con Spark SQL\") \\\n",
        "    .getOrCreate()\n",
        "\n",
        "# Read json and create a temporal view\n",
        "df = spark.read.json(\"airport_info_arrivals.json\")\n",
        "df.createOrReplaceTempView(\"airport_info_arrivals\")\n",
        "\n",
        "# Use Spark SQL to select the data\n",
        "selected_data = spark.sql(\"SELECT * FROM airport_info_arrivals\")\n"
      ],
      "metadata": {
        "id": "bxNM68lug5Rq"
      },
      "execution_count": 6,
      "outputs": []
    },
    {
      "cell_type": "code",
      "source": [
        "from pyspark.sql import SparkSession\n",
        "\n",
        "# Init session in Spark\n",
        "spark = SparkSession.builder \\\n",
        "    .appName(\"JSON a Parquet con Spark SQL\") \\\n",
        "    .getOrCreate()\n",
        "\n",
        "# Read json and create a temporal view\n",
        "df = spark.read.json(\"airport_info_arrivals.json\")\n",
        "df.createOrReplaceTempView(\"airport_info_arrivals\")\n",
        "\n",
        "# Use Spark SQL to select the data\n",
        "selected_data = spark.sql(\"SELECT * FROM airport_info_arrivals\")\n",
        "\n",
        "# Save data as a parquet file\n",
        "selected_data.write.parquet(\"datalake/airport_info_arrivals.parquet\")\n",
        "\n",
        "# Stop Spark Session\n",
        "spark.stop()"
      ],
      "metadata": {
        "id": "Luqz-y0FpMOg"
      },
      "execution_count": 7,
      "outputs": []
    },
    {
      "cell_type": "markdown",
      "source": [
        "We realized that out json didn't have a great format to manage the data as we want. So we need to change it to have the following structure to begin:\n",
        "\n",
        "| Airport acronym | Longitude | Latitude | City  | arrivals |\n",
        "| --------------- | --------- | -------- | ----  | -------- |\n",
        "| EHAM | 52.308609 | 4.763889 | Amsterdam  | [flight 3473cc55] |\n",
        "\n",
        "To get this new structure we'll use map reduce, as we have seen in class. Then we'll built another parquet file and it will be the definitive of our datalake."
      ],
      "metadata": {
        "id": "TL22QRecpRX_"
      }
    },
    {
      "cell_type": "code",
      "source": [
        "# Map function: transform input into intermediate key-value output\n",
        "def map_function(input_data):\n",
        "    intermediate = []\n",
        "    for key, value in input_data.items():\n",
        "        # The key is the airport acronym, and the value is the corresponding information\n",
        "        intermediate.append((key, value))\n",
        "    return intermediate\n",
        "\n",
        "# Reduce function: process intermediate values for each key and emit final result\n",
        "# In this case, each key is unique, so we just pass the data through\n",
        "def reduce_function(intermediate_data):\n",
        "    result = []\n",
        "    for key, values in intermediate_data:\n",
        "        # Transform the value to the desired structure (in this case, it's already in the desired structure)\n",
        "        result.append((key, values['Longitude'], values['Latitude'], values['City'], values['arrivals']))\n",
        "    return result\n",
        "\n",
        "# Simulate the MapReduce process\n",
        "intermediate = map_function(airports_info)\n",
        "final_result = reduce_function(intermediate)\n",
        "\n",
        "# Display the result\n",
        "for item in final_result:\n",
        "    print(item)\n"
      ],
      "metadata": {
        "colab": {
          "base_uri": "https://localhost:8080/"
        },
        "id": "l8bSzA808XWv",
        "outputId": "93fd8a9b-ad56-46fe-a972-7ab9ba3d6ff8"
      },
      "execution_count": 8,
      "outputs": [
        {
          "output_type": "stream",
          "name": "stderr",
          "text": [
            "IOPub data rate exceeded.\n",
            "The notebook server will temporarily stop sending output\n",
            "to the client in order to avoid crashing it.\n",
            "To change this limit, set the config variable\n",
            "`--NotebookApp.iopub_data_rate_limit`.\n",
            "\n",
            "Current values:\n",
            "NotebookApp.iopub_data_rate_limit=1000000.0 (bytes/sec)\n",
            "NotebookApp.rate_limit_window=3.0 (secs)\n",
            "\n"
          ]
        }
      ]
    },
    {
      "cell_type": "markdown",
      "source": [
        "### Convert json info into columns"
      ],
      "metadata": {
        "id": "jEtusjb8fBlD"
      }
    },
    {
      "cell_type": "code",
      "source": [
        "from pyspark.sql import functions as F\n",
        "from pyspark.sql.types import StructType, StructField, StringType, ArrayType, DoubleType"
      ],
      "metadata": {
        "id": "xlHgFkuQe9DU"
      },
      "execution_count": 9,
      "outputs": []
    },
    {
      "cell_type": "code",
      "source": [
        "flight_schema = schema = StructType([\n",
        "    StructField(\"identification\", StructType([\n",
        "        StructField(\"number\", StructType([\n",
        "            StructField(\"default\", StringType(), True)\n",
        "        ]), True)\n",
        "    ]), True),\n",
        "    StructField(\"time\", StructType([\n",
        "        StructField(\"estimated\", StructType([\n",
        "            StructField(\"arrival\", StringType(), True),\n",
        "            StructField(\"departure\", StringType(), True)\n",
        "        ]), True),\n",
        "        StructField(\"real\", StructType([\n",
        "            StructField(\"arrival\", StringType(), True),\n",
        "            StructField(\"departure\", StringType(), True)\n",
        "        ]), True),\n",
        "        StructField(\"scheduled\", StructType([\n",
        "            StructField(\"arrival\", StringType(), True),\n",
        "            StructField(\"departure\", StringType(), True)\n",
        "        ]), True)\n",
        "    ]), True),\n",
        "    StructField(\"owner\", StructType([\n",
        "            StructField(\"name\", StringType(), True),\n",
        "            StructField(\"logo\", StringType(), True)\n",
        "        ]), True),\n",
        "    StructField(\"airport\", StructType([\n",
        "        StructField(\"destination\", StructType([\n",
        "            StructField(\"info\", StructType([\n",
        "                StructField(\"gate\", StringType(), True),\n",
        "                StructField(\"terminal\", StringType(), True),\n",
        "                StructField(\"baggage\", StringType(), True)\n",
        "            ]), True)\n",
        "        ]), True),\n",
        "        StructField(\"real\", StringType(), True),\n",
        "        StructField(\"origin\", StructType([\n",
        "            StructField(\"name\", StringType(), True),\n",
        "            StructField(\"code\", StructType([\n",
        "                StructField(\"iata\", StringType(), True)\n",
        "            ]), True),\n",
        "            StructField(\"position\", StructType([\n",
        "                StructField(\"region\", StructType([\n",
        "                    StructField(\"city\", StringType(), True)\n",
        "                ]), True),\n",
        "                StructField(\"latitude\", StringType(), True),\n",
        "                StructField(\"longitude\", StringType(), True)\n",
        "            ]), True),\n",
        "            StructField(\"info\", StructType([\n",
        "                StructField(\"gate\", StringType(), True),\n",
        "                StructField(\"terminal\", StringType(), True)\n",
        "            ]), True)\n",
        "        ]), True)\n",
        "    ]), True),\n",
        "    StructField(\"status\", StructType([\n",
        "        StructField(\"live\", StringType(), True)\n",
        "    ]), True)\n",
        "])"
      ],
      "metadata": {
        "id": "l6HAixrpnZw5"
      },
      "execution_count": 10,
      "outputs": []
    },
    {
      "cell_type": "code",
      "source": [
        "# Define the DataFrame schema according to the desired structure\n",
        "schema = StructType([\n",
        "    StructField(\"airport_acronym\", StringType(), True),\n",
        "    StructField(\"longitude\", DoubleType(), True),\n",
        "    StructField(\"latitude\", DoubleType(), True),\n",
        "    StructField(\"city\", StringType(), True),\n",
        "    StructField(\"arrivals\", ArrayType(StructType([\n",
        "    StructField(\"flight\", flight_schema\n",
        "    , True)\n",
        "])), True)\n",
        "])\n",
        "\n",
        "# Start a Spark session\n",
        "spark = SparkSession.builder \\\n",
        "    .appName(\"Load and Save Transformed Data\") \\\n",
        "    .getOrCreate()\n",
        "\n",
        "# Create a DataFrame from the transformed data and the defined schema\n",
        "df = spark.createDataFrame(data=final_result, schema=schema)\n",
        "\n",
        "# Show the DataFrame to verify its content\n",
        "df.show()\n",
        "df.printSchema()"
      ],
      "metadata": {
        "colab": {
          "base_uri": "https://localhost:8080/"
        },
        "id": "iFggQeiqnbhJ",
        "outputId": "30ae62af-3272-403c-cefc-5d00e1b69a6d"
      },
      "execution_count": 11,
      "outputs": [
        {
          "output_type": "stream",
          "name": "stdout",
          "text": [
            "+---------------+----------+---------+---------+--------------------+\n",
            "|airport_acronym| longitude| latitude|     city|            arrivals|\n",
            "+---------------+----------+---------+---------+--------------------+\n",
            "|           EHAM|  4.763889|52.308609|Amsterdam|[{{{{OS373}}, {{N...|\n",
            "|           KAHN|-83.324722| 33.95195|   Athens|[{{{{NULL}}, {{17...|\n",
            "|           LGAV|  23.94446|37.936352|   Athens|[{{{{A3247}}, {{N...|\n",
            "|           KUNI|  -82.2314|39.210999|   Athens|                  []|\n",
            "|           KMMI|  -84.5625|35.397221|   Athens|                  []|\n",
            "|           LEBL|  2.078463| 41.29707|Barcelona|[{{{{VY2219}}, {{...|\n",
            "|           SVBC|-64.689102| 10.10713|Barcelona|[{{{{CM328}}, {{1...|\n",
            "|           EDDB| 13.503722|52.362877|   Berlin|[{{{{BA994}}, {{1...|\n",
            "|           LHBS| 18.980589|47.451065| Budapest|                  []|\n",
            "|           LHBP|  19.25559|47.436932| Budapest|[{{{{W62222}}, {{...|\n",
            "|           FAEL|  27.82593| -33.0355|   London|[{{{{4Z917}}, {{1...|\n",
            "|           LPPT|  -9.13591|38.781311|   Lisbon|[{{{{FR9575}}, {{...|\n",
            "|           EGKB|    0.0325| 51.33083|   London|[{{{{EMC1}}, {{17...|\n",
            "|           EGLC|  0.055278|51.505268|   London|[{{{{BA8488}}, {{...|\n",
            "|           KLOZ|-84.076942|37.087223|   London|                  []|\n",
            "|           EGTR| -0.325833|51.655834|   London|                  []|\n",
            "|           EGKK|  -0.19027|51.148048|   London|[{{{{U28704}}, {{...|\n",
            "|           EGLL| -0.467081|51.471626|   London|[{{{{BA507}}, {{1...|\n",
            "|           CYXU|  -81.1511|43.033051|   London|[{{{{NEW455}}, {{...|\n",
            "|           EGGW|  -0.36833|51.874722|   London|[{{{{U22622}}, {{...|\n",
            "+---------------+----------+---------+---------+--------------------+\n",
            "only showing top 20 rows\n",
            "\n",
            "root\n",
            " |-- airport_acronym: string (nullable = true)\n",
            " |-- longitude: double (nullable = true)\n",
            " |-- latitude: double (nullable = true)\n",
            " |-- city: string (nullable = true)\n",
            " |-- arrivals: array (nullable = true)\n",
            " |    |-- element: struct (containsNull = true)\n",
            " |    |    |-- flight: struct (nullable = true)\n",
            " |    |    |    |-- identification: struct (nullable = true)\n",
            " |    |    |    |    |-- number: struct (nullable = true)\n",
            " |    |    |    |    |    |-- default: string (nullable = true)\n",
            " |    |    |    |-- time: struct (nullable = true)\n",
            " |    |    |    |    |-- estimated: struct (nullable = true)\n",
            " |    |    |    |    |    |-- arrival: string (nullable = true)\n",
            " |    |    |    |    |    |-- departure: string (nullable = true)\n",
            " |    |    |    |    |-- real: struct (nullable = true)\n",
            " |    |    |    |    |    |-- arrival: string (nullable = true)\n",
            " |    |    |    |    |    |-- departure: string (nullable = true)\n",
            " |    |    |    |    |-- scheduled: struct (nullable = true)\n",
            " |    |    |    |    |    |-- arrival: string (nullable = true)\n",
            " |    |    |    |    |    |-- departure: string (nullable = true)\n",
            " |    |    |    |-- owner: struct (nullable = true)\n",
            " |    |    |    |    |-- name: string (nullable = true)\n",
            " |    |    |    |    |-- logo: string (nullable = true)\n",
            " |    |    |    |-- airport: struct (nullable = true)\n",
            " |    |    |    |    |-- destination: struct (nullable = true)\n",
            " |    |    |    |    |    |-- info: struct (nullable = true)\n",
            " |    |    |    |    |    |    |-- gate: string (nullable = true)\n",
            " |    |    |    |    |    |    |-- terminal: string (nullable = true)\n",
            " |    |    |    |    |    |    |-- baggage: string (nullable = true)\n",
            " |    |    |    |    |-- real: string (nullable = true)\n",
            " |    |    |    |    |-- origin: struct (nullable = true)\n",
            " |    |    |    |    |    |-- name: string (nullable = true)\n",
            " |    |    |    |    |    |-- code: struct (nullable = true)\n",
            " |    |    |    |    |    |    |-- iata: string (nullable = true)\n",
            " |    |    |    |    |    |-- position: struct (nullable = true)\n",
            " |    |    |    |    |    |    |-- region: struct (nullable = true)\n",
            " |    |    |    |    |    |    |    |-- city: string (nullable = true)\n",
            " |    |    |    |    |    |    |-- latitude: string (nullable = true)\n",
            " |    |    |    |    |    |    |-- longitude: string (nullable = true)\n",
            " |    |    |    |    |    |-- info: struct (nullable = true)\n",
            " |    |    |    |    |    |    |-- gate: string (nullable = true)\n",
            " |    |    |    |    |    |    |-- terminal: string (nullable = true)\n",
            " |    |    |    |-- status: struct (nullable = true)\n",
            " |    |    |    |    |-- live: string (nullable = true)\n",
            "\n"
          ]
        }
      ]
    },
    {
      "cell_type": "code",
      "source": [
        "df_ex = df.withColumn(\"arrival\", F.explode(\"arrivals\")).drop(\"arrivals\")"
      ],
      "metadata": {
        "id": "8UfIEhm-vOF8"
      },
      "execution_count": 13,
      "outputs": []
    },
    {
      "cell_type": "code",
      "source": [
        "df_formatted = df_ex \\\n",
        "    .withColumn(\"flight_number_default\", F.col(\"arrival.flight.identification.number.default\")) \\\n",
        "    .withColumn(\"estimated_arrival_time\", F.col(\"arrival.flight.time.estimated.arrival\")) \\\n",
        "    .withColumn(\"estimated_departure_time\", F.col(\"arrival.flight.time.estimated.departure\")) \\\n",
        "    .withColumn(\"real_arrival_time\", F.col(\"arrival.flight.time.real.arrival\")) \\\n",
        "    .withColumn(\"real_departure_time\", F.col(\"arrival.flight.time.real.departure\")) \\\n",
        "    .withColumn(\"scheduled_arrival_time\", F.col(\"arrival.flight.time.scheduled.arrival\")) \\\n",
        "    .withColumn(\"scheduled_departure_time\", F.col(\"arrival.flight.time.scheduled.departure\")) \\\n",
        "    .withColumn(\"owner_name\", F.col(\"arrival.flight.owner.name\")) \\\n",
        "    .withColumn(\"owner_logo\", F.col(\"arrival.flight.owner.logo\")) \\\n",
        "    .withColumn(\"destination_gate\", F.col(\"arrival.flight.airport.destination.info.gate\")) \\\n",
        "    .withColumn(\"destination_terminal\", F.col(\"arrival.flight.airport.destination.info.terminal\")) \\\n",
        "    .withColumn(\"destination_baggage\", F.col(\"arrival.flight.airport.destination.info.baggage\")) \\\n",
        "    .withColumn(\"origin_airport\", F.col(\"arrival.flight.airport.origin.code.iata\")) \\\n",
        "    .withColumn(\"origin_city\", F.col(\"arrival.flight.airport.origin.position.region.city\")) \\\n",
        "    .withColumn(\"origin_latitude\", F.col(\"arrival.flight.airport.origin.position.latitude\")) \\\n",
        "    .withColumn(\"origin_longitude\", F.col(\"arrival.flight.airport.origin.position.longitude\")) \\\n",
        "    .withColumn(\"origin_gate\", F.col(\"arrival.flight.airport.origin.info.gate\")) \\\n",
        "    .withColumn(\"origin_terminal\", F.col(\"arrival.flight.airport.origin.info.terminal\")) \\\n",
        "    .withColumn(\"flight_status_live\", F.col(\"arrival.flight.status.live\")).drop('arrival')"
      ],
      "metadata": {
        "id": "q8219vApvQrt"
      },
      "execution_count": 14,
      "outputs": []
    },
    {
      "cell_type": "code",
      "source": [
        "df_formatted.show()"
      ],
      "metadata": {
        "colab": {
          "base_uri": "https://localhost:8080/"
        },
        "id": "XmwH75kPvoA_",
        "outputId": "ea4a9c24-ea94-4e43-816c-f0894d934eff"
      },
      "execution_count": 15,
      "outputs": [
        {
          "output_type": "stream",
          "name": "stdout",
          "text": [
            "+---------------+---------+---------+---------+---------------------+----------------------+------------------------+-----------------+-------------------+----------------------+------------------------+--------------------+--------------------+----------------+--------------------+-------------------+--------------+-----------+---------------+----------------+-----------+---------------+------------------+\n",
            "|airport_acronym|longitude| latitude|     city|flight_number_default|estimated_arrival_time|estimated_departure_time|real_arrival_time|real_departure_time|scheduled_arrival_time|scheduled_departure_time|          owner_name|          owner_logo|destination_gate|destination_terminal|destination_baggage|origin_airport|origin_city|origin_latitude|origin_longitude|origin_gate|origin_terminal|flight_status_live|\n",
            "+---------------+---------+---------+---------+---------------------+----------------------+------------------------+-----------------+-------------------+----------------------+------------------------+--------------------+--------------------+----------------+--------------------+-------------------+--------------+-----------+---------------+----------------+-----------+---------------+------------------+\n",
            "|           EHAM| 4.763889|52.308609|Amsterdam|                OS373|                  NULL|                    NULL|       1711034744|         1711029233|            1711035900|              1711029000|   Austrian Airlines|https://images.fl...|            NULL|                   1|               NULL|           VIE|     Vienna|      48.110271|       16.569719|        F26|              3|             false|\n",
            "|           EHAM| 4.763889|52.308609|Amsterdam|               KL1920|            1711036170|                    NULL|             NULL|         1711031577|            1711035900|              1711028700|      KLM Cityhopper|https://images.fl...|             A04|                   2|                010|           GDN|     Gdansk|      54.376484|        18.47064|         16|           NULL|              true|\n",
            "|           EHAM| 4.763889|52.308609|Amsterdam|               LH2306|            1711038464|                    NULL|             NULL|         1711035404|            1711036200|              1711030500|  Lufthansa CityLine|                NULL|            NULL|                   1|               NULL|           MUC|     Munich|      48.353779|        11.78608|        G11|              2|              true|\n",
            "|           EHAM| 4.763889|52.308609|Amsterdam|               SK1549|            1711037440|                    NULL|             NULL|         1711033861|            1711036200|              1711031100|            SAS Link|https://images.fl...|            NULL|                   1|               NULL|           CPH| Copenhagen|      55.616959|       12.645637|        B15|              3|              true|\n",
            "|           EHAM| 4.763889|52.308609|Amsterdam|                 NULL|                  NULL|              1711035600|             NULL|               NULL|            1711036320|              1711035000|                NULL|                NULL|            NULL|                NULL|               NULL|           GLZ|      Breda|      51.567402|         4.93183|       NULL|           NULL|             false|\n",
            "|           EHAM| 4.763889|52.308609|Amsterdam|               HV5582|            1711036680|                    NULL|             NULL|         1711030530|            1711036500|              1711029000|           Transavia|                NULL|            NULL|                   1|               NULL|           NCE|       Nice|      43.661453|         7.21736|          G|              1|              true|\n",
            "|           EHAM| 4.763889|52.308609|Amsterdam|               TK1953|            1711035810|                    NULL|             NULL|         1711024812|            1711036500|              1711023300|    Turkish Airlines|https://images.fl...|            NULL|                   3|               NULL|           IST|   Istanbul|      41.267052|       28.729757|        A1H|           NULL|              true|\n",
            "|           EHAM| 4.763889|52.308609|Amsterdam|                TP672|            1711037060|                    NULL|             NULL|         1711027289|            1711036800|              1711026000|    TAP Air Portugal|https://images.fl...|            NULL|                   1|               NULL|           LIS|     Lisbon|      38.781311|        -9.13591|       NULL|              1|              true|\n",
            "|           EHAM| 4.763889|52.308609|Amsterdam|                AZ110|            1711036280|                    NULL|             NULL|         1711029076|            1711037700|              1711028400|         ITA Airways|https://images.fl...|            NULL|                   1|               NULL|           FCO|       Rome|       41.80447|        12.25079|       NULL|              1|              true|\n",
            "|           EHAM| 4.763889|52.308609|Amsterdam|               KL1944|            1711038080|                    NULL|             NULL|         1711031954|            1711037700|              1711029900|      KLM Cityhopper|https://images.fl...|             A04|                   2|                009|           ZAG|     Zagreb|      45.742931|       16.068769|        G12|           NULL|              true|\n",
            "|           EHAM| 4.763889|52.308609|Amsterdam|                MU771|            1711036410|                    NULL|             NULL|         1710995703|            1711037700|              1710993900|China Eastern Air...|https://images.fl...|              E9|                   3|                 16|           PVG|   Shanghai|       31.14337|      121.805199|          K|              1|              true|\n",
            "|           EHAM| 4.763889|52.308609|Amsterdam|               U28683|            1711035910|                    NULL|             NULL|         1711033470|            1711037700|              1711032900|             easyJet|https://images.fl...|            NULL|                NULL|               NULL|           LGW|     London|      51.148048|        -0.19027|        107|              N|              true|\n",
            "|           EHAM| 4.763889|52.308609|Amsterdam|                KE925|            1711038080|                    NULL|             NULL|         1710988510|            1711037700|              1710987000|          Korean Air|https://images.fl...|            NULL|                   3|               NULL|           ICN|      Seoul|       37.46907|        126.4505|        255|              2|              true|\n",
            "|           EHAM| 4.763889|52.308609|Amsterdam|                KL898|            1711039104|                    NULL|             NULL|         1710994793|            1711038000|              1710993000|                 KLM|https://images.fl...|              F7|                   2|                 12|           PEK|    Beijing|      40.084152|      116.592735|          8|              2|              true|\n",
            "|           EHAM| 4.763889|52.308609|Amsterdam|               U22519|            1711037056|                    NULL|             NULL|         1711034307|            1711038000|              1711033800|             easyJet|https://images.fl...|            NULL|                NULL|               NULL|           LTN|     London|      51.874722|        -0.36833|         14|           NULL|              true|\n",
            "|           EHAM| 4.763889|52.308609|Amsterdam|               U27842|            1711037184|                    NULL|             NULL|         1711035368|            1711038600|              1711034400|      easyJet Europe|https://images.fl...|            NULL|                NULL|               NULL|           STN|     London|      51.884998|           0.235|       NULL|              1|              true|\n",
            "|           EHAM| 4.763889|52.308609|Amsterdam|                KL862|            1711037570|                    NULL|             NULL|         1710989262|            1711038600|              1710988200|                 KLM|https://images.fl...|              F4|                   3|                 15|           NRT|      Tokyo|      35.764721|      140.386307|         17|              1|              true|\n",
            "|           EHAM| 4.763889|52.308609|Amsterdam|                KL868|            1711037120|                    NULL|             NULL|         1710987855|            1711038600|              1710986700|                 KLM|https://images.fl...|             E17|                   2|                  8|           KIX|      Osaka|      34.427299|      135.244003|         21|              1|              true|\n",
            "|           EHAM| 4.763889|52.308609|Amsterdam|               UX1093|            1711039616|                    NULL|             NULL|         1711031860|            1711038900|              1711029600|          Air Europa|https://images.fl...|            NULL|                   1|               NULL|           MAD|     Madrid|      40.488701|           -3.57|        E72|              3|              true|\n",
            "|           EHAM| 4.763889|52.308609|Amsterdam|               BA8455|            1711037568|                    NULL|             NULL|         1711035092|            1711038900|              1711035000|        BA CityFlyer|                NULL|            NULL|                   1|                 02|           LCY|     London|      51.505268|        0.055278|       NULL|           NULL|              true|\n",
            "+---------------+---------+---------+---------+---------------------+----------------------+------------------------+-----------------+-------------------+----------------------+------------------------+--------------------+--------------------+----------------+--------------------+-------------------+--------------+-----------+---------------+----------------+-----------+---------------+------------------+\n",
            "only showing top 20 rows\n",
            "\n"
          ]
        }
      ]
    },
    {
      "cell_type": "code",
      "source": [
        "# Save the DataFrame as a Parquet file\n",
        "df_formatted.write.parquet(\"flights_data.parquet\")\n",
        "\n",
        "# Stop the Spark session\n",
        "spark.stop()"
      ],
      "metadata": {
        "id": "fYbL9eWDezq5"
      },
      "execution_count": 16,
      "outputs": []
    },
    {
      "cell_type": "code",
      "source": [],
      "metadata": {
        "id": "xO4kTNEdTHw9"
      },
      "execution_count": null,
      "outputs": []
    }
  ]
}