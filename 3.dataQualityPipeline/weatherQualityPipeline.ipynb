{
  "cells": [
    {
      "cell_type": "code",
      "execution_count": null,
      "metadata": {
        "colab": {
          "base_uri": "https://localhost:8080/"
        },
        "id": "w2YCaLVAhAht",
        "outputId": "33beca5a-edd2-4649-8375-94dfc272ba04"
      },
      "outputs": [
        {
          "name": "stdout",
          "output_type": "stream",
          "text": [
            "Collecting pyspark\n",
            "  Downloading pyspark-3.5.1.tar.gz (317.0 MB)\n",
            "\u001b[2K     \u001b[90m━━━━━━━━━━━━━━━━━━━━━━━━━━━━━━━━━━━━━━━━\u001b[0m \u001b[32m317.0/317.0 MB\u001b[0m \u001b[31m3.2 MB/s\u001b[0m eta \u001b[36m0:00:00\u001b[0m\n",
            "\u001b[?25h  Preparing metadata (setup.py) ... \u001b[?25l\u001b[?25hdone\n",
            "Requirement already satisfied: duckdb in /usr/local/lib/python3.10/dist-packages (0.10.2)\n",
            "Requirement already satisfied: py4j==0.10.9.7 in /usr/local/lib/python3.10/dist-packages (from pyspark) (0.10.9.7)\n",
            "Building wheels for collected packages: pyspark\n",
            "  Building wheel for pyspark (setup.py) ... \u001b[?25l\u001b[?25hdone\n",
            "  Created wheel for pyspark: filename=pyspark-3.5.1-py2.py3-none-any.whl size=317488491 sha256=f6d9efaace1833fc92c82e4e69eedc9c71c2b3bf2f135a8c2fbeaa89e3d601b2\n",
            "  Stored in directory: /root/.cache/pip/wheels/80/1d/60/2c256ed38dddce2fdd93be545214a63e02fbd8d74fb0b7f3a6\n",
            "Successfully built pyspark\n",
            "Installing collected packages: pyspark\n",
            "Successfully installed pyspark-3.5.1\n",
            "--2024-04-22 18:52:54--  https://repo1.maven.org/maven2/org/duckdb/duckdb_jdbc/0.10.1/duckdb_jdbc-0.10.1.jar\n",
            "Resolving repo1.maven.org (repo1.maven.org)... 199.232.192.209, 199.232.196.209, 2a04:4e42:4c::209, ...\n",
            "Connecting to repo1.maven.org (repo1.maven.org)|199.232.192.209|:443... connected.\n",
            "HTTP request sent, awaiting response... 200 OK\n",
            "Length: 64009472 (61M) [application/java-archive]\n",
            "Saving to: ‘duckdb.jar’\n",
            "\n",
            "duckdb.jar          100%[===================>]  61.04M   196MB/s    in 0.3s    \n",
            "\n",
            "2024-04-22 18:52:55 (196 MB/s) - ‘duckdb.jar’ saved [64009472/64009472]\n",
            "\n"
          ]
        }
      ],
      "source": [
        "!pip install pyspark duckdb\n",
        "!wget -O \"duckdb.jar\" \"https://repo1.maven.org/maven2/org/duckdb/duckdb_jdbc/0.10.1/duckdb_jdbc-0.10.1.jar\"\n",
        "import pyspark\n",
        "from pyspark.sql import SparkSession\n",
        "import duckdb"
      ]
    },
    {
      "cell_type": "code",
      "execution_count": null,
      "metadata": {
        "id": "r5BjHMedhMxv"
      },
      "outputs": [],
      "source": [
        "conn = duckdb.connect(\"database.duckdb\")\n",
        "conn.close()\n",
        "spark = SparkSession.builder \\\n",
        "    .config(\"spark.jars\", \"duckdb.jar\") \\\n",
        "    .getOrCreate()"
      ]
    },
    {
      "cell_type": "code",
      "execution_count": null,
      "metadata": {
        "id": "AOjpmrfWo5I5"
      },
      "outputs": [],
      "source": [
        "from pyspark.sql import functions as F"
      ]
    },
    {
      "cell_type": "markdown",
      "metadata": {},
      "source": [
        "We read the database from the duckdb"
      ]
    },
    {
      "cell_type": "code",
      "execution_count": null,
      "metadata": {
        "colab": {
          "base_uri": "https://localhost:8080/"
        },
        "id": "f5PV0nXrjvM5",
        "outputId": "a1055ebe-3fd7-4fb3-e8ba-15d0e952af77"
      },
      "outputs": [
        {
          "name": "stdout",
          "output_type": "stream",
          "text": [
            "+-------------------+--------------+--------------------+-------------------------+-------------+------------+-----------+---------------+---------------+----------------+----------+---------+---------+\n",
            "|               date|temperature_2m|relative_humidity_2m|precipitation_probability|precipitation|weather_code|cloud_cover|cloud_cover_low|cloud_cover_mid|cloud_cover_high|  latitude|longitude|     city|\n",
            "+-------------------+--------------+--------------------+-------------------------+-------------+------------+-----------+---------------+---------------+----------------+----------+---------+---------+\n",
            "|2024-03-19 00:00:00|          8.05|                96.0|                      0.0|          0.0|         3.0|      100.0|           91.0|           98.0|            37.0|52.2930796|4.8124534|Amsterdam|\n",
            "|2024-03-19 01:00:00|          8.45|                94.0|                      0.0|          0.0|         3.0|       98.0|           87.0|           91.0|            20.0|52.2930796|4.8124534|Amsterdam|\n",
            "|2024-03-19 02:00:00|          8.65|                93.0|                      0.0|          0.0|         3.0|      100.0|           89.0|          100.0|            52.0|52.2930796|4.8124534|Amsterdam|\n",
            "|2024-03-19 03:00:00|           9.6|                92.0|                      0.0|          0.0|         3.0|       98.0|           93.0|           66.0|             6.0|52.2930796|4.8124534|Amsterdam|\n",
            "|2024-03-19 04:00:00|          9.55|                92.0|                      0.0|          0.0|         3.0|      100.0|           65.0|            7.0|           100.0|52.2930796|4.8124534|Amsterdam|\n",
            "|2024-03-19 05:00:00|           9.6|                92.0|                      0.0|          0.0|         3.0|      100.0|          100.0|           43.0|           100.0|52.2930796|4.8124534|Amsterdam|\n",
            "|2024-03-19 06:00:00|           9.8|                91.0|                      0.0|          0.0|         3.0|      100.0|           85.0|           44.0|           100.0|52.2930796|4.8124534|Amsterdam|\n",
            "|2024-03-19 07:00:00|          10.0|                90.0|                      0.0|          0.0|         3.0|       97.0|           92.0|            0.0|            65.0|52.2930796|4.8124534|Amsterdam|\n",
            "|2024-03-19 08:00:00|          10.6|                87.0|                      0.0|          0.0|         3.0|      100.0|          100.0|            0.0|            32.0|52.2930796|4.8124534|Amsterdam|\n",
            "|2024-03-19 09:00:00|         11.65|                83.0|                      0.0|          0.0|         3.0|      100.0|          100.0|            0.0|           100.0|52.2930796|4.8124534|Amsterdam|\n",
            "|2024-03-19 10:00:00|          12.9|                78.0|                      0.0|          0.0|         3.0|       85.0|           80.0|            0.0|            26.0|52.2930796|4.8124534|Amsterdam|\n",
            "|2024-03-19 11:00:00|          14.0|                70.0|                      0.0|          0.0|         3.0|       87.0|           78.0|           12.0|             0.0|52.2930796|4.8124534|Amsterdam|\n",
            "|2024-03-19 12:00:00|          14.7|                63.0|                      0.0|          0.0|         3.0|       84.0|           38.0|           60.0|            37.0|52.2930796|4.8124534|Amsterdam|\n",
            "|2024-03-19 13:00:00|          15.2|                60.0|                      0.0|          0.0|         3.0|       97.0|           78.0|           76.0|             0.0|52.2930796|4.8124534|Amsterdam|\n",
            "|2024-03-19 14:00:00|         14.65|                64.0|                      0.0|          0.0|         3.0|       88.0|           75.0|           64.0|             0.0|52.2930796|4.8124534|Amsterdam|\n",
            "|2024-03-19 15:00:00|         13.45|                65.0|                      0.0|          0.0|         3.0|       95.0|           43.0|           78.0|            46.0|52.2930796|4.8124534|Amsterdam|\n",
            "|2024-03-19 16:00:00|         12.65|                72.0|                      0.0|          0.0|         3.0|      100.0|           77.0|           93.0|           100.0|52.2930796|4.8124534|Amsterdam|\n",
            "|2024-03-19 17:00:00|          11.9|                74.0|                      0.0|          0.0|         3.0|      100.0|           51.0|           85.0|           100.0|52.2930796|4.8124534|Amsterdam|\n",
            "|2024-03-19 18:00:00|          11.1|                79.0|                      0.0|          0.0|         3.0|      100.0|           21.0|          100.0|           100.0|52.2930796|4.8124534|Amsterdam|\n",
            "|2024-03-19 19:00:00|         10.55|                83.0|                      0.0|          0.0|         3.0|      100.0|           74.0|           74.0|           100.0|52.2930796|4.8124534|Amsterdam|\n",
            "+-------------------+--------------+--------------------+-------------------------+-------------+------------+-----------+---------------+---------------+----------------+----------+---------+---------+\n",
            "only showing top 20 rows\n",
            "\n"
          ]
        }
      ],
      "source": [
        "DF = spark.read \\\n",
        "  .format(\"jdbc\") \\\n",
        "  .option(\"url\", \"jdbc:duckdb:database.duckdb\") \\\n",
        "  .option(\"driver\", \"org.duckdb.DuckDBDriver\") \\\n",
        "  .option(\"query\", \"SELECT * FROM weather\") \\\n",
        "  .load()\n",
        "\n",
        "DF.show()"
      ]
    },
    {
      "cell_type": "markdown",
      "metadata": {
        "id": "aFcvlHyrudqD"
      },
      "source": [
        "# MISSINGS"
      ]
    },
    {
      "cell_type": "code",
      "execution_count": null,
      "metadata": {
        "colab": {
          "base_uri": "https://localhost:8080/"
        },
        "id": "p6vmAUy0z_-y",
        "outputId": "4c0370f9-58a3-4fb1-d709-0d5dff1b245e"
      },
      "outputs": [
        {
          "name": "stdout",
          "output_type": "stream",
          "text": [
            "Column 'date' has 0 missings.\n",
            "Column 'temperature_2m' has 0 missings.\n",
            "Column 'relative_humidity_2m' has 0 missings.\n",
            "Column 'precipitation_probability' has 552000 missings.\n",
            "Column 'precipitation' has 0 missings.\n",
            "Column 'weather_code' has 0 missings.\n",
            "Column 'cloud_cover' has 0 missings.\n",
            "Column 'cloud_cover_low' has 0 missings.\n",
            "Column 'cloud_cover_mid' has 0 missings.\n",
            "Column 'cloud_cover_high' has 0 missings.\n",
            "Column 'latitude' has 0 missings.\n",
            "Column 'longitude' has 0 missings.\n",
            "Column 'city' has 0 missings.\n"
          ]
        }
      ],
      "source": [
        "# Function to check missing values\n",
        "def mirar_missings(data):\n",
        "  # Get column names\n",
        "  columns = data.columns\n",
        "\n",
        "  # Count missings for each column\n",
        "  na_counts = [data.filter(F.col(c).isNull()).count() for c in columns]\n",
        "\n",
        "  for c, v in zip(columns, na_counts):\n",
        "      print(f\"Column '{c}' has {v} missings.\")\n",
        "\n",
        "# Check missings\n",
        "mirar_missings(DF)"
      ]
    },
    {
      "cell_type": "markdown",
      "metadata": {},
      "source": [
        "We see that there are no missing values in the dataset except for the column `precipitation_probability` which has 552000 missing values. We will fill these missing values with some logic and, if there are still there, the mean of that day."
      ]
    },
    {
      "cell_type": "code",
      "execution_count": null,
      "metadata": {
        "id": "CszenDO78r3V"
      },
      "outputs": [],
      "source": [
        "# If we have a NA in \"precipitation_probability\" but the precipitation is 0, we set the precipitation probability to 0.\n",
        "DF = DF.withColumn(\n",
        "    \"precipitation_probability\",\n",
        "    F.when(\n",
        "        (F.col(\"precipitation_probability\").isNull()) & (F.col(\"precipitation\") == 0.0),\n",
        "        0.0\n",
        "    ).otherwise(F.col(\"precipitation_probability\"))\n",
        ")"
      ]
    },
    {
      "cell_type": "code",
      "execution_count": null,
      "metadata": {
        "colab": {
          "base_uri": "https://localhost:8080/"
        },
        "id": "p0mvTYtt8sX2",
        "outputId": "819f5451-812c-4b4f-ec05-d172d0b860d4"
      },
      "outputs": [
        {
          "name": "stdout",
          "output_type": "stream",
          "text": [
            "Column 'date' has 0 missings.\n",
            "Column 'temperature_2m' has 0 missings.\n",
            "Column 'relative_humidity_2m' has 0 missings.\n",
            "Column 'precipitation_probability' has 78714 missings.\n",
            "Column 'precipitation' has 0 missings.\n",
            "Column 'weather_code' has 0 missings.\n",
            "Column 'cloud_cover' has 0 missings.\n",
            "Column 'cloud_cover_low' has 0 missings.\n",
            "Column 'cloud_cover_mid' has 0 missings.\n",
            "Column 'cloud_cover_high' has 0 missings.\n",
            "Column 'latitude' has 0 missings.\n",
            "Column 'longitude' has 0 missings.\n",
            "Column 'city' has 0 missings.\n"
          ]
        }
      ],
      "source": [
        "mirar_missings(DF)"
      ]
    },
    {
      "cell_type": "markdown",
      "metadata": {},
      "source": [
        "We see that there are still missings in the column `precipitation_probability` after filling them with the mean of the day. We will fill these missing values with the mean of the same day."
      ]
    },
    {
      "cell_type": "code",
      "execution_count": null,
      "metadata": {
        "id": "iI4ll8w-pPl7"
      },
      "outputs": [],
      "source": [
        "DF = DF.withColumn(\"date_only\", F.to_date(\"date\"))"
      ]
    },
    {
      "cell_type": "code",
      "execution_count": null,
      "metadata": {
        "colab": {
          "base_uri": "https://localhost:8080/"
        },
        "id": "0VpN1uGqpWJR",
        "outputId": "32fc1c5b-0c23-4871-d9e4-169f8d0dd6af"
      },
      "outputs": [
        {
          "name": "stdout",
          "output_type": "stream",
          "text": [
            "+----------+------------------+------------------+-------------------+-------------------------+------------------------------+--------------------+------------------+------------------+--------------------+--------------------+---------------------+\n",
            "| date_only|          latitude|         longitude|mean_temperature_2m|mean_relative_humidity_2m|mean_precipitation_probability|  mean_precipitation| mean_weather_code|  mean_cloud_cover|mean_cloud_cover_low|mean_cloud_cover_mid|mean_cloud_cover_high|\n",
            "+----------+------------------+------------------+-------------------+-------------------------+------------------------------+--------------------+------------------+------------------+--------------------+--------------------+---------------------+\n",
            "|2024-03-27|        52.2930796| 4.837716557894737| 10.151583671569824|        80.70833333333333|             7.791666666666667| 0.03750000149011612| 8.833333333333334| 94.83333333333333|  61.333333333333336|   68.08333333333333|               77.375|\n",
            "|2024-03-20|        52.2930796| 4.879821821052632| 11.930500030517578|        81.08333333333333|                           1.0|                 0.0|               3.0| 99.58333333333333|  37.958333333333336|                91.0|               95.875|\n",
            "|2024-04-03|52.301500652631574| 4.930348136842105|  9.998916645844778|       59.416666666666664|                           0.0|                 0.0|2.7083333333333335| 88.41666666666667|                 0.0|  1.6666666666666667|    86.45833333333333|\n",
            "|2024-03-28| 52.30992170526316| 4.905084978947368|  9.939833362897238|        78.91666666666667|            15.916666666666666| 0.03750000149011612| 7.333333333333333|43.416666666666664|  13.916666666666666|  26.958333333333332|               36.375|\n",
            "|2024-04-02| 52.31834275789473| 4.820874452631579| 10.208916982014975|       59.333333333333336|                           0.0|                 0.0|             1.125|35.958333333333336|                3.75|  1.7083333333333333|   28.916666666666668|\n",
            "|2024-04-01|52.326763810526316|         4.9724534| 10.224749863147736|                    69.75|                           0.0|                 0.0|1.1666666666666667|37.041666666666664|               1.625|   6.416666666666667|   34.583333333333336|\n",
            "|2024-03-31| 52.33518486315789| 4.862979715789473| 11.749999940395355|        72.20833333333333|                           0.0|                 0.0|1.7083333333333333|             59.25|               2.875|                6.75|   55.541666666666664|\n",
            "|2024-03-25| 52.33518486315789| 4.905084978947368| 6.4815836151440935|        72.54166666666667|            11.083333333333334|                 0.0|1.9583333333333333|            58.875|  50.083333333333336|               21.25|   0.6666666666666666|\n",
            "|2024-03-27| 52.33518486315789| 4.921927084210526| 10.076083223025003|        81.41666666666667|                          7.25|0.050000001676380634|14.958333333333334| 97.08333333333333|   65.16666666666667|   68.08333333333333|               78.125|\n",
            "|2024-03-25| 52.34360591578947|4.8714007684210525| 6.4815836151440935|        72.54166666666667|            11.708333333333334|                 0.0|1.9583333333333333|            58.875|  50.083333333333336|               21.25|   0.6666666666666666|\n",
            "|2024-03-19| 52.35202696842105| 4.862979715789473| 11.208917101224264|                   80.625|                          0.25|                 0.0| 6.166666666666667| 96.45833333333333|   72.08333333333333|  59.458333333333336|               63.125|\n",
            "|2024-03-28|52.360448021052626| 4.964032347368421|  9.933333257834116|        78.91666666666667|            15.916666666666666| 0.03750000149011612| 7.333333333333333|43.416666666666664|  13.916666666666666|  26.958333333333332|               36.375|\n",
            "|2024-03-26| 52.36886907368421|  4.89666392631579|  6.663770799835523|        73.29166666666667|            14.166666666666666|                 0.0|2.9166666666666665|              92.5|               38.75|   75.08333333333333|    84.66666666666667|\n",
            "|2024-03-27| 52.36886907368421| 4.905084978947368|  9.948749701182047|        81.95833333333333|                          7.25|0.050000001676380634|14.833333333333334| 94.08333333333333|                63.0|  60.458333333333336|               74.125|\n",
            "|2024-03-22|52.377290126315785| 4.955611294736842|  9.282250046730042|        88.79166666666667|            24.416666666666668|   0.287500006146729|              29.5|             98.25|   72.91666666666667|   94.33333333333333|   23.708333333333332|\n",
            "|2024-03-31| 52.38571117894737|         4.8124534|  11.40625007947286|        74.08333333333333|                           0.0|                 0.0|1.7083333333333333|             58.75|                 2.5|   6.541666666666667|               55.125|\n",
            "|2024-03-25| 52.38571117894737| 4.829295505263158|  6.494583487510681|        72.54166666666667|            13.583333333333334|                 0.0|1.9583333333333333|            58.875|  50.083333333333336|               21.25|   0.6666666666666666|\n",
            "|2024-03-22| 52.39413223157894| 4.964032347368421|  9.262750188509623|        88.79166666666667|            24.416666666666668|   0.287500006146729|              29.5|             98.25|   72.91666666666667|   94.33333333333333|   23.708333333333332|\n",
            "|2024-03-28|52.402553284210526| 4.820874452631579| 10.221583048502604|        76.45833333333333|                        16.625| 0.02500000037252903| 7.333333333333333|43.541666666666664|                11.5|  24.541666666666668|                35.25|\n",
            "|2024-03-28|52.402553284210526|  4.89666392631579|  9.918000241120657|        78.58333333333333|            18.291666666666668| 0.03750000149011612|             7.375|46.083333333333336|  13.833333333333334|  27.583333333333332|   34.416666666666664|\n",
            "+----------+------------------+------------------+-------------------+-------------------------+------------------------------+--------------------+------------------+------------------+--------------------+--------------------+---------------------+\n",
            "only showing top 20 rows\n",
            "\n"
          ]
        }
      ],
      "source": [
        "mean_values = DF.groupBy(\"date_only\", \"latitude\", \"longitude\").agg(\n",
        "    F.mean(\"temperature_2m\").alias(\"mean_temperature_2m\"),\n",
        "    F.mean(\"relative_humidity_2m\").alias(\"mean_relative_humidity_2m\"),\n",
        "    F.mean(\"precipitation_probability\").alias(\"mean_precipitation_probability\"),\n",
        "    F.mean(\"precipitation\").alias(\"mean_precipitation\"),\n",
        "    F.mean(\"weather_code\").alias(\"mean_weather_code\"),\n",
        "    F.mean(\"cloud_cover\").alias(\"mean_cloud_cover\"),\n",
        "    F.mean(\"cloud_cover_low\").alias(\"mean_cloud_cover_low\"),\n",
        "    F.mean(\"cloud_cover_mid\").alias(\"mean_cloud_cover_mid\"),\n",
        "    F.mean(\"cloud_cover_high\").alias(\"mean_cloud_cover_high\")\n",
        ")\n",
        "mean_values.show()"
      ]
    },
    {
      "cell_type": "code",
      "execution_count": null,
      "metadata": {
        "id": "S7P65jq-py3-"
      },
      "outputs": [],
      "source": [
        "DF = DF.join(\n",
        "    mean_values,\n",
        "    on=[\"date_only\", \"latitude\", \"longitude\"],\n",
        "    how=\"left\"\n",
        ")"
      ]
    },
    {
      "cell_type": "code",
      "execution_count": null,
      "metadata": {
        "id": "QENglEk1rhin"
      },
      "outputs": [],
      "source": [
        "columns_to_fill = [\n",
        "    \"temperature_2m\", \"relative_humidity_2m\", \"precipitation_probability\",\n",
        "    \"precipitation\", \"weather_code\", \"cloud_cover\", \"cloud_cover_low\",\n",
        "    \"cloud_cover_mid\", \"cloud_cover_high\"\n",
        "]\n",
        "\n",
        "# Use a loop to replace missing values with the corresponding means\n",
        "for col in columns_to_fill:\n",
        "    DF = DF.withColumn(col, F.coalesce(DF[col], DF[f\"mean_{col}\"]))\n",
        "\n",
        "# Clean the DataFrame by dropping the mean columns\n",
        "columns_to_drop = [f\"mean_{col}\" for col in columns_to_fill]\n",
        "columns_to_drop.append(\"date_only\")\n",
        "DF = DF.drop(*columns_to_drop)"
      ]
    },
    {
      "cell_type": "code",
      "execution_count": null,
      "metadata": {
        "colab": {
          "base_uri": "https://localhost:8080/"
        },
        "id": "uHN1DZAqtlLd",
        "outputId": "f40839cf-b8b8-4b65-88b2-b52bf8b51647"
      },
      "outputs": [
        {
          "name": "stdout",
          "output_type": "stream",
          "text": [
            "Column 'latitude' has 0 missings.\n",
            "Column 'longitude' has 0 missings.\n",
            "Column 'date' has 0 missings.\n",
            "Column 'temperature_2m' has 0 missings.\n",
            "Column 'relative_humidity_2m' has 0 missings.\n",
            "Column 'precipitation_probability' has 0 missings.\n",
            "Column 'precipitation' has 0 missings.\n",
            "Column 'weather_code' has 0 missings.\n",
            "Column 'cloud_cover' has 0 missings.\n",
            "Column 'cloud_cover_low' has 0 missings.\n",
            "Column 'cloud_cover_mid' has 0 missings.\n",
            "Column 'cloud_cover_high' has 0 missings.\n",
            "Column 'city' has 0 missings.\n"
          ]
        }
      ],
      "source": [
        "mirar_missings(DF)"
      ]
    },
    {
      "cell_type": "markdown",
      "metadata": {},
      "source": [
        "We see that there are no more missings in the dataset."
      ]
    },
    {
      "cell_type": "markdown",
      "metadata": {
        "id": "jR-2Vcc1JR32"
      },
      "source": [
        "# CANVI DE VARIABLES: weather_code"
      ]
    },
    {
      "cell_type": "markdown",
      "metadata": {
        "id": "H95rw1tjEHai"
      },
      "source": [
        "Aquesta variable és numèrica, tot i que representa un estat del cel, per tant, canviarem la variable *weather_code* per *weather_description*, una variable que explicarà millor l'estat del cel.\n",
        "\n",
        "> Informació utilitzada: [https://open-meteo.com/en/docs/](https://open-meteo.com/en/docs/)\n",
        "\n",
        "\n",
        "\n"
      ]
    },
    {
      "cell_type": "code",
      "execution_count": null,
      "metadata": {
        "colab": {
          "base_uri": "https://localhost:8080/"
        },
        "id": "qrbsLG3pIj1G",
        "outputId": "d5429ce4-1872-48bf-ce47-8fafcc8606ff"
      },
      "outputs": [
        {
          "name": "stdout",
          "output_type": "stream",
          "text": [
            "+------------+------+\n",
            "|weather_code| count|\n",
            "+------------+------+\n",
            "|         0.0|225354|\n",
            "|         1.0|166518|\n",
            "|         2.0|244533|\n",
            "|         3.0|719045|\n",
            "|        45.0|  5447|\n",
            "|        51.0|110978|\n",
            "|        53.0| 15782|\n",
            "|        55.0|  4103|\n",
            "|        61.0| 28331|\n",
            "|        63.0|   610|\n",
            "|        80.0| 14756|\n",
            "|        95.0|   543|\n",
            "+------------+------+\n",
            "\n"
          ]
        }
      ],
      "source": [
        "# See the counts of each weather code\n",
        "weather_code_counts = DF.groupBy(\"weather_code\").count()\n",
        "weather_code_counts = weather_code_counts.orderBy(\"weather_code\")\n",
        "weather_code_counts.show()"
      ]
    },
    {
      "cell_type": "code",
      "execution_count": null,
      "metadata": {
        "id": "pbm0oSn-JYsm"
      },
      "outputs": [],
      "source": [
        "# Create an updated dataset with the weather description\n",
        "DF = DF.withColumn(\"weather_description\",\n",
        "    F.when(F.col(\"weather_code\") == 0.0, \"Sense Nuvols\")\n",
        "     .when(F.col(\"weather_code\") == 1.0, \"Nuvols Low\")\n",
        "     .when(F.col(\"weather_code\") == 2.0, \"Nuvols Medium\")\n",
        "     .when(F.col(\"weather_code\") == 3.0, \"Nuvols High\")\n",
        "     .when(F.col(\"weather_code\") == 45.0, \"Boira\")\n",
        "     .when(F.col(\"weather_code\") == 51.0, \"Pluja Low\")\n",
        "     .when((F.col(\"weather_code\") == 53.0) | (F.col(\"weather_code\") == 55.0) | (F.col(\"weather_code\") == 61.0) | (F.col(\"weather_code\") == 63.0), \"Pluja Medium\")\n",
        "     .when(F.col(\"weather_code\") == 80.0, \"Pluja High\")\n",
        "     .when(F.col(\"weather_code\") == 95.0, \"Tempesta\")\n",
        "     .otherwise(\"Desconocido\")\n",
        ")\n",
        "DF = DF.drop(\"weather_code\")"
      ]
    },
    {
      "cell_type": "code",
      "execution_count": null,
      "metadata": {
        "colab": {
          "base_uri": "https://localhost:8080/"
        },
        "id": "t6lYKwEUGjsb",
        "outputId": "7884f674-d7e7-4c38-cdef-ef06df06bf55"
      },
      "outputs": [
        {
          "name": "stdout",
          "output_type": "stream",
          "text": [
            "+-------------------+------+\n",
            "|weather_description| count|\n",
            "+-------------------+------+\n",
            "|              Boira|  5447|\n",
            "|        Nuvols High|719045|\n",
            "|         Nuvols Low|166518|\n",
            "|      Nuvols Medium|244533|\n",
            "|         Pluja High| 14756|\n",
            "|          Pluja Low|110978|\n",
            "|       Pluja Medium| 48826|\n",
            "|       Sense Nuvols|225354|\n",
            "|           Tempesta|   543|\n",
            "+-------------------+------+\n",
            "\n"
          ]
        }
      ],
      "source": [
        "# Check the counts of each weather description\n",
        "weather_code_counts = DF.groupBy(\"weather_description\").count()\n",
        "weather_code_counts = weather_code_counts.orderBy(\"weather_description\")\n",
        "weather_code_counts.show()"
      ]
    },
    {
      "cell_type": "markdown",
      "metadata": {
        "id": "mA0bmhINEsUy"
      },
      "source": [
        "# AGRUPACIÓ DE FILES"
      ]
    },
    {
      "cell_type": "markdown",
      "metadata": {
        "id": "UOuxDfUxRUdQ"
      },
      "source": [
        "In order to simplify the problem, we will group the values by day/month/year and not by hour/day/month/year. To do this, some columns will be grouped by the mean and others by the sum."
      ]
    },
    {
      "cell_type": "code",
      "execution_count": null,
      "metadata": {
        "id": "MM3IJIf6Hhhw"
      },
      "outputs": [],
      "source": [
        "from pyspark.sql.types import DateType, StringType, MapType, IntegerType"
      ]
    },
    {
      "cell_type": "code",
      "execution_count": null,
      "metadata": {
        "id": "NNiJ_f2BEx_R"
      },
      "outputs": [],
      "source": [
        "# We assure that the 'date' column is a date type\n",
        "DF = DF.withColumn('date', F.to_date('date'))\n",
        "\n",
        "# Group by date, latitude and longitude and make the necessary aggregations\n",
        "DF = DF.groupBy('date', 'latitude', 'longitude').agg(\n",
        "    F.first('latitude').alias('avg_latitude'),\n",
        "    F.first('longitude').alias('avg_longitude'),\n",
        "    F.mean('temperature_2m').alias('avg_temperature_2m'),\n",
        "    F.mean('relative_humidity_2m').alias('avg_relative_humidity_2m'),\n",
        "    F.mean('precipitation_probability').alias('avg_precipitation_probability'),\n",
        "    F.sum('precipitation').alias('total_precipitation'),\n",
        "    F.mean('cloud_cover').alias('avg_cloud_cover'),\n",
        "    F.mean('cloud_cover_low').alias('avg_cloud_cover_low'),\n",
        "    F.mean('cloud_cover_mid').alias('avg_cloud_cover_mid'),\n",
        "    F.mean('cloud_cover_high').alias('avg_cloud_cover_high'),\n",
        "    F.first('city').alias('city'),\n",
        "    F.collect_list('weather_description').alias('weather_descriptions')\n",
        ")"
      ]
    },
    {
      "cell_type": "code",
      "execution_count": null,
      "metadata": {
        "id": "QvZGGTthKOI0"
      },
      "outputs": [],
      "source": [
        "def count_descriptions(descriptions):\n",
        "    counts = {}\n",
        "    for desc in descriptions:\n",
        "        counts[desc] = counts.get(desc, 0) + 1\n",
        "    return counts\n",
        "\n",
        "# Registrate the UDF\n",
        "count_descriptions_udf = F.udf(count_descriptions, MapType(StringType(), IntegerType()))\n",
        "\n",
        "# Apply the UDF to the DataFrame\n",
        "DF = DF.withColumn(\n",
        "    'weather_description_count',\n",
        "    count_descriptions_udf('weather_descriptions')\n",
        ")"
      ]
    },
    {
      "cell_type": "code",
      "execution_count": null,
      "metadata": {
        "colab": {
          "base_uri": "https://localhost:8080/"
        },
        "id": "M_VE1vXPKSc6",
        "outputId": "b1beca4a-f54f-4fb8-91b4-a2ae60281536"
      },
      "outputs": [
        {
          "name": "stdout",
          "output_type": "stream",
          "text": [
            "64000\n"
          ]
        }
      ],
      "source": [
        "print(DF.count())"
      ]
    },
    {
      "cell_type": "markdown",
      "metadata": {},
      "source": [
        "Now, we have 64.000 rows in the dataset."
      ]
    },
    {
      "cell_type": "code",
      "execution_count": null,
      "metadata": {
        "id": "wN0nG8gzHKex"
      },
      "outputs": [],
      "source": [
        "# We only keep the columns we need\n",
        "DF = DF.select('date', 'city', 'latitude', 'longitude', 'avg_temperature_2m',\n",
        "                     'avg_relative_humidity_2m', 'avg_precipitation_probability',\n",
        "                     'total_precipitation', 'avg_cloud_cover', 'avg_cloud_cover_low',\n",
        "                     'avg_cloud_cover_mid', 'avg_cloud_cover_high', 'weather_description_count')"
      ]
    },
    {
      "cell_type": "code",
      "execution_count": null,
      "metadata": {
        "colab": {
          "base_uri": "https://localhost:8080/"
        },
        "id": "zfGswsICSxc-",
        "outputId": "c52f92fb-60ff-4351-886f-9c7ae00f6ca5"
      },
      "outputs": [
        {
          "name": "stdout",
          "output_type": "stream",
          "text": [
            "+----------+------+-----------------+------------------+------------------+------------------------+-----------------------------+-------------------+--------------------+--------------------+-------------------+--------------------+-------------------------+\n",
            "|      date|  city|         latitude|         longitude|avg_temperature_2m|avg_relative_humidity_2m|avg_precipitation_probability|total_precipitation|     avg_cloud_cover| avg_cloud_cover_low|avg_cloud_cover_mid|avg_cloud_cover_high|weather_description_count|\n",
            "+----------+------+-----------------+------------------+------------------+------------------------+-----------------------------+-------------------+--------------------+--------------------+-------------------+--------------------+-------------------------+\n",
            "|2024-03-19|Athens|       33.8797677|        -83.456398| 7.064750048021476|                  32.375|                          0.0|                0.0|                 0.0|                 0.0|                0.0|                 0.0|     {Sense Nuvols -> 24}|\n",
            "|2024-03-19|Athens|       33.8797677|-83.44797694736842| 7.149250260554254|                  32.375|                          0.0|                0.0|                 0.0|                 0.0|                0.0|                 0.0|     {Sense Nuvols -> 24}|\n",
            "|2024-03-19|Athens|       33.8797677|-83.43955589473684| 7.190416609868407|                  31.625|                          0.0|                0.0|                 0.0|                 0.0|                0.0|                 0.0|     {Sense Nuvols -> 24}|\n",
            "|2024-03-19|Athens|       33.8797677|-83.43113484210525| 7.164416588842869|                  31.625|                          0.0|                0.0|                 0.0|                 0.0|                0.0|                 0.0|     {Sense Nuvols -> 24}|\n",
            "|2024-03-19|Athens|       33.8797677|-83.40587168421052| 7.304083292993407|      31.083333333333332|                          0.0|                0.0|0.041666666666666664|0.041666666666666664|                0.0|                 0.0|     {Sense Nuvols -> 24}|\n",
            "|2024-03-19|Athens|       33.8797677|-83.38902957894736| 7.427583223208785|      31.083333333333332|                          0.0|                0.0|0.041666666666666664|0.041666666666666664|                0.0|                 0.0|     {Sense Nuvols -> 24}|\n",
            "|2024-03-19|Athens|       33.8797677| -83.3721874736842|  7.39958348001043|      31.958333333333332|                          0.0|                0.0|                0.25|                0.25|                0.0|                 0.0|     {Sense Nuvols -> 24}|\n",
            "|2024-03-19|Athens|       33.8797677|-83.35534536842104| 7.464583328614633|      31.958333333333332|                          0.0|                0.0|                0.25|                0.25|                0.0|                 0.0|     {Sense Nuvols -> 24}|\n",
            "|2024-03-19|Athens|       33.8797677|-83.33008221052631| 7.440583318471909|      31.708333333333332|                          0.0|                0.0|  0.5416666666666666|  0.5416666666666666|                0.0|                 0.0|     {Sense Nuvols -> 24}|\n",
            "|2024-03-19|Athens|       33.8797677|-83.32166115789474| 7.362583255395293|      31.708333333333332|                          0.0|                0.0|  0.5416666666666666|  0.5416666666666666|                0.0|                 0.0|     {Sense Nuvols -> 24}|\n",
            "|2024-03-19|Athens|       33.8797677|-83.30481905263157| 7.317749996980031|                  31.625|                          0.0|                0.0|                0.75|                0.75|                0.0|                 0.0|     {Sense Nuvols -> 24}|\n",
            "|2024-03-19|Athens|33.88818875263158|-83.43955589473684| 7.216416630273064|                  31.625|                          0.0|                0.0|                 0.0|                 0.0|                0.0|                 0.0|     {Sense Nuvols -> 24}|\n",
            "|2024-03-19|Athens|33.88818875263158|-83.43113484210525| 7.138416577130556|                  31.625|                          0.0|                0.0|                 0.0|                 0.0|                0.0|                 0.0|     {Sense Nuvols -> 24}|\n",
            "|2024-03-19|Athens|33.88818875263158|-83.40587168421052|7.2585833339641495|      31.083333333333332|                          0.0|                0.0|0.041666666666666664|0.041666666666666664|                0.0|                 0.0|     {Sense Nuvols -> 24}|\n",
            "|2024-03-19|Athens|33.88818875263158|-83.39745063157895|7.2910834805419045|      31.083333333333332|                          0.0|                0.0|0.041666666666666664|0.041666666666666664|                0.0|                 0.0|     {Sense Nuvols -> 24}|\n",
            "|2024-03-19|Athens|33.88818875263158|-83.38060852631578|7.4600832884510355|      31.083333333333332|                          0.0|                0.0|0.041666666666666664|0.041666666666666664|                0.0|                 0.0|     {Sense Nuvols -> 24}|\n",
            "|2024-03-19|Athens|33.88818875263158|-83.35534536842104| 7.393083434551954|      31.958333333333332|                          0.0|                0.0|                0.25|                0.25|                0.0|                 0.0|     {Sense Nuvols -> 24}|\n",
            "|2024-03-19|Athens|33.88818875263158|-83.33850326315789| 7.203083311052372|      32.541666666666664|                          0.0|                0.0|0.041666666666666664|0.041666666666666664|                0.0|                 0.0|     {Sense Nuvols -> 24}|\n",
            "|2024-03-19|Athens|33.88818875263158|-83.32166115789474|  7.18358333564053|      32.541666666666664|                          0.0|                0.0|0.041666666666666664|0.041666666666666664|                0.0|                 0.0|     {Sense Nuvols -> 24}|\n",
            "|2024-03-19|Athens|33.88818875263158|-83.31324010526315|  7.20958335371688|      32.541666666666664|                          0.0|                0.0|0.041666666666666664|0.041666666666666664|                0.0|                 0.0|     {Sense Nuvols -> 24}|\n",
            "+----------+------+-----------------+------------------+------------------+------------------------+-----------------------------+-------------------+--------------------+--------------------+-------------------+--------------------+-------------------------+\n",
            "only showing top 20 rows\n",
            "\n"
          ]
        }
      ],
      "source": [
        "DF.show()"
      ]
    },
    {
      "cell_type": "markdown",
      "metadata": {
        "id": "QFVY1c-aonfl"
      },
      "source": [
        "Once we have the rows grouped by day/month/year, we have to make sure that the weather state is correctly maintained in the variable *weather_description_count*.\n",
        "\n",
        "In order to do so, we will create a function that returns *string* that describes the weather state."
      ]
    },
    {
      "cell_type": "code",
      "execution_count": null,
      "metadata": {
        "id": "TP9Nbl5zcOHf"
      },
      "outputs": [],
      "source": [
        "def estat_cel(description_map):\n",
        "    conditions = {\n",
        "        \"Sense Nuvols\": (\"Despejado\", 10),\n",
        "        \"Nuvols Low\": (\"Poco nublado\", 6),\n",
        "        \"Nuvols Medium\": (\"Parcialmente nublado\", 6),\n",
        "        \"Nuvols High\": (\"Nublado\", 6),\n",
        "        \"Pluja Low\": (\"Lloviznas\", 4),\n",
        "        \"Pluja Medium\": (\"Lluvias moderadas\", 4),\n",
        "        \"Pluja High\": (\"Lluvias intensas\", 4),\n",
        "        \"Boira\": (\"Niebla\", 3),\n",
        "        \"Tempesta\": (\"Tormenta\", 1)\n",
        "    }\n",
        "\n",
        "    # Order the descriptions by the count\n",
        "    descriptions = []\n",
        "    for key, (label, threshold) in conditions.items():\n",
        "        if description_map.get(key, 0) > threshold:\n",
        "            descriptions.append(label)\n",
        "\n",
        "    if not descriptions:\n",
        "        # If any condition is met, we assign the condition with the highest count that is relevant but did not reach the threshold\n",
        "        highest_count = max(description_map.items(), key=lambda x: x[1])\n",
        "        if highest_count[1] > 0:\n",
        "            descriptions.append(conditions.get(highest_count[0], (highest_count[0], 0))[0])\n",
        "        else:\n",
        "            descriptions.append(\"Condición no específica\")\n",
        "\n",
        "    return ', '.join(descriptions)\n",
        "\n",
        "# Register the UDF\n",
        "estat_cel_udf = F.udf(estat_cel, StringType())\n",
        "\n",
        "# Create a new column with the weather state using the UDF\n",
        "DF = DF.withColumn(\"estat_cel\", estat_cel_udf(\"weather_description_count\"))"
      ]
    },
    {
      "cell_type": "code",
      "execution_count": null,
      "metadata": {
        "colab": {
          "base_uri": "https://localhost:8080/"
        },
        "id": "LJJRjkemVQVQ",
        "outputId": "0fb4b79e-33ad-4565-fc4f-0b868c6c4238"
      },
      "outputs": [
        {
          "name": "stdout",
          "output_type": "stream",
          "text": [
            "+-----------------------------------------------+-----+\n",
            "|estat_cel                                      |count|\n",
            "+-----------------------------------------------+-----+\n",
            "|Despejado                                      |5156 |\n",
            "|Despejado, Nublado                             |1533 |\n",
            "|Despejado, Poco nublado                        |584  |\n",
            "|Lloviznas                                      |3013 |\n",
            "|Lloviznas, Lluvias moderadas                   |617  |\n",
            "|Lloviznas, Niebla                              |5    |\n",
            "|Lluvias intensas                               |342  |\n",
            "|Lluvias moderadas                              |160  |\n",
            "|Nublado                                        |28028|\n",
            "|Nublado, Lloviznas                             |4485 |\n",
            "|Nublado, Lloviznas, Lluvias intensas           |2    |\n",
            "|Nublado, Lloviznas, Lluvias moderadas          |539  |\n",
            "|Nublado, Lluvias intensas                      |326  |\n",
            "|Nublado, Lluvias moderadas                     |2684 |\n",
            "|Nublado, Niebla                                |170  |\n",
            "|Nublado, Tormenta                              |181  |\n",
            "|Parcialmente nublado                           |3278 |\n",
            "|Parcialmente nublado, Lloviznas                |159  |\n",
            "|Parcialmente nublado, Lluvias intensas         |418  |\n",
            "|Parcialmente nublado, Niebla                   |14   |\n",
            "|Parcialmente nublado, Nublado                  |6334 |\n",
            "|Parcialmente nublado, Nublado, Lloviznas       |36   |\n",
            "|Parcialmente nublado, Nublado, Lluvias intensas|21   |\n",
            "|Parcialmente nublado, Nublado, Niebla          |197  |\n",
            "|Poco nublado                                   |3306 |\n",
            "|Poco nublado, Lloviznas                        |99   |\n",
            "|Poco nublado, Lluvias moderadas                |204  |\n",
            "|Poco nublado, Niebla                           |225  |\n",
            "|Poco nublado, Nublado                          |1196 |\n",
            "|Poco nublado, Nublado, Lluvias moderadas       |140  |\n",
            "|Poco nublado, Parcialmente nublado             |360  |\n",
            "|Poco nublado, Parcialmente nublado, Nublado    |188  |\n",
            "+-----------------------------------------------+-----+\n",
            "\n"
          ]
        }
      ],
      "source": [
        "# We check the counts of each weather state\n",
        "estat_cel_counts = DF.groupBy(\"estat_cel\").count()\n",
        "estat_cel_counts = estat_cel_counts.orderBy(\"estat_cel\")\n",
        "estat_cel_counts.show(truncate=False, n=50)"
      ]
    },
    {
      "cell_type": "markdown",
      "metadata": {
        "id": "gkOVUFTdpWTm"
      },
      "source": [
        "Nevertheles, we see that there are many rows that are repeated or inconsistent:\n",
        "\n",
        "*   *Parcialmente nublado, Nublado, Lluvias intensas*\n",
        "\n",
        "In that cases, we will decide if the sky is partially cloudy or cloudy."
      ]
    },
    {
      "cell_type": "code",
      "execution_count": null,
      "metadata": {
        "id": "ZIOFBbvgk_0O"
      },
      "outputs": [],
      "source": [
        "# Diccionario de reemplazos\n",
        "replacements = {\n",
        "    \"Despejado, Nublado\": \"Parcialmente nublado\",   # We merge these two categories\n",
        "    \"Despejado, Poco nublado\": \"Parcialmente nublado\",  # We merge these two categories\n",
        "    \"Lloviznas, Lluvias moderadas\": \"Lluvias ligeras\",  # We merge these two categories\n",
        "    \"Nublado, Lloviznas, Lluvias intensas\": \"Nublado, Lluvias moderadas\",   # We merge these two categories\n",
        "    \"Nublado, Lloviznas, Lluvias moderadas\": \"Nublado, Lluvias moderadas\",  # We merge these two categories (we keep lluvias moderadas as the sky is very cloudy)\n",
        "    \"Poco nublado\": \"Parcialmente nublado\", # We delete poco nublado and transform it into parcialmente nublado\n",
        "    \"Poco nublado, Lloviznas\": \"Parcialmente nublado, Lloviznas\",   # We delete poco nublado and transform it into parcialmente nublado\n",
        "    \"Poco nublado, Lluvias moderadas\": \"Parcialmente nublado, Lluvias moderadas\",   # We delete poco nublado and transform it into parcialmente nublado\n",
        "    \"Poco nublado, Niebla\": \"Parcialmente nublado, Niebla\", # We delete poco nublado and transform it into parcialmente nublado\n",
        "    \"Poco nublado, Nublado\": \"Parcialmente nublado\",    # We merge these two categories\n",
        "    \"Poco nublado, Nublado, Lluvias moderadas\": \"Nublado, Lluvias moderadas\",   # As it rains moderately, we consider it as a cloudy day\n",
        "    \"Poco nublado, Parcialmente nublado\": \"Parcialmente nublado\",   # We delete poco nublado and transform it into parcialmente nublado\n",
        "    \"Poco nublado, Parcialmente nublado, Nublado\": \"Parcialmente nublado\",  # We merge these three categories\n",
        "    \"Parcialmente nublado, Nublado\": \"Parcialmente nublado\",    # We keep the lowest category\n",
        "    \"Parcialmente nublado, Nublado, Lloviznas\": \"Parcialmente nublado, Lloviznas\",  # We still keep the lowest category\n",
        "    \"Parcialmente nublado, Nublado, Lluvias intensas\": \"Nublado, Lluvias intensas\", # We consider it as a cloudy day as it rains a lot\n",
        "    \"Parcialmente nublado, Nublado, Niebla\": \"Nublado, Niebla\"  # If it is foggy, we consider it as a cloudy day\n",
        "}\n",
        "\n",
        "# Create a conditional expression to replace the values\n",
        "replacement_expr = F.col(\"estat_cel\")\n",
        "for key, value in replacements.items():\n",
        "    replacement_expr = F.when(F.col(\"estat_cel\") == key, value).otherwise(replacement_expr)\n",
        "\n",
        "# Apply the conditional expression\n",
        "DF = DF.withColumn(\"estat_cel\", replacement_expr)\n",
        "\n",
        "DF = DF.drop(\"weather_description_count\")"
      ]
    },
    {
      "cell_type": "code",
      "execution_count": null,
      "metadata": {
        "colab": {
          "base_uri": "https://localhost:8080/"
        },
        "id": "LHFCO_oVnxbl",
        "outputId": "911e4597-4708-4cbd-913d-e7b51434f9ac"
      },
      "outputs": [
        {
          "name": "stdout",
          "output_type": "stream",
          "text": [
            "+---------------------------------------+-----+\n",
            "|estat_cel                              |count|\n",
            "+---------------------------------------+-----+\n",
            "|Despejado                              |5156 |\n",
            "|Lloviznas                              |3013 |\n",
            "|Lloviznas, Niebla                      |5    |\n",
            "|Lluvias intensas                       |342  |\n",
            "|Lluvias ligeras                        |617  |\n",
            "|Lluvias moderadas                      |160  |\n",
            "|Nublado                                |28028|\n",
            "|Nublado, Lloviznas                     |4485 |\n",
            "|Nublado, Lluvias intensas              |347  |\n",
            "|Nublado, Lluvias moderadas             |3365 |\n",
            "|Nublado, Niebla                        |367  |\n",
            "|Nublado, Tormenta                      |181  |\n",
            "|Parcialmente nublado                   |16779|\n",
            "|Parcialmente nublado, Lloviznas        |294  |\n",
            "|Parcialmente nublado, Lluvias intensas |418  |\n",
            "|Parcialmente nublado, Lluvias moderadas|204  |\n",
            "|Parcialmente nublado, Niebla           |239  |\n",
            "+---------------------------------------+-----+\n",
            "\n"
          ]
        }
      ],
      "source": [
        "# Check the counts of each weather state\n",
        "estat_cel_counts = DF.groupBy(\"estat_cel\").count()\n",
        "estat_cel_counts = estat_cel_counts.orderBy(\"estat_cel\")\n",
        "estat_cel_counts.show(truncate=False, n=30)"
      ]
    },
    {
      "cell_type": "code",
      "execution_count": null,
      "metadata": {
        "colab": {
          "base_uri": "https://localhost:8080/"
        },
        "id": "bKgm1jPFqcsQ",
        "outputId": "171af5cf-518a-4d74-a669-0861ff84b3b7"
      },
      "outputs": [
        {
          "name": "stdout",
          "output_type": "stream",
          "text": [
            "+----------+------+-----------------+------------------+------------------+------------------------+-----------------------------+-------------------+--------------------+--------------------+-------------------+--------------------+---------+\n",
            "|      date|  city|         latitude|         longitude|avg_temperature_2m|avg_relative_humidity_2m|avg_precipitation_probability|total_precipitation|     avg_cloud_cover| avg_cloud_cover_low|avg_cloud_cover_mid|avg_cloud_cover_high|estat_cel|\n",
            "+----------+------+-----------------+------------------+------------------+------------------------+-----------------------------+-------------------+--------------------+--------------------+-------------------+--------------------+---------+\n",
            "|2024-03-19|Athens|       33.8797677|        -83.456398| 7.064750048021476|                  32.375|                          0.0|                0.0|                 0.0|                 0.0|                0.0|                 0.0|Despejado|\n",
            "|2024-03-19|Athens|       33.8797677|-83.44797694736842| 7.149250260554254|                  32.375|                          0.0|                0.0|                 0.0|                 0.0|                0.0|                 0.0|Despejado|\n",
            "|2024-03-19|Athens|       33.8797677|-83.43955589473684| 7.190416609868407|                  31.625|                          0.0|                0.0|                 0.0|                 0.0|                0.0|                 0.0|Despejado|\n",
            "|2024-03-19|Athens|       33.8797677|-83.43113484210525| 7.164416588842869|                  31.625|                          0.0|                0.0|                 0.0|                 0.0|                0.0|                 0.0|Despejado|\n",
            "|2024-03-19|Athens|       33.8797677|-83.40587168421052| 7.304083292993407|      31.083333333333332|                          0.0|                0.0|0.041666666666666664|0.041666666666666664|                0.0|                 0.0|Despejado|\n",
            "|2024-03-19|Athens|       33.8797677|-83.38902957894736| 7.427583223208785|      31.083333333333332|                          0.0|                0.0|0.041666666666666664|0.041666666666666664|                0.0|                 0.0|Despejado|\n",
            "|2024-03-19|Athens|       33.8797677| -83.3721874736842|  7.39958348001043|      31.958333333333332|                          0.0|                0.0|                0.25|                0.25|                0.0|                 0.0|Despejado|\n",
            "|2024-03-19|Athens|       33.8797677|-83.35534536842104| 7.464583328614633|      31.958333333333332|                          0.0|                0.0|                0.25|                0.25|                0.0|                 0.0|Despejado|\n",
            "|2024-03-19|Athens|       33.8797677|-83.33008221052631| 7.440583318471909|      31.708333333333332|                          0.0|                0.0|  0.5416666666666666|  0.5416666666666666|                0.0|                 0.0|Despejado|\n",
            "|2024-03-19|Athens|       33.8797677|-83.32166115789474| 7.362583255395293|      31.708333333333332|                          0.0|                0.0|  0.5416666666666666|  0.5416666666666666|                0.0|                 0.0|Despejado|\n",
            "|2024-03-19|Athens|       33.8797677|-83.30481905263157| 7.317749996980031|                  31.625|                          0.0|                0.0|                0.75|                0.75|                0.0|                 0.0|Despejado|\n",
            "|2024-03-19|Athens|33.88818875263158|-83.43955589473684| 7.216416630273064|                  31.625|                          0.0|                0.0|                 0.0|                 0.0|                0.0|                 0.0|Despejado|\n",
            "|2024-03-19|Athens|33.88818875263158|-83.43113484210525| 7.138416577130556|                  31.625|                          0.0|                0.0|                 0.0|                 0.0|                0.0|                 0.0|Despejado|\n",
            "|2024-03-19|Athens|33.88818875263158|-83.40587168421052|7.2585833339641495|      31.083333333333332|                          0.0|                0.0|0.041666666666666664|0.041666666666666664|                0.0|                 0.0|Despejado|\n",
            "|2024-03-19|Athens|33.88818875263158|-83.39745063157895|7.2910834805419045|      31.083333333333332|                          0.0|                0.0|0.041666666666666664|0.041666666666666664|                0.0|                 0.0|Despejado|\n",
            "|2024-03-19|Athens|33.88818875263158|-83.38060852631578|7.4600832884510355|      31.083333333333332|                          0.0|                0.0|0.041666666666666664|0.041666666666666664|                0.0|                 0.0|Despejado|\n",
            "|2024-03-19|Athens|33.88818875263158|-83.35534536842104| 7.393083434551954|      31.958333333333332|                          0.0|                0.0|                0.25|                0.25|                0.0|                 0.0|Despejado|\n",
            "|2024-03-19|Athens|33.88818875263158|-83.33850326315789| 7.203083311052372|      32.541666666666664|                          0.0|                0.0|0.041666666666666664|0.041666666666666664|                0.0|                 0.0|Despejado|\n",
            "|2024-03-19|Athens|33.88818875263158|-83.32166115789474|  7.18358333564053|      32.541666666666664|                          0.0|                0.0|0.041666666666666664|0.041666666666666664|                0.0|                 0.0|Despejado|\n",
            "|2024-03-19|Athens|33.88818875263158|-83.31324010526315|  7.20958335371688|      32.541666666666664|                          0.0|                0.0|0.041666666666666664|0.041666666666666664|                0.0|                 0.0|Despejado|\n",
            "+----------+------+-----------------+------------------+------------------+------------------------+-----------------------------+-------------------+--------------------+--------------------+-------------------+--------------------+---------+\n",
            "only showing top 20 rows\n",
            "\n"
          ]
        }
      ],
      "source": [
        "DF.show()"
      ]
    },
    {
      "cell_type": "markdown",
      "metadata": {},
      "source": [
        "We save the dataset"
      ]
    },
    {
      "cell_type": "code",
      "execution_count": null,
      "metadata": {
        "id": "ss6v0N6sG48a"
      },
      "outputs": [],
      "source": [
        "conn = duckdb.connect(\"quality_database.duckdb\")\n",
        "conn.close()\n",
        "\n",
        "DF.write \\\n",
        "    .format(\"jdbc\") \\\n",
        "    .option(\"url\", \"jdbc:duckdb:quality_database.duckdb\") \\\n",
        "    .option(\"dbtable\", \"weather\") \\\n",
        "    .option(\"driver\", \"org.duckdb.DuckDBDriver\") \\\n",
        "    .save()"
      ]
    }
  ],
  "metadata": {
    "colab": {
      "provenance": []
    },
    "kernelspec": {
      "display_name": "Python 3",
      "name": "python3"
    },
    "language_info": {
      "name": "python"
    }
  },
  "nbformat": 4,
  "nbformat_minor": 0
}
