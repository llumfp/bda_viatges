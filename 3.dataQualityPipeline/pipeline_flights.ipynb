{
  "nbformat": 4,
  "nbformat_minor": 0,
  "metadata": {
    "colab": {
      "provenance": []
    },
    "kernelspec": {
      "name": "python3",
      "display_name": "Python 3"
    },
    "language_info": {
      "name": "python"
    }
  },
  "cells": [
    {
      "cell_type": "code",
      "execution_count": null,
      "metadata": {
        "colab": {
          "base_uri": "https://localhost:8080/"
        },
        "id": "Q995YKSTjvz8",
        "outputId": "392fb314-62bb-4fc4-8593-2f04e558cad8"
      },
      "outputs": [
        {
          "output_type": "stream",
          "name": "stdout",
          "text": [
            "Requirement already satisfied: duckdb in /usr/local/lib/python3.10/dist-packages (0.10.1)\n",
            "Collecting duckdb\n",
            "  Downloading duckdb-0.10.2-cp310-cp310-manylinux_2_17_x86_64.manylinux2014_x86_64.whl (18.2 MB)\n",
            "\u001b[2K     \u001b[90m━━━━━━━━━━━━━━━━━━━━━━━━━━━━━━━━━━━━━━━━\u001b[0m \u001b[32m18.2/18.2 MB\u001b[0m \u001b[31m4.4 MB/s\u001b[0m eta \u001b[36m0:00:00\u001b[0m\n",
            "\u001b[?25hRequirement already satisfied: pandas in /usr/local/lib/python3.10/dist-packages (2.2.2)\n",
            "Requirement already satisfied: numpy>=1.22.4 in /usr/local/lib/python3.10/dist-packages (from pandas) (1.25.2)\n",
            "Requirement already satisfied: python-dateutil>=2.8.2 in /usr/local/lib/python3.10/dist-packages (from pandas) (2.8.2)\n",
            "Requirement already satisfied: pytz>=2020.1 in /usr/local/lib/python3.10/dist-packages (from pandas) (2023.4)\n",
            "Requirement already satisfied: tzdata>=2022.7 in /usr/local/lib/python3.10/dist-packages (from pandas) (2024.1)\n",
            "Requirement already satisfied: six>=1.5 in /usr/local/lib/python3.10/dist-packages (from python-dateutil>=2.8.2->pandas) (1.16.0)\n",
            "Installing collected packages: duckdb\n",
            "  Attempting uninstall: duckdb\n",
            "    Found existing installation: duckdb 0.10.1\n",
            "    Uninstalling duckdb-0.10.1:\n",
            "      Successfully uninstalled duckdb-0.10.1\n",
            "Successfully installed duckdb-0.10.2\n"
          ]
        }
      ],
      "source": [
        "!pip install --upgrade duckdb pandas"
      ]
    },
    {
      "cell_type": "code",
      "source": [
        "!pip install pyspark"
      ],
      "metadata": {
        "colab": {
          "base_uri": "https://localhost:8080/"
        },
        "id": "nsqu_GewkySR",
        "outputId": "ace3f8ab-b323-4907-ff99-b611dce5157d"
      },
      "execution_count": null,
      "outputs": [
        {
          "output_type": "stream",
          "name": "stdout",
          "text": [
            "Requirement already satisfied: pyspark in /usr/local/lib/python3.10/dist-packages (3.5.1)\n",
            "Requirement already satisfied: py4j==0.10.9.7 in /usr/local/lib/python3.10/dist-packages (from pyspark) (0.10.9.7)\n"
          ]
        }
      ]
    },
    {
      "cell_type": "code",
      "source": [
        "# We should have the same version (0.10.1) of duckdb to load the database without any problem:\n",
        "!pip show duckdb"
      ],
      "metadata": {
        "colab": {
          "base_uri": "https://localhost:8080/"
        },
        "id": "1Vh7oiS_kIWl",
        "outputId": "9e851b83-cfe6-43c9-ce34-9a99fcd3fa5c"
      },
      "execution_count": null,
      "outputs": [
        {
          "output_type": "stream",
          "name": "stdout",
          "text": [
            "Name: duckdb\n",
            "Version: 0.10.2\n",
            "Summary: DuckDB in-process database\n",
            "Home-page: https://www.duckdb.org\n",
            "Author: \n",
            "Author-email: \n",
            "License: MIT\n",
            "Location: /usr/local/lib/python3.10/dist-packages\n",
            "Requires: \n",
            "Required-by: malloy\n"
          ]
        }
      ]
    },
    {
      "cell_type": "code",
      "source": [
        "!pip install -U duckdb==0.10.1"
      ],
      "metadata": {
        "id": "Rw4S0LWG3-aJ",
        "colab": {
          "base_uri": "https://localhost:8080/"
        },
        "outputId": "2abe2d1f-5c88-40d7-9db7-b6b77e45d68c"
      },
      "execution_count": null,
      "outputs": [
        {
          "output_type": "stream",
          "name": "stdout",
          "text": [
            "Collecting duckdb==0.10.1\n",
            "  Using cached duckdb-0.10.1-cp310-cp310-manylinux_2_17_x86_64.manylinux2014_x86_64.whl (18.1 MB)\n",
            "Installing collected packages: duckdb\n",
            "  Attempting uninstall: duckdb\n",
            "    Found existing installation: duckdb 0.10.2\n",
            "    Uninstalling duckdb-0.10.2:\n",
            "      Successfully uninstalled duckdb-0.10.2\n",
            "Successfully installed duckdb-0.10.1\n"
          ]
        }
      ]
    },
    {
      "cell_type": "code",
      "source": [
        "!wget -O \"duckdb.jar\" \"https://repo1.maven.org/maven2/org/duckdb/duckdb_jdbc/0.10.1/duckdb_jdbc-0.10.1.jar\""
      ],
      "metadata": {
        "colab": {
          "base_uri": "https://localhost:8080/"
        },
        "id": "XsCBwBA2kCPd",
        "outputId": "f8ce8873-58b3-4a28-d6a7-3b82d9384bf1"
      },
      "execution_count": null,
      "outputs": [
        {
          "output_type": "stream",
          "name": "stdout",
          "text": [
            "--2024-04-24 11:13:41--  https://repo1.maven.org/maven2/org/duckdb/duckdb_jdbc/0.10.1/duckdb_jdbc-0.10.1.jar\n",
            "Resolving repo1.maven.org (repo1.maven.org)... 199.232.192.209, 199.232.196.209, 2a04:4e42:4c::209, ...\n",
            "Connecting to repo1.maven.org (repo1.maven.org)|199.232.192.209|:443... connected.\n",
            "HTTP request sent, awaiting response... 200 OK\n",
            "Length: 64009472 (61M) [application/java-archive]\n",
            "Saving to: ‘duckdb.jar’\n",
            "\n",
            "duckdb.jar          100%[===================>]  61.04M   153MB/s    in 0.4s    \n",
            "\n",
            "2024-04-24 11:13:41 (153 MB/s) - ‘duckdb.jar’ saved [64009472/64009472]\n",
            "\n"
          ]
        }
      ]
    },
    {
      "cell_type": "code",
      "source": [
        "import duckdb\n",
        "\n",
        "# Conectar a la base de datos DuckDB\n",
        "conn = duckdb.connect(database='database.duckdb', read_only=True)\n",
        "\n",
        "# Ejecutar una consulta para obtener la estructura de la tabla 'flights'\n",
        "query = \"PRAGMA table_info('flights')\"\n",
        "table_info = conn.execute(query).fetchall()\n",
        "\n",
        "# Imprimir información de cada columna\n",
        "for column in table_info:\n",
        "    print(f\"Column Name: {column[1]}, Data Type: {column[2]}\")\n",
        "\n",
        "# Cerrar la conexión\n",
        "conn.close()\n"
      ],
      "metadata": {
        "colab": {
          "base_uri": "https://localhost:8080/"
        },
        "id": "qxEap4yho0YT",
        "outputId": "d30e54b1-0ee8-4a0b-ace5-f228258ca7ab"
      },
      "execution_count": 16,
      "outputs": [
        {
          "output_type": "stream",
          "name": "stdout",
          "text": [
            "Column Name: airport_acronym, Data Type: VARCHAR\n",
            "Column Name: longitude, Data Type: DOUBLE\n",
            "Column Name: latitude, Data Type: DOUBLE\n",
            "Column Name: city, Data Type: VARCHAR\n",
            "Column Name: flight_number_default, Data Type: VARCHAR\n",
            "Column Name: estimated_arrival_time, Data Type: VARCHAR\n",
            "Column Name: estimated_departure_time, Data Type: VARCHAR\n",
            "Column Name: real_arrival_time, Data Type: VARCHAR\n",
            "Column Name: real_departure_time, Data Type: VARCHAR\n",
            "Column Name: scheduled_arrival_time, Data Type: VARCHAR\n",
            "Column Name: scheduled_departure_time, Data Type: VARCHAR\n",
            "Column Name: owner_name, Data Type: VARCHAR\n",
            "Column Name: owner_logo, Data Type: VARCHAR\n",
            "Column Name: destination_gate, Data Type: VARCHAR\n",
            "Column Name: destination_terminal, Data Type: VARCHAR\n",
            "Column Name: destination_baggage, Data Type: VARCHAR\n",
            "Column Name: origin_airport, Data Type: VARCHAR\n",
            "Column Name: origin_city, Data Type: VARCHAR\n",
            "Column Name: origin_latitude, Data Type: VARCHAR\n",
            "Column Name: origin_longitude, Data Type: VARCHAR\n",
            "Column Name: origin_gate, Data Type: VARCHAR\n",
            "Column Name: origin_terminal, Data Type: VARCHAR\n",
            "Column Name: flight_status_live, Data Type: VARCHAR\n"
          ]
        }
      ]
    },
    {
      "cell_type": "code",
      "source": [
        "from pyspark.sql import SparkSession\n",
        "\n",
        "spark = SparkSession.builder\\\n",
        "    .config(\"spark.jars\", \"duckdb.jar\") \\\n",
        "    .getOrCreate()\n",
        "\n",
        "DF = spark.read \\\n",
        "  .format(\"jdbc\") \\\n",
        "  .option(\"url\", \"jdbc:duckdb:database.duckdb\") \\\n",
        "  .option(\"driver\", \"org.duckdb.DuckDBDriver\") \\\n",
        "  .option(\"query\", \"SELECT * FROM flights\") \\\n",
        "  .load()\n",
        "\n",
        "DF.show()"
      ],
      "metadata": {
        "colab": {
          "base_uri": "https://localhost:8080/"
        },
        "id": "YKZTwC0okFVI",
        "outputId": "bad9469d-0c4d-48e6-83a0-bceed1e24ce0"
      },
      "execution_count": 17,
      "outputs": [
        {
          "output_type": "stream",
          "name": "stdout",
          "text": [
            "+---------------+---------+---------+---------+---------------------+----------------------+------------------------+-----------------+-------------------+----------------------+------------------------+--------------------+--------------------+----------------+--------------------+-------------------+--------------+-----------+---------------+----------------+-----------+---------------+------------------+\n",
            "|airport_acronym|longitude| latitude|     city|flight_number_default|estimated_arrival_time|estimated_departure_time|real_arrival_time|real_departure_time|scheduled_arrival_time|scheduled_departure_time|          owner_name|          owner_logo|destination_gate|destination_terminal|destination_baggage|origin_airport|origin_city|origin_latitude|origin_longitude|origin_gate|origin_terminal|flight_status_live|\n",
            "+---------------+---------+---------+---------+---------------------+----------------------+------------------------+-----------------+-------------------+----------------------+------------------------+--------------------+--------------------+----------------+--------------------+-------------------+--------------+-----------+---------------+----------------+-----------+---------------+------------------+\n",
            "|           EHAM| 4.763889|52.308609|Amsterdam|                OS373|                  NULL|                    NULL|       1711034744|         1711029233|            1711035900|              1711029000|   Austrian Airlines|https://images.fl...|            NULL|                   1|               NULL|           VIE|     Vienna|      48.110271|       16.569719|        F26|              3|             false|\n",
            "|           EHAM| 4.763889|52.308609|Amsterdam|               KL1920|            1711036170|                    NULL|             NULL|         1711031577|            1711035900|              1711028700|      KLM Cityhopper|https://images.fl...|             A04|                   2|                010|           GDN|     Gdansk|      54.376484|        18.47064|         16|           NULL|              true|\n",
            "|           EHAM| 4.763889|52.308609|Amsterdam|               LH2306|            1711038464|                    NULL|             NULL|         1711035404|            1711036200|              1711030500|  Lufthansa CityLine|                NULL|            NULL|                   1|               NULL|           MUC|     Munich|      48.353779|        11.78608|        G11|              2|              true|\n",
            "|           EHAM| 4.763889|52.308609|Amsterdam|               SK1549|            1711037440|                    NULL|             NULL|         1711033861|            1711036200|              1711031100|            SAS Link|https://images.fl...|            NULL|                   1|               NULL|           CPH| Copenhagen|      55.616959|       12.645637|        B15|              3|              true|\n",
            "|           EHAM| 4.763889|52.308609|Amsterdam|                 NULL|                  NULL|              1711035600|             NULL|               NULL|            1711036320|              1711035000|                NULL|                NULL|            NULL|                NULL|               NULL|           GLZ|      Breda|      51.567402|         4.93183|       NULL|           NULL|             false|\n",
            "|           EHAM| 4.763889|52.308609|Amsterdam|               HV5582|            1711036680|                    NULL|             NULL|         1711030530|            1711036500|              1711029000|           Transavia|                NULL|            NULL|                   1|               NULL|           NCE|       Nice|      43.661453|         7.21736|          G|              1|              true|\n",
            "|           EHAM| 4.763889|52.308609|Amsterdam|               TK1953|            1711035810|                    NULL|             NULL|         1711024812|            1711036500|              1711023300|    Turkish Airlines|https://images.fl...|            NULL|                   3|               NULL|           IST|   Istanbul|      41.267052|       28.729757|        A1H|           NULL|              true|\n",
            "|           EHAM| 4.763889|52.308609|Amsterdam|                TP672|            1711037060|                    NULL|             NULL|         1711027289|            1711036800|              1711026000|    TAP Air Portugal|https://images.fl...|            NULL|                   1|               NULL|           LIS|     Lisbon|      38.781311|        -9.13591|       NULL|              1|              true|\n",
            "|           EHAM| 4.763889|52.308609|Amsterdam|                AZ110|            1711036280|                    NULL|             NULL|         1711029076|            1711037700|              1711028400|         ITA Airways|https://images.fl...|            NULL|                   1|               NULL|           FCO|       Rome|       41.80447|        12.25079|       NULL|              1|              true|\n",
            "|           EHAM| 4.763889|52.308609|Amsterdam|               KL1944|            1711038080|                    NULL|             NULL|         1711031954|            1711037700|              1711029900|      KLM Cityhopper|https://images.fl...|             A04|                   2|                009|           ZAG|     Zagreb|      45.742931|       16.068769|        G12|           NULL|              true|\n",
            "|           EHAM| 4.763889|52.308609|Amsterdam|                MU771|            1711036410|                    NULL|             NULL|         1710995703|            1711037700|              1710993900|China Eastern Air...|https://images.fl...|              E9|                   3|                 16|           PVG|   Shanghai|       31.14337|      121.805199|          K|              1|              true|\n",
            "|           EHAM| 4.763889|52.308609|Amsterdam|               U28683|            1711035910|                    NULL|             NULL|         1711033470|            1711037700|              1711032900|             easyJet|https://images.fl...|            NULL|                NULL|               NULL|           LGW|     London|      51.148048|        -0.19027|        107|              N|              true|\n",
            "|           EHAM| 4.763889|52.308609|Amsterdam|                KE925|            1711038080|                    NULL|             NULL|         1710988510|            1711037700|              1710987000|          Korean Air|https://images.fl...|            NULL|                   3|               NULL|           ICN|      Seoul|       37.46907|        126.4505|        255|              2|              true|\n",
            "|           EHAM| 4.763889|52.308609|Amsterdam|                KL898|            1711039104|                    NULL|             NULL|         1710994793|            1711038000|              1710993000|                 KLM|https://images.fl...|              F7|                   2|                 12|           PEK|    Beijing|      40.084152|      116.592735|          8|              2|              true|\n",
            "|           EHAM| 4.763889|52.308609|Amsterdam|               U22519|            1711037056|                    NULL|             NULL|         1711034307|            1711038000|              1711033800|             easyJet|https://images.fl...|            NULL|                NULL|               NULL|           LTN|     London|      51.874722|        -0.36833|         14|           NULL|              true|\n",
            "|           EHAM| 4.763889|52.308609|Amsterdam|               U27842|            1711037184|                    NULL|             NULL|         1711035368|            1711038600|              1711034400|      easyJet Europe|https://images.fl...|            NULL|                NULL|               NULL|           STN|     London|      51.884998|           0.235|       NULL|              1|              true|\n",
            "|           EHAM| 4.763889|52.308609|Amsterdam|                KL862|            1711037570|                    NULL|             NULL|         1710989262|            1711038600|              1710988200|                 KLM|https://images.fl...|              F4|                   3|                 15|           NRT|      Tokyo|      35.764721|      140.386307|         17|              1|              true|\n",
            "|           EHAM| 4.763889|52.308609|Amsterdam|                KL868|            1711037120|                    NULL|             NULL|         1710987855|            1711038600|              1710986700|                 KLM|https://images.fl...|             E17|                   2|                  8|           KIX|      Osaka|      34.427299|      135.244003|         21|              1|              true|\n",
            "|           EHAM| 4.763889|52.308609|Amsterdam|               UX1093|            1711039616|                    NULL|             NULL|         1711031860|            1711038900|              1711029600|          Air Europa|https://images.fl...|            NULL|                   1|               NULL|           MAD|     Madrid|      40.488701|           -3.57|        E72|              3|              true|\n",
            "|           EHAM| 4.763889|52.308609|Amsterdam|               BA8455|            1711037568|                    NULL|             NULL|         1711035092|            1711038900|              1711035000|        BA CityFlyer|                NULL|            NULL|                   1|                 02|           LCY|     London|      51.505268|        0.055278|       NULL|           NULL|              true|\n",
            "+---------------+---------+---------+---------+---------------------+----------------------+------------------------+-----------------+-------------------+----------------------+------------------------+--------------------+--------------------+----------------+--------------------+-------------------+--------------+-----------+---------------+----------------+-----------+---------------+------------------+\n",
            "only showing top 20 rows\n",
            "\n"
          ]
        }
      ]
    },
    {
      "cell_type": "markdown",
      "source": [
        "## Preprocessing"
      ],
      "metadata": {
        "id": "6ZGFAk3QsiaJ"
      }
    },
    {
      "cell_type": "code",
      "source": [
        "from pyspark.sql import functions as F\n",
        "from pyspark.sql.types import DateType"
      ],
      "metadata": {
        "id": "u0ZgHVY5skbF"
      },
      "execution_count": 107,
      "outputs": []
    },
    {
      "cell_type": "markdown",
      "source": [
        "#### Missings"
      ],
      "metadata": {
        "id": "VToQecgPuKLR"
      }
    },
    {
      "cell_type": "code",
      "source": [
        "null_counts = DF.select([F.count(F.when(F.col(c).isNull(), c)).alias(c) for c in DF.columns])\n",
        "null_counts.show()"
      ],
      "metadata": {
        "colab": {
          "base_uri": "https://localhost:8080/"
        },
        "id": "ZjVY8NfFpu0S",
        "outputId": "21d66c55-cb4d-4294-dbb5-7cf6acd07063"
      },
      "execution_count": 19,
      "outputs": [
        {
          "output_type": "stream",
          "name": "stdout",
          "text": [
            "+---------------+---------+--------+----+---------------------+----------------------+------------------------+-----------------+-------------------+----------------------+------------------------+----------+----------+----------------+--------------------+-------------------+--------------+-----------+---------------+----------------+-----------+---------------+------------------+\n",
            "|airport_acronym|longitude|latitude|city|flight_number_default|estimated_arrival_time|estimated_departure_time|real_arrival_time|real_departure_time|scheduled_arrival_time|scheduled_departure_time|owner_name|owner_logo|destination_gate|destination_terminal|destination_baggage|origin_airport|origin_city|origin_latitude|origin_longitude|origin_gate|origin_terminal|flight_status_live|\n",
            "+---------------+---------+--------+----+---------------------+----------------------+------------------------+-----------------+-------------------+----------------------+------------------------+----------+----------+----------------+--------------------+-------------------+--------------+-----------+---------------+----------------+-----------+---------------+------------------+\n",
            "|              0|        0|       0|   0|                  154|                  1299|                     612|             1758|               1270|                     0|                       0|       259|       531|            1528|                 730|               1432|             0|          0|              0|               0|        969|            969|                 0|\n",
            "+---------------+---------+--------+----+---------------------+----------------------+------------------------+-----------------+-------------------+----------------------+------------------------+----------+----------+----------------+--------------------+-------------------+--------------+-----------+---------------+----------------+-----------+---------------+------------------+\n",
            "\n"
          ]
        }
      ]
    },
    {
      "cell_type": "markdown",
      "source": [
        "Hi han massa missings en les columnes de arribada i sortida dels vols. Això es deu a que molts vols encara no han sortit o encara no han aterrat. Per a un anàlis de seguiment dinàmic dels vols, no seria útil aquesta base de dades sino que es faria directament a través de la API. Com no podem fer l'análisi dinàmic, tenim pensat utilitzar només aquells vols que han aterrat així que orientarem el preprocessing de la base de dades enfocada al nostre Data Analysis Pipeline. La idea que tenim per a utilitzar la base de dades de vols és intentar predir si un vol tindrà retard o no. Per això utilitzarem les variables rellevants d'aquesta base de dades. Com hi ha molt poques dades de real_arrival_time, traurem la variable de delay amb la real_departure_time o estimated arrival si la té."
      ],
      "metadata": {
        "id": "YcwBnfVQzpOE"
      }
    },
    {
      "cell_type": "markdown",
      "source": [
        "First of all, if the real arrival time is later than the scheduled one, then it has experienced a delay."
      ],
      "metadata": {
        "id": "uOncUWnbAnJP"
      }
    },
    {
      "cell_type": "code",
      "source": [
        "DF_delay = DF.withColumn('delay_in_seconds',F.lit(None))\n",
        "for ad in ['departure','arrival']:\n",
        "    for re in ['estimated','real']:\n",
        "        DF_Delay = DF_Delay.withColumn(\n",
        "            \"delay_in_seconds\",\n",
        "            F.when(\n",
        "                (F.col(f\"{re}_{ad}_time\").isNotNull()) &\n",
        "                (F.col(f\"scheduled_{ad}_time\").isNotNull()),\n",
        "                (F.col(f\"{re}_{ad}_time\") - F.col(f\"scheduled_{ad}_time\"))\n",
        "            ).otherwise(F.col(\"delay_in_seconds\"))\n",
        "        )\n"
      ],
      "metadata": {
        "id": "zQQ7D1chFUKF"
      },
      "execution_count": 113,
      "outputs": []
    },
    {
      "cell_type": "code",
      "source": [
        "print(f\"There are {DF_Delay.filter(DF_Delay.delay_in_seconds > 0).count()} flights with delay\")"
      ],
      "metadata": {
        "colab": {
          "base_uri": "https://localhost:8080/"
        },
        "id": "S_Py45B0FXX_",
        "outputId": "1ed66713-4e1e-4c59-c3f1-47769388bf8d"
      },
      "execution_count": 114,
      "outputs": [
        {
          "output_type": "stream",
          "name": "stdout",
          "text": [
            "There are 865 flights with delay\n"
          ]
        }
      ]
    },
    {
      "cell_type": "code",
      "source": [
        "DF_Delay = DF_Delay.dropna(subset=\"delay_in_seconds\")"
      ],
      "metadata": {
        "id": "2DktqFIIK4JR"
      },
      "execution_count": 115,
      "outputs": []
    },
    {
      "cell_type": "code",
      "source": [
        "DF_Delay.count()"
      ],
      "metadata": {
        "colab": {
          "base_uri": "https://localhost:8080/"
        },
        "id": "xjtslkRpLMym",
        "outputId": "14313c79-018d-4b7b-aad2-753b18663cd3"
      },
      "execution_count": 116,
      "outputs": [
        {
          "output_type": "execute_result",
          "data": {
            "text/plain": [
              "1680"
            ]
          },
          "metadata": {},
          "execution_count": 116
        }
      ]
    },
    {
      "cell_type": "code",
      "source": [
        "DF_Delay = DF_Delay.withColumn(\n",
        "    \"has_delay\",\n",
        "    F.when(\n",
        "        (F.col(\"delay_in_seconds\").isNotNull()) &\n",
        "        (F.col(\"delay_in_seconds\") > 0),\n",
        "        1\n",
        "    ).otherwise(0)\n",
        ")\n",
        "\n",
        "DF_Delay.show()"
      ],
      "metadata": {
        "colab": {
          "base_uri": "https://localhost:8080/"
        },
        "id": "CDaPRb29F61v",
        "outputId": "1b304468-38fe-47da-ea68-1efbe9130244"
      },
      "execution_count": 117,
      "outputs": [
        {
          "output_type": "stream",
          "name": "stdout",
          "text": [
            "+---------------+---------+---------+---------+---------------------+----------------------+------------------------+-----------------+-------------------+----------------------+------------------------+--------------------+--------------------+----------------+--------------------+-------------------+--------------+-----------+---------------+----------------+-----------+---------------+------------------+----------------+---------+\n",
            "|airport_acronym|longitude| latitude|     city|flight_number_default|estimated_arrival_time|estimated_departure_time|real_arrival_time|real_departure_time|scheduled_arrival_time|scheduled_departure_time|          owner_name|          owner_logo|destination_gate|destination_terminal|destination_baggage|origin_airport|origin_city|origin_latitude|origin_longitude|origin_gate|origin_terminal|flight_status_live|delay_in_seconds|has_delay|\n",
            "+---------------+---------+---------+---------+---------------------+----------------------+------------------------+-----------------+-------------------+----------------------+------------------------+--------------------+--------------------+----------------+--------------------+-------------------+--------------+-----------+---------------+----------------+-----------+---------------+------------------+----------------+---------+\n",
            "|           EHAM| 4.763889|52.308609|Amsterdam|                OS373|                  NULL|                    NULL|       1711034744|         1711029233|            1711035900|              1711029000|   Austrian Airlines|https://images.fl...|            NULL|                   1|               NULL|           VIE|     Vienna|      48.110271|       16.569719|        F26|              3|             false|         -1156.0|        0|\n",
            "|           EHAM| 4.763889|52.308609|Amsterdam|               KL1920|            1711036170|                    NULL|             NULL|         1711031577|            1711035900|              1711028700|      KLM Cityhopper|https://images.fl...|             A04|                   2|                010|           GDN|     Gdansk|      54.376484|        18.47064|         16|           NULL|              true|           270.0|        1|\n",
            "|           EHAM| 4.763889|52.308609|Amsterdam|               LH2306|            1711038464|                    NULL|             NULL|         1711035404|            1711036200|              1711030500|  Lufthansa CityLine|                NULL|            NULL|                   1|               NULL|           MUC|     Munich|      48.353779|        11.78608|        G11|              2|              true|          2264.0|        1|\n",
            "|           EHAM| 4.763889|52.308609|Amsterdam|               SK1549|            1711037440|                    NULL|             NULL|         1711033861|            1711036200|              1711031100|            SAS Link|https://images.fl...|            NULL|                   1|               NULL|           CPH| Copenhagen|      55.616959|       12.645637|        B15|              3|              true|          1240.0|        1|\n",
            "|           EHAM| 4.763889|52.308609|Amsterdam|                 NULL|                  NULL|              1711035600|             NULL|               NULL|            1711036320|              1711035000|                NULL|                NULL|            NULL|                NULL|               NULL|           GLZ|      Breda|      51.567402|         4.93183|       NULL|           NULL|             false|           600.0|        1|\n",
            "|           EHAM| 4.763889|52.308609|Amsterdam|               HV5582|            1711036680|                    NULL|             NULL|         1711030530|            1711036500|              1711029000|           Transavia|                NULL|            NULL|                   1|               NULL|           NCE|       Nice|      43.661453|         7.21736|          G|              1|              true|           180.0|        1|\n",
            "|           EHAM| 4.763889|52.308609|Amsterdam|               TK1953|            1711035810|                    NULL|             NULL|         1711024812|            1711036500|              1711023300|    Turkish Airlines|https://images.fl...|            NULL|                   3|               NULL|           IST|   Istanbul|      41.267052|       28.729757|        A1H|           NULL|              true|          -690.0|        0|\n",
            "|           EHAM| 4.763889|52.308609|Amsterdam|                TP672|            1711037060|                    NULL|             NULL|         1711027289|            1711036800|              1711026000|    TAP Air Portugal|https://images.fl...|            NULL|                   1|               NULL|           LIS|     Lisbon|      38.781311|        -9.13591|       NULL|              1|              true|           260.0|        1|\n",
            "|           EHAM| 4.763889|52.308609|Amsterdam|                AZ110|            1711036280|                    NULL|             NULL|         1711029076|            1711037700|              1711028400|         ITA Airways|https://images.fl...|            NULL|                   1|               NULL|           FCO|       Rome|       41.80447|        12.25079|       NULL|              1|              true|         -1420.0|        0|\n",
            "|           EHAM| 4.763889|52.308609|Amsterdam|               KL1944|            1711038080|                    NULL|             NULL|         1711031954|            1711037700|              1711029900|      KLM Cityhopper|https://images.fl...|             A04|                   2|                009|           ZAG|     Zagreb|      45.742931|       16.068769|        G12|           NULL|              true|           380.0|        1|\n",
            "|           EHAM| 4.763889|52.308609|Amsterdam|                MU771|            1711036410|                    NULL|             NULL|         1710995703|            1711037700|              1710993900|China Eastern Air...|https://images.fl...|              E9|                   3|                 16|           PVG|   Shanghai|       31.14337|      121.805199|          K|              1|              true|         -1290.0|        0|\n",
            "|           EHAM| 4.763889|52.308609|Amsterdam|               U28683|            1711035910|                    NULL|             NULL|         1711033470|            1711037700|              1711032900|             easyJet|https://images.fl...|            NULL|                NULL|               NULL|           LGW|     London|      51.148048|        -0.19027|        107|              N|              true|         -1790.0|        0|\n",
            "|           EHAM| 4.763889|52.308609|Amsterdam|                KE925|            1711038080|                    NULL|             NULL|         1710988510|            1711037700|              1710987000|          Korean Air|https://images.fl...|            NULL|                   3|               NULL|           ICN|      Seoul|       37.46907|        126.4505|        255|              2|              true|           380.0|        1|\n",
            "|           EHAM| 4.763889|52.308609|Amsterdam|                KL898|            1711039104|                    NULL|             NULL|         1710994793|            1711038000|              1710993000|                 KLM|https://images.fl...|              F7|                   2|                 12|           PEK|    Beijing|      40.084152|      116.592735|          8|              2|              true|          1104.0|        1|\n",
            "|           EHAM| 4.763889|52.308609|Amsterdam|               U22519|            1711037056|                    NULL|             NULL|         1711034307|            1711038000|              1711033800|             easyJet|https://images.fl...|            NULL|                NULL|               NULL|           LTN|     London|      51.874722|        -0.36833|         14|           NULL|              true|          -944.0|        0|\n",
            "|           EHAM| 4.763889|52.308609|Amsterdam|               U27842|            1711037184|                    NULL|             NULL|         1711035368|            1711038600|              1711034400|      easyJet Europe|https://images.fl...|            NULL|                NULL|               NULL|           STN|     London|      51.884998|           0.235|       NULL|              1|              true|         -1416.0|        0|\n",
            "|           EHAM| 4.763889|52.308609|Amsterdam|                KL862|            1711037570|                    NULL|             NULL|         1710989262|            1711038600|              1710988200|                 KLM|https://images.fl...|              F4|                   3|                 15|           NRT|      Tokyo|      35.764721|      140.386307|         17|              1|              true|         -1030.0|        0|\n",
            "|           EHAM| 4.763889|52.308609|Amsterdam|                KL868|            1711037120|                    NULL|             NULL|         1710987855|            1711038600|              1710986700|                 KLM|https://images.fl...|             E17|                   2|                  8|           KIX|      Osaka|      34.427299|      135.244003|         21|              1|              true|         -1480.0|        0|\n",
            "|           EHAM| 4.763889|52.308609|Amsterdam|               UX1093|            1711039616|                    NULL|             NULL|         1711031860|            1711038900|              1711029600|          Air Europa|https://images.fl...|            NULL|                   1|               NULL|           MAD|     Madrid|      40.488701|           -3.57|        E72|              3|              true|           716.0|        1|\n",
            "|           EHAM| 4.763889|52.308609|Amsterdam|               BA8455|            1711037568|                    NULL|             NULL|         1711035092|            1711038900|              1711035000|        BA CityFlyer|                NULL|            NULL|                   1|                 02|           LCY|     London|      51.505268|        0.055278|       NULL|           NULL|              true|         -1332.0|        0|\n",
            "+---------------+---------+---------+---------+---------------------+----------------------+------------------------+-----------------+-------------------+----------------------+------------------------+--------------------+--------------------+----------------+--------------------+-------------------+--------------+-----------+---------------+----------------+-----------+---------------+------------------+----------------+---------+\n",
            "only showing top 20 rows\n",
            "\n"
          ]
        }
      ]
    },
    {
      "cell_type": "markdown",
      "source": [
        "Now, we will delete arrival and departure times and keep only the date of the flight to be able to connect to the aribnb database."
      ],
      "metadata": {
        "id": "K89GOqWCO1SL"
      }
    },
    {
      "cell_type": "code",
      "source": [
        "DF_Date = DF_Delay.withColumn(\"arrival_date\", F.from_unixtime(F.col(\"scheduled_arrival_time\"), \"yyyy-MM-dd\").cast(DateType()))"
      ],
      "metadata": {
        "id": "I6xrTtHlDOwj"
      },
      "execution_count": 122,
      "outputs": []
    },
    {
      "cell_type": "markdown",
      "source": [
        "We will keep the departure time because it can impact to the delay. Many times, last flights of the day have delay but it is not usual to have delay in the first flight."
      ],
      "metadata": {
        "id": "tgJ8_HUjS3ml"
      }
    },
    {
      "cell_type": "code",
      "source": [
        "DF_Time = DF_Date.withColumn(\"departure_time\", F.from_unixtime(F.col(\"scheduled_departure_time\"), \"HH:mm:ss\"))"
      ],
      "metadata": {
        "id": "ClzH_2LUTKB5"
      },
      "execution_count": 125,
      "outputs": []
    },
    {
      "cell_type": "markdown",
      "source": [
        "Finally we will delete unuseful columns"
      ],
      "metadata": {
        "id": "9quDbL0wTKpu"
      }
    },
    {
      "cell_type": "code",
      "source": [
        "DF_Time.show()"
      ],
      "metadata": {
        "colab": {
          "base_uri": "https://localhost:8080/"
        },
        "id": "Y-R0K5pqTcq5",
        "outputId": "8d79b378-6ddf-4192-9c2c-7d5d479ec9f7"
      },
      "execution_count": 126,
      "outputs": [
        {
          "output_type": "stream",
          "name": "stdout",
          "text": [
            "+---------------+---------+---------+---------+---------------------+----------------------+------------------------+-----------------+-------------------+----------------------+------------------------+--------------------+--------------------+----------------+--------------------+-------------------+--------------+-----------+---------------+----------------+-----------+---------------+------------------+----------------+---------+------------+--------------+\n",
            "|airport_acronym|longitude| latitude|     city|flight_number_default|estimated_arrival_time|estimated_departure_time|real_arrival_time|real_departure_time|scheduled_arrival_time|scheduled_departure_time|          owner_name|          owner_logo|destination_gate|destination_terminal|destination_baggage|origin_airport|origin_city|origin_latitude|origin_longitude|origin_gate|origin_terminal|flight_status_live|delay_in_seconds|has_delay|arrival_date|departure_time|\n",
            "+---------------+---------+---------+---------+---------------------+----------------------+------------------------+-----------------+-------------------+----------------------+------------------------+--------------------+--------------------+----------------+--------------------+-------------------+--------------+-----------+---------------+----------------+-----------+---------------+------------------+----------------+---------+------------+--------------+\n",
            "|           EHAM| 4.763889|52.308609|Amsterdam|                OS373|                  NULL|                    NULL|       1711034744|         1711029233|            1711035900|              1711029000|   Austrian Airlines|https://images.fl...|            NULL|                   1|               NULL|           VIE|     Vienna|      48.110271|       16.569719|        F26|              3|             false|         -1156.0|        0|  2024-03-21|      13:50:00|\n",
            "|           EHAM| 4.763889|52.308609|Amsterdam|               KL1920|            1711036170|                    NULL|             NULL|         1711031577|            1711035900|              1711028700|      KLM Cityhopper|https://images.fl...|             A04|                   2|                010|           GDN|     Gdansk|      54.376484|        18.47064|         16|           NULL|              true|           270.0|        1|  2024-03-21|      13:45:00|\n",
            "|           EHAM| 4.763889|52.308609|Amsterdam|               LH2306|            1711038464|                    NULL|             NULL|         1711035404|            1711036200|              1711030500|  Lufthansa CityLine|                NULL|            NULL|                   1|               NULL|           MUC|     Munich|      48.353779|        11.78608|        G11|              2|              true|          2264.0|        1|  2024-03-21|      14:15:00|\n",
            "|           EHAM| 4.763889|52.308609|Amsterdam|               SK1549|            1711037440|                    NULL|             NULL|         1711033861|            1711036200|              1711031100|            SAS Link|https://images.fl...|            NULL|                   1|               NULL|           CPH| Copenhagen|      55.616959|       12.645637|        B15|              3|              true|          1240.0|        1|  2024-03-21|      14:25:00|\n",
            "|           EHAM| 4.763889|52.308609|Amsterdam|                 NULL|                  NULL|              1711035600|             NULL|               NULL|            1711036320|              1711035000|                NULL|                NULL|            NULL|                NULL|               NULL|           GLZ|      Breda|      51.567402|         4.93183|       NULL|           NULL|             false|           600.0|        1|  2024-03-21|      15:30:00|\n",
            "|           EHAM| 4.763889|52.308609|Amsterdam|               HV5582|            1711036680|                    NULL|             NULL|         1711030530|            1711036500|              1711029000|           Transavia|                NULL|            NULL|                   1|               NULL|           NCE|       Nice|      43.661453|         7.21736|          G|              1|              true|           180.0|        1|  2024-03-21|      13:50:00|\n",
            "|           EHAM| 4.763889|52.308609|Amsterdam|               TK1953|            1711035810|                    NULL|             NULL|         1711024812|            1711036500|              1711023300|    Turkish Airlines|https://images.fl...|            NULL|                   3|               NULL|           IST|   Istanbul|      41.267052|       28.729757|        A1H|           NULL|              true|          -690.0|        0|  2024-03-21|      12:15:00|\n",
            "|           EHAM| 4.763889|52.308609|Amsterdam|                TP672|            1711037060|                    NULL|             NULL|         1711027289|            1711036800|              1711026000|    TAP Air Portugal|https://images.fl...|            NULL|                   1|               NULL|           LIS|     Lisbon|      38.781311|        -9.13591|       NULL|              1|              true|           260.0|        1|  2024-03-21|      13:00:00|\n",
            "|           EHAM| 4.763889|52.308609|Amsterdam|                AZ110|            1711036280|                    NULL|             NULL|         1711029076|            1711037700|              1711028400|         ITA Airways|https://images.fl...|            NULL|                   1|               NULL|           FCO|       Rome|       41.80447|        12.25079|       NULL|              1|              true|         -1420.0|        0|  2024-03-21|      13:40:00|\n",
            "|           EHAM| 4.763889|52.308609|Amsterdam|               KL1944|            1711038080|                    NULL|             NULL|         1711031954|            1711037700|              1711029900|      KLM Cityhopper|https://images.fl...|             A04|                   2|                009|           ZAG|     Zagreb|      45.742931|       16.068769|        G12|           NULL|              true|           380.0|        1|  2024-03-21|      14:05:00|\n",
            "|           EHAM| 4.763889|52.308609|Amsterdam|                MU771|            1711036410|                    NULL|             NULL|         1710995703|            1711037700|              1710993900|China Eastern Air...|https://images.fl...|              E9|                   3|                 16|           PVG|   Shanghai|       31.14337|      121.805199|          K|              1|              true|         -1290.0|        0|  2024-03-21|      04:05:00|\n",
            "|           EHAM| 4.763889|52.308609|Amsterdam|               U28683|            1711035910|                    NULL|             NULL|         1711033470|            1711037700|              1711032900|             easyJet|https://images.fl...|            NULL|                NULL|               NULL|           LGW|     London|      51.148048|        -0.19027|        107|              N|              true|         -1790.0|        0|  2024-03-21|      14:55:00|\n",
            "|           EHAM| 4.763889|52.308609|Amsterdam|                KE925|            1711038080|                    NULL|             NULL|         1710988510|            1711037700|              1710987000|          Korean Air|https://images.fl...|            NULL|                   3|               NULL|           ICN|      Seoul|       37.46907|        126.4505|        255|              2|              true|           380.0|        1|  2024-03-21|      02:10:00|\n",
            "|           EHAM| 4.763889|52.308609|Amsterdam|                KL898|            1711039104|                    NULL|             NULL|         1710994793|            1711038000|              1710993000|                 KLM|https://images.fl...|              F7|                   2|                 12|           PEK|    Beijing|      40.084152|      116.592735|          8|              2|              true|          1104.0|        1|  2024-03-21|      03:50:00|\n",
            "|           EHAM| 4.763889|52.308609|Amsterdam|               U22519|            1711037056|                    NULL|             NULL|         1711034307|            1711038000|              1711033800|             easyJet|https://images.fl...|            NULL|                NULL|               NULL|           LTN|     London|      51.874722|        -0.36833|         14|           NULL|              true|          -944.0|        0|  2024-03-21|      15:10:00|\n",
            "|           EHAM| 4.763889|52.308609|Amsterdam|               U27842|            1711037184|                    NULL|             NULL|         1711035368|            1711038600|              1711034400|      easyJet Europe|https://images.fl...|            NULL|                NULL|               NULL|           STN|     London|      51.884998|           0.235|       NULL|              1|              true|         -1416.0|        0|  2024-03-21|      15:20:00|\n",
            "|           EHAM| 4.763889|52.308609|Amsterdam|                KL862|            1711037570|                    NULL|             NULL|         1710989262|            1711038600|              1710988200|                 KLM|https://images.fl...|              F4|                   3|                 15|           NRT|      Tokyo|      35.764721|      140.386307|         17|              1|              true|         -1030.0|        0|  2024-03-21|      02:30:00|\n",
            "|           EHAM| 4.763889|52.308609|Amsterdam|                KL868|            1711037120|                    NULL|             NULL|         1710987855|            1711038600|              1710986700|                 KLM|https://images.fl...|             E17|                   2|                  8|           KIX|      Osaka|      34.427299|      135.244003|         21|              1|              true|         -1480.0|        0|  2024-03-21|      02:05:00|\n",
            "|           EHAM| 4.763889|52.308609|Amsterdam|               UX1093|            1711039616|                    NULL|             NULL|         1711031860|            1711038900|              1711029600|          Air Europa|https://images.fl...|            NULL|                   1|               NULL|           MAD|     Madrid|      40.488701|           -3.57|        E72|              3|              true|           716.0|        1|  2024-03-21|      14:00:00|\n",
            "|           EHAM| 4.763889|52.308609|Amsterdam|               BA8455|            1711037568|                    NULL|             NULL|         1711035092|            1711038900|              1711035000|        BA CityFlyer|                NULL|            NULL|                   1|                 02|           LCY|     London|      51.505268|        0.055278|       NULL|           NULL|              true|         -1332.0|        0|  2024-03-21|      15:30:00|\n",
            "+---------------+---------+---------+---------+---------------------+----------------------+------------------------+-----------------+-------------------+----------------------+------------------------+--------------------+--------------------+----------------+--------------------+-------------------+--------------+-----------+---------------+----------------+-----------+---------------+------------------+----------------+---------+------------+--------------+\n",
            "only showing top 20 rows\n",
            "\n"
          ]
        }
      ]
    },
    {
      "cell_type": "code",
      "source": [
        "columns_to_drop = [\n",
        "    'estimated_arrival_time',\n",
        "    'estimated_departure_time',\n",
        "    'real_arrival_time',\n",
        "    'real_departure_time',\n",
        "    'scheduled_arrival_time',\n",
        "    'scheduled_departure_time',\n",
        "    'destination_gate',\n",
        "    'destination_terminal',\n",
        "    'destination_baggage',\n",
        "    'origin_gate',\n",
        "    'origin_terminal',\n",
        "    'flight_status_live',\n",
        "    'delay_in_seconds'\n",
        "]\n",
        "\n",
        "# Make sure to strip any accidental leading or trailing spaces from column names\n",
        "columns_to_drop = [col.strip() for col in columns_to_drop]\n",
        "\n",
        "# Drop the columns\n",
        "DF_cols = DF_Time.drop(*columns_to_drop)"
      ],
      "metadata": {
        "id": "b2bw7JyYc5gS"
      },
      "execution_count": 139,
      "outputs": []
    },
    {
      "cell_type": "markdown",
      "source": [
        "Change NULL to 'Unkown'"
      ],
      "metadata": {
        "id": "KylSPC_rdxe_"
      }
    },
    {
      "cell_type": "code",
      "source": [
        "null_counts = DF_cols.select([F.count(F.when(F.col(c).isNull(), c)).alias(c) for c in DF_cols.columns])\n",
        "null_counts.show()"
      ],
      "metadata": {
        "colab": {
          "base_uri": "https://localhost:8080/"
        },
        "id": "iVj-hG_YeYYS",
        "outputId": "1eaeca7e-4e83-4834-a5c0-73b4ab1c03de"
      },
      "execution_count": 142,
      "outputs": [
        {
          "output_type": "stream",
          "name": "stdout",
          "text": [
            "+---------------+---------+--------+----+---------------------+----------+----------+--------------+-----------+---------------+----------------+---------+------------+--------------+\n",
            "|airport_acronym|longitude|latitude|city|flight_number_default|owner_name|owner_logo|origin_airport|origin_city|origin_latitude|origin_longitude|has_delay|arrival_date|departure_time|\n",
            "+---------------+---------+--------+----+---------------------+----------+----------+--------------+-----------+---------------+----------------+---------+------------+--------------+\n",
            "|              0|        0|       0|   0|                  144|       182|       453|             0|          0|              0|               0|        0|           0|             0|\n",
            "+---------------+---------+--------+----+---------------------+----------+----------+--------------+-----------+---------------+----------------+---------+------------+--------------+\n",
            "\n"
          ]
        }
      ]
    },
    {
      "cell_type": "code",
      "source": [
        "DF_Final = DF_cols.fillna('Unknown')"
      ],
      "metadata": {
        "id": "2HyVnPWyd6lG"
      },
      "execution_count": 140,
      "outputs": []
    },
    {
      "cell_type": "code",
      "source": [
        "DF_Final.show()"
      ],
      "metadata": {
        "colab": {
          "base_uri": "https://localhost:8080/"
        },
        "id": "1RUxuLlqb-lp",
        "outputId": "fa03a3b4-ff1c-48ba-d809-b1f9f93cec87"
      },
      "execution_count": 141,
      "outputs": [
        {
          "output_type": "stream",
          "name": "stdout",
          "text": [
            "+---------------+---------+---------+---------+---------------------+--------------------+--------------------+--------------+-----------+---------------+----------------+---------+------------+--------------+\n",
            "|airport_acronym|longitude| latitude|     city|flight_number_default|          owner_name|          owner_logo|origin_airport|origin_city|origin_latitude|origin_longitude|has_delay|arrival_date|departure_time|\n",
            "+---------------+---------+---------+---------+---------------------+--------------------+--------------------+--------------+-----------+---------------+----------------+---------+------------+--------------+\n",
            "|           EHAM| 4.763889|52.308609|Amsterdam|                OS373|   Austrian Airlines|https://images.fl...|           VIE|     Vienna|      48.110271|       16.569719|        0|  2024-03-21|      13:50:00|\n",
            "|           EHAM| 4.763889|52.308609|Amsterdam|               KL1920|      KLM Cityhopper|https://images.fl...|           GDN|     Gdansk|      54.376484|        18.47064|        1|  2024-03-21|      13:45:00|\n",
            "|           EHAM| 4.763889|52.308609|Amsterdam|               LH2306|  Lufthansa CityLine|             Unknown|           MUC|     Munich|      48.353779|        11.78608|        1|  2024-03-21|      14:15:00|\n",
            "|           EHAM| 4.763889|52.308609|Amsterdam|               SK1549|            SAS Link|https://images.fl...|           CPH| Copenhagen|      55.616959|       12.645637|        1|  2024-03-21|      14:25:00|\n",
            "|           EHAM| 4.763889|52.308609|Amsterdam|              Unknown|             Unknown|             Unknown|           GLZ|      Breda|      51.567402|         4.93183|        1|  2024-03-21|      15:30:00|\n",
            "|           EHAM| 4.763889|52.308609|Amsterdam|               HV5582|           Transavia|             Unknown|           NCE|       Nice|      43.661453|         7.21736|        1|  2024-03-21|      13:50:00|\n",
            "|           EHAM| 4.763889|52.308609|Amsterdam|               TK1953|    Turkish Airlines|https://images.fl...|           IST|   Istanbul|      41.267052|       28.729757|        0|  2024-03-21|      12:15:00|\n",
            "|           EHAM| 4.763889|52.308609|Amsterdam|                TP672|    TAP Air Portugal|https://images.fl...|           LIS|     Lisbon|      38.781311|        -9.13591|        1|  2024-03-21|      13:00:00|\n",
            "|           EHAM| 4.763889|52.308609|Amsterdam|                AZ110|         ITA Airways|https://images.fl...|           FCO|       Rome|       41.80447|        12.25079|        0|  2024-03-21|      13:40:00|\n",
            "|           EHAM| 4.763889|52.308609|Amsterdam|               KL1944|      KLM Cityhopper|https://images.fl...|           ZAG|     Zagreb|      45.742931|       16.068769|        1|  2024-03-21|      14:05:00|\n",
            "|           EHAM| 4.763889|52.308609|Amsterdam|                MU771|China Eastern Air...|https://images.fl...|           PVG|   Shanghai|       31.14337|      121.805199|        0|  2024-03-21|      04:05:00|\n",
            "|           EHAM| 4.763889|52.308609|Amsterdam|               U28683|             easyJet|https://images.fl...|           LGW|     London|      51.148048|        -0.19027|        0|  2024-03-21|      14:55:00|\n",
            "|           EHAM| 4.763889|52.308609|Amsterdam|                KE925|          Korean Air|https://images.fl...|           ICN|      Seoul|       37.46907|        126.4505|        1|  2024-03-21|      02:10:00|\n",
            "|           EHAM| 4.763889|52.308609|Amsterdam|                KL898|                 KLM|https://images.fl...|           PEK|    Beijing|      40.084152|      116.592735|        1|  2024-03-21|      03:50:00|\n",
            "|           EHAM| 4.763889|52.308609|Amsterdam|               U22519|             easyJet|https://images.fl...|           LTN|     London|      51.874722|        -0.36833|        0|  2024-03-21|      15:10:00|\n",
            "|           EHAM| 4.763889|52.308609|Amsterdam|               U27842|      easyJet Europe|https://images.fl...|           STN|     London|      51.884998|           0.235|        0|  2024-03-21|      15:20:00|\n",
            "|           EHAM| 4.763889|52.308609|Amsterdam|                KL862|                 KLM|https://images.fl...|           NRT|      Tokyo|      35.764721|      140.386307|        0|  2024-03-21|      02:30:00|\n",
            "|           EHAM| 4.763889|52.308609|Amsterdam|                KL868|                 KLM|https://images.fl...|           KIX|      Osaka|      34.427299|      135.244003|        0|  2024-03-21|      02:05:00|\n",
            "|           EHAM| 4.763889|52.308609|Amsterdam|               UX1093|          Air Europa|https://images.fl...|           MAD|     Madrid|      40.488701|           -3.57|        1|  2024-03-21|      14:00:00|\n",
            "|           EHAM| 4.763889|52.308609|Amsterdam|               BA8455|        BA CityFlyer|             Unknown|           LCY|     London|      51.505268|        0.055278|        0|  2024-03-21|      15:30:00|\n",
            "+---------------+---------+---------+---------+---------------------+--------------------+--------------------+--------------+-----------+---------------+----------------+---------+------------+--------------+\n",
            "only showing top 20 rows\n",
            "\n"
          ]
        }
      ]
    },
    {
      "cell_type": "code",
      "source": [
        "conn = duckdb.connect(\"quality_database.duckdb\")\n",
        "conn.close()\n",
        "\n",
        "DF_Final.write \\\n",
        "    .format(\"jdbc\") \\\n",
        "    .option(\"url\", \"jdbc:duckdb:quality_database.duckdb\") \\\n",
        "    .option(\"dbtable\", \"flights\") \\\n",
        "    .option(\"driver\", \"org.duckdb.DuckDBDriver\") \\\n",
        "    .save()"
      ],
      "metadata": {
        "id": "TLFQ03KpfLnj"
      },
      "execution_count": 143,
      "outputs": []
    }
  ]
}