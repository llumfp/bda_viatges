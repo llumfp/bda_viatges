{
  "nbformat": 4,
  "nbformat_minor": 0,
  "metadata": {
    "colab": {
      "provenance": []
    },
    "kernelspec": {
      "name": "python3",
      "display_name": "Python 3"
    },
    "language_info": {
      "name": "python"
    },
    "widgets": {
      "application/vnd.jupyter.widget-state+json": {
        "4d66ca93a4b54507a922a286eb5c11d0": {
          "model_module": "@jupyter-widgets/controls",
          "model_name": "FloatProgressModel",
          "model_module_version": "1.5.0",
          "state": {
            "_dom_classes": [],
            "_model_module": "@jupyter-widgets/controls",
            "_model_module_version": "1.5.0",
            "_model_name": "FloatProgressModel",
            "_view_count": null,
            "_view_module": "@jupyter-widgets/controls",
            "_view_module_version": "1.5.0",
            "_view_name": "ProgressView",
            "bar_style": "",
            "description": "",
            "description_tooltip": null,
            "layout": "IPY_MODEL_428e06a5d9cb440391ad7b3db2e0e2d4",
            "max": 100,
            "min": 0,
            "orientation": "horizontal",
            "style": "IPY_MODEL_fe5638b4eebc4a9bb516628f5418b428",
            "value": 100
          }
        },
        "428e06a5d9cb440391ad7b3db2e0e2d4": {
          "model_module": "@jupyter-widgets/base",
          "model_name": "LayoutModel",
          "model_module_version": "1.2.0",
          "state": {
            "_model_module": "@jupyter-widgets/base",
            "_model_module_version": "1.2.0",
            "_model_name": "LayoutModel",
            "_view_count": null,
            "_view_module": "@jupyter-widgets/base",
            "_view_module_version": "1.2.0",
            "_view_name": "LayoutView",
            "align_content": null,
            "align_items": null,
            "align_self": null,
            "border": null,
            "bottom": null,
            "display": null,
            "flex": null,
            "flex_flow": null,
            "grid_area": null,
            "grid_auto_columns": null,
            "grid_auto_flow": null,
            "grid_auto_rows": null,
            "grid_column": null,
            "grid_gap": null,
            "grid_row": null,
            "grid_template_areas": null,
            "grid_template_columns": null,
            "grid_template_rows": null,
            "height": null,
            "justify_content": null,
            "justify_items": null,
            "left": null,
            "margin": null,
            "max_height": null,
            "max_width": null,
            "min_height": null,
            "min_width": null,
            "object_fit": null,
            "object_position": null,
            "order": null,
            "overflow": null,
            "overflow_x": null,
            "overflow_y": null,
            "padding": null,
            "right": null,
            "top": null,
            "visibility": null,
            "width": "auto"
          }
        },
        "fe5638b4eebc4a9bb516628f5418b428": {
          "model_module": "@jupyter-widgets/controls",
          "model_name": "ProgressStyleModel",
          "model_module_version": "1.5.0",
          "state": {
            "_model_module": "@jupyter-widgets/controls",
            "_model_module_version": "1.5.0",
            "_model_name": "ProgressStyleModel",
            "_view_count": null,
            "_view_module": "@jupyter-widgets/base",
            "_view_module_version": "1.2.0",
            "_view_name": "StyleView",
            "bar_color": "black",
            "description_width": ""
          }
        }
      }
    }
  },
  "cells": [
    {
      "cell_type": "code",
      "source": [
        "!pip install --upgrade pyspark pandas numpy pyarrow duckdb"
      ],
      "metadata": {
        "colab": {
          "base_uri": "https://localhost:8080/"
        },
        "id": "qTIUJEpBxfV8",
        "outputId": "355f1df6-4c3f-4c92-df9c-cf9dc49a106c"
      },
      "execution_count": 1,
      "outputs": [
        {
          "output_type": "stream",
          "name": "stdout",
          "text": [
            "Collecting pyspark\n",
            "  Downloading pyspark-3.5.1.tar.gz (317.0 MB)\n",
            "\u001b[2K     \u001b[90m━━━━━━━━━━━━━━━━━━━━━━━━━━━━━━━━━━━━━━━━\u001b[0m \u001b[32m317.0/317.0 MB\u001b[0m \u001b[31m3.5 MB/s\u001b[0m eta \u001b[36m0:00:00\u001b[0m\n",
            "\u001b[?25h  Preparing metadata (setup.py) ... \u001b[?25l\u001b[?25hdone\n",
            "Requirement already satisfied: pandas in /usr/local/lib/python3.10/dist-packages (2.0.3)\n",
            "Collecting pandas\n",
            "  Downloading pandas-2.2.2-cp310-cp310-manylinux_2_17_x86_64.manylinux2014_x86_64.whl (13.0 MB)\n",
            "\u001b[2K     \u001b[90m━━━━━━━━━━━━━━━━━━━━━━━━━━━━━━━━━━━━━━━━\u001b[0m \u001b[32m13.0/13.0 MB\u001b[0m \u001b[31m62.0 MB/s\u001b[0m eta \u001b[36m0:00:00\u001b[0m\n",
            "\u001b[?25hRequirement already satisfied: numpy in /usr/local/lib/python3.10/dist-packages (1.25.2)\n",
            "Collecting numpy\n",
            "  Downloading numpy-1.26.4-cp310-cp310-manylinux_2_17_x86_64.manylinux2014_x86_64.whl (18.2 MB)\n",
            "\u001b[2K     \u001b[90m━━━━━━━━━━━━━━━━━━━━━━━━━━━━━━━━━━━━━━━━\u001b[0m \u001b[32m18.2/18.2 MB\u001b[0m \u001b[31m20.5 MB/s\u001b[0m eta \u001b[36m0:00:00\u001b[0m\n",
            "\u001b[?25hRequirement already satisfied: pyarrow in /usr/local/lib/python3.10/dist-packages (14.0.2)\n",
            "Collecting pyarrow\n",
            "  Downloading pyarrow-16.0.0-cp310-cp310-manylinux_2_28_x86_64.whl (40.8 MB)\n",
            "\u001b[2K     \u001b[90m━━━━━━━━━━━━━━━━━━━━━━━━━━━━━━━━━━━━━━━━\u001b[0m \u001b[32m40.8/40.8 MB\u001b[0m \u001b[31m9.7 MB/s\u001b[0m eta \u001b[36m0:00:00\u001b[0m\n",
            "\u001b[?25hRequirement already satisfied: duckdb in /usr/local/lib/python3.10/dist-packages (0.10.2)\n",
            "Requirement already satisfied: py4j==0.10.9.7 in /usr/local/lib/python3.10/dist-packages (from pyspark) (0.10.9.7)\n",
            "Requirement already satisfied: python-dateutil>=2.8.2 in /usr/local/lib/python3.10/dist-packages (from pandas) (2.8.2)\n",
            "Requirement already satisfied: pytz>=2020.1 in /usr/local/lib/python3.10/dist-packages (from pandas) (2023.4)\n",
            "Requirement already satisfied: tzdata>=2022.7 in /usr/local/lib/python3.10/dist-packages (from pandas) (2024.1)\n",
            "Requirement already satisfied: six>=1.5 in /usr/local/lib/python3.10/dist-packages (from python-dateutil>=2.8.2->pandas) (1.16.0)\n",
            "Building wheels for collected packages: pyspark\n",
            "  Building wheel for pyspark (setup.py) ... \u001b[?25l\u001b[?25hdone\n",
            "  Created wheel for pyspark: filename=pyspark-3.5.1-py2.py3-none-any.whl size=317488491 sha256=eaff50ce8152171ab6a09a4802e932c12e985ffa52ec8c06e1a049f472032401\n",
            "  Stored in directory: /root/.cache/pip/wheels/80/1d/60/2c256ed38dddce2fdd93be545214a63e02fbd8d74fb0b7f3a6\n",
            "Successfully built pyspark\n",
            "Installing collected packages: pyspark, numpy, pyarrow, pandas\n",
            "  Attempting uninstall: numpy\n",
            "    Found existing installation: numpy 1.25.2\n",
            "    Uninstalling numpy-1.25.2:\n",
            "      Successfully uninstalled numpy-1.25.2\n",
            "  Attempting uninstall: pyarrow\n",
            "    Found existing installation: pyarrow 14.0.2\n",
            "    Uninstalling pyarrow-14.0.2:\n",
            "      Successfully uninstalled pyarrow-14.0.2\n",
            "  Attempting uninstall: pandas\n",
            "    Found existing installation: pandas 2.0.3\n",
            "    Uninstalling pandas-2.0.3:\n",
            "      Successfully uninstalled pandas-2.0.3\n",
            "\u001b[31mERROR: pip's dependency resolver does not currently take into account all the packages that are installed. This behaviour is the source of the following dependency conflicts.\n",
            "google-colab 1.0.0 requires pandas==2.0.3, but you have pandas 2.2.2 which is incompatible.\n",
            "ibis-framework 8.0.0 requires pyarrow<16,>=2, but you have pyarrow 16.0.0 which is incompatible.\u001b[0m\u001b[31m\n",
            "\u001b[0mSuccessfully installed numpy-1.26.4 pandas-2.2.2 pyarrow-16.0.0 pyspark-3.5.1\n"
          ]
        }
      ]
    },
    {
      "cell_type": "code",
      "source": [
        "import os\n",
        "from pyspark.sql import SparkSession\n",
        "import duckdb"
      ],
      "metadata": {
        "id": "ZcRU5lRdqo9e"
      },
      "execution_count": 2,
      "outputs": []
    },
    {
      "cell_type": "markdown",
      "source": [
        "We'll upload the 3 data sources to a single database in 3 different tables to create a formated zone."
      ],
      "metadata": {
        "id": "uKFAm94cvTI7"
      }
    },
    {
      "cell_type": "code",
      "source": [
        "spark = SparkSession.builder.master(\"local[*]\").appName(\"ParquetToDuckDB\").getOrCreate()"
      ],
      "metadata": {
        "id": "tit3JX2oq4v3"
      },
      "execution_count": 3,
      "outputs": []
    },
    {
      "cell_type": "code",
      "source": [
        "for source in [\"flights\",\"airbnb\",\"weather\"]:\n",
        "    df = spark.read.parquet(f\"{source}_data.parquet\")\n",
        "    pandas_df = df.toPandas()\n",
        "\n",
        "    con = duckdb.connect(database='/database.duckdb')\n",
        "\n",
        "    con.register(f\"{source}_view\", pandas_df)\n",
        "\n",
        "    con.execute(f\"CREATE TABLE IF NOT EXISTS {source} AS SELECT * FROM {source}_view\")\n",
        "\n",
        "    result = con.execute(f\"SELECT * FROM {source} LIMIT 10\").fetchall()\n",
        "    print(result)"
      ],
      "metadata": {
        "colab": {
          "base_uri": "https://localhost:8080/",
          "height": 121,
          "referenced_widgets": [
            "4d66ca93a4b54507a922a286eb5c11d0",
            "428e06a5d9cb440391ad7b3db2e0e2d4",
            "fe5638b4eebc4a9bb516628f5418b428"
          ]
        },
        "id": "SlJs8c-Qq61y",
        "outputId": "95944811-63c6-4348-915e-4b7eaf1e7250"
      },
      "execution_count": 4,
      "outputs": [
        {
          "output_type": "stream",
          "name": "stdout",
          "text": [
            "[('EHAM', 4.763889, 52.308609, 'Amsterdam', 'OS373', None, None, '1711034744', '1711029233', '1711035900', '1711029000', 'Austrian Airlines', 'https://images.flightradar24.com/assets/airlines/logotypes/50.png', None, '1', None, 'VIE', 'Vienna', '48.110271', '16.569719', 'F26', '3', 'false'), ('EHAM', 4.763889, 52.308609, 'Amsterdam', 'KL1920', '1711036170', None, None, '1711031577', '1711035900', '1711028700', 'KLM Cityhopper', 'https://images.flightradar24.com/assets/airlines/logotypes/541.png', 'A04', '2', '010', 'GDN', 'Gdansk', '54.376484', '18.47064', '16', None, 'true'), ('EHAM', 4.763889, 52.308609, 'Amsterdam', 'LH2306', '1711038464', None, None, '1711035404', '1711036200', '1711030500', 'Lufthansa CityLine', None, None, '1', None, 'MUC', 'Munich', '48.353779', '11.78608', 'G11', '2', 'true'), ('EHAM', 4.763889, 52.308609, 'Amsterdam', 'SK1549', '1711037440', None, None, '1711033861', '1711036200', '1711031100', 'SAS Link', 'https://images.flightradar24.com/assets/airlines/logotypes/186.png', None, '1', None, 'CPH', 'Copenhagen', '55.616959', '12.645637', 'B15', '3', 'true'), ('EHAM', 4.763889, 52.308609, 'Amsterdam', None, None, '1711035600', None, None, '1711036320', '1711035000', None, None, None, None, None, 'GLZ', 'Breda', '51.567402', '4.93183', None, None, 'false'), ('EHAM', 4.763889, 52.308609, 'Amsterdam', 'HV5582', '1711036680', None, None, '1711030530', '1711036500', '1711029000', 'Transavia', None, None, '1', None, 'NCE', 'Nice', '43.661453', '7.21736', 'G', '1', 'true'), ('EHAM', 4.763889, 52.308609, 'Amsterdam', 'TK1953', '1711035810', None, None, '1711024812', '1711036500', '1711023300', 'Turkish Airlines', 'https://images.flightradar24.com/assets/airlines/logotypes/39.png', None, '3', None, 'IST', 'Istanbul', '41.267052', '28.729757', 'A1H', None, 'true'), ('EHAM', 4.763889, 52.308609, 'Amsterdam', 'TP672', '1711037060', None, None, '1711027289', '1711036800', '1711026000', 'TAP Air Portugal', 'https://images.flightradar24.com/assets/airlines/logotypes/115.png', None, '1', None, 'LIS', 'Lisbon', '38.781311', '-9.13591', None, '1', 'true'), ('EHAM', 4.763889, 52.308609, 'Amsterdam', 'AZ110', '1711036280', None, None, '1711029076', '1711037700', '1711028400', 'ITA Airways', 'https://images.flightradar24.com/assets/airlines/logotypes/10.png', None, '1', None, 'FCO', 'Rome', '41.80447', '12.25079', None, '1', 'true'), ('EHAM', 4.763889, 52.308609, 'Amsterdam', 'KL1944', '1711038080', None, None, '1711031954', '1711037700', '1711029900', 'KLM Cityhopper', 'https://images.flightradar24.com/assets/airlines/logotypes/541.png', 'A04', '2', '009', 'ZAG', 'Zagreb', '45.742931', '16.068769', 'G12', None, 'true')]\n",
            "[(194.03369812293488, 'Private room', False, True, 2.0, False, 1, 0, 10.0, 93.0, 1, 5.022963798088291, 2.539380002594493, 78.69037927190317, 4.166707868490748, 98.25389587009934, 6.846472824200016, 4.90569, 52.41772, 'Amsterdam', 'Weekdays'), (344.2457760176224, 'Private room', False, True, 4.0, False, 0, 0, 8.0, 85.0, 1, 0.4883892888289836, 0.2394039228349863, 631.1763782503964, 33.421208615275404, 837.2807567422693, 58.34292774344904, 4.90005, 52.37432, 'Amsterdam', 'Weekdays'), (264.1014224451058, 'Private room', False, True, 2.0, False, 0, 1, 9.0, 87.0, 1, 5.748311915159562, 3.651621288793656, 75.27587691428164, 3.9859076998790086, 95.3869549262145, 6.646700254501156, 4.97512, 52.36103, 'Amsterdam', 'Weekdays'), (433.5293979799874, 'Private room', False, True, 4.0, False, 0, 1, 9.0, 90.0, 2, 0.384862012821602, 0.4398760761319157, 493.27253443070873, 26.11910845442667, 875.0330975776227, 60.97356516795285, 4.89417, 52.37663, 'Amsterdam', 'Weekdays'), (485.5529257375859, 'Private room', False, True, 2.0, True, 0, 0, 10.0, 98.0, 1, 0.5447381834292384, 0.3186926468416831, 552.8303243593364, 29.272733004488263, 815.3057399687838, 56.81167695874816, 4.90051, 52.37508, 'Amsterdam', 'Weekdays'), (552.808567478265, 'Private room', False, True, 3.0, False, 0, 0, 8.0, 100.0, 2, 2.13142008057136, 1.904668241410844, 174.7889567505081, 9.255191398952537, 225.20166237399388, 15.69237583664536, 4.87699, 52.38966, 'Amsterdam', 'Weekdays'), (215.12431748412348, 'Private room', False, True, 2.0, False, 0, 0, 10.0, 94.0, 1, 1.8810915643710744, 0.7297467390303181, 200.1676516320246, 10.599010155873913, 242.76552365826512, 16.91625096043449, 4.9157, 52.38296, 'Amsterdam', 'Weekdays'), (2771.3073840601787, 'Entire home/apt', False, False, 4.0, True, 0, 0, 10.0, 100.0, 3, 1.6868069652027278, 1.4584035662283186, 208.80810858545348, 11.056528092733858, 272.31382294091856, 18.975218966216943, 4.88467, 52.38749, 'Amsterdam', 'Weekdays'), (1001.8044196564572, 'Entire home/apt', False, False, 4.0, False, 0, 0, 9.0, 96.0, 2, 3.719141398657261, 1.1961123528716675, 106.22645621714616, 5.624761439165013, 133.87620194208236, 9.328686361865822, 4.86459, 52.40175, 'Amsterdam', 'Weekdays'), (276.52145384669467, 'Private room', False, True, 2.0, False, 1, 0, 10.0, 88.0, 1, 3.142361425629701, 0.9244044386046626, 206.2528615435097, 10.921226064021864, 238.29125778441968, 16.604477677123384, 4.876, 52.347, 'Amsterdam', 'Weekdays')]\n"
          ]
        },
        {
          "output_type": "display_data",
          "data": {
            "text/plain": [
              "FloatProgress(value=0.0, layout=Layout(width='auto'), style=ProgressStyle(bar_color='black'))"
            ],
            "application/vnd.jupyter.widget-view+json": {
              "version_major": 2,
              "version_minor": 0,
              "model_id": "4d66ca93a4b54507a922a286eb5c11d0"
            }
          },
          "metadata": {}
        },
        {
          "output_type": "stream",
          "name": "stdout",
          "text": [
            "[(datetime.datetime(2024, 3, 19, 0, 0), 8.050000190734863, 96.0, 0.0, 0.0, 3.0, 100.0, 91.0, 98.0, 37.0, 52.2930796, 4.8124534, 'Amsterdam'), (datetime.datetime(2024, 3, 19, 1, 0), 8.449999809265137, 94.0, 0.0, 0.0, 3.0, 98.0, 87.0, 91.0, 20.0, 52.2930796, 4.8124534, 'Amsterdam'), (datetime.datetime(2024, 3, 19, 2, 0), 8.649999618530273, 93.0, 0.0, 0.0, 3.0, 100.0, 89.0, 100.0, 52.0, 52.2930796, 4.8124534, 'Amsterdam'), (datetime.datetime(2024, 3, 19, 3, 0), 9.600000381469727, 92.0, 0.0, 0.0, 3.0, 98.0, 93.0, 66.0, 6.0, 52.2930796, 4.8124534, 'Amsterdam'), (datetime.datetime(2024, 3, 19, 4, 0), 9.550000190734863, 92.0, 0.0, 0.0, 3.0, 100.0, 65.0, 7.0, 100.0, 52.2930796, 4.8124534, 'Amsterdam'), (datetime.datetime(2024, 3, 19, 5, 0), 9.600000381469727, 92.0, 0.0, 0.0, 3.0, 100.0, 100.0, 43.0, 100.0, 52.2930796, 4.8124534, 'Amsterdam'), (datetime.datetime(2024, 3, 19, 6, 0), 9.800000190734863, 91.0, 0.0, 0.0, 3.0, 100.0, 85.0, 44.0, 100.0, 52.2930796, 4.8124534, 'Amsterdam'), (datetime.datetime(2024, 3, 19, 7, 0), 10.0, 90.0, 0.0, 0.0, 3.0, 97.0, 92.0, 0.0, 65.0, 52.2930796, 4.8124534, 'Amsterdam'), (datetime.datetime(2024, 3, 19, 8, 0), 10.600000381469727, 87.0, 0.0, 0.0, 3.0, 100.0, 100.0, 0.0, 32.0, 52.2930796, 4.8124534, 'Amsterdam'), (datetime.datetime(2024, 3, 19, 9, 0), 11.649999618530273, 83.0, 0.0, 0.0, 3.0, 100.0, 100.0, 0.0, 100.0, 52.2930796, 4.8124534, 'Amsterdam')]\n"
          ]
        }
      ]
    },
    {
      "cell_type": "code",
      "source": [
        "con = duckdb.connect(database='/database.duckdb')\n",
        "\n",
        "from google.colab import files\n",
        "files.download('/database.duckdb')"
      ],
      "metadata": {
        "colab": {
          "base_uri": "https://localhost:8080/",
          "height": 17
        },
        "id": "VMM_U3leujtH",
        "outputId": "16485f5d-f886-4ef4-8087-3df7d5313e97"
      },
      "execution_count": 5,
      "outputs": [
        {
          "output_type": "display_data",
          "data": {
            "text/plain": [
              "<IPython.core.display.Javascript object>"
            ],
            "application/javascript": [
              "\n",
              "    async function download(id, filename, size) {\n",
              "      if (!google.colab.kernel.accessAllowed) {\n",
              "        return;\n",
              "      }\n",
              "      const div = document.createElement('div');\n",
              "      const label = document.createElement('label');\n",
              "      label.textContent = `Downloading \"${filename}\": `;\n",
              "      div.appendChild(label);\n",
              "      const progress = document.createElement('progress');\n",
              "      progress.max = size;\n",
              "      div.appendChild(progress);\n",
              "      document.body.appendChild(div);\n",
              "\n",
              "      const buffers = [];\n",
              "      let downloaded = 0;\n",
              "\n",
              "      const channel = await google.colab.kernel.comms.open(id);\n",
              "      // Send a message to notify the kernel that we're ready.\n",
              "      channel.send({})\n",
              "\n",
              "      for await (const message of channel.messages) {\n",
              "        // Send a message to notify the kernel that we're ready.\n",
              "        channel.send({})\n",
              "        if (message.buffers) {\n",
              "          for (const buffer of message.buffers) {\n",
              "            buffers.push(buffer);\n",
              "            downloaded += buffer.byteLength;\n",
              "            progress.value = downloaded;\n",
              "          }\n",
              "        }\n",
              "      }\n",
              "      const blob = new Blob(buffers, {type: 'application/binary'});\n",
              "      const a = document.createElement('a');\n",
              "      a.href = window.URL.createObjectURL(blob);\n",
              "      a.download = filename;\n",
              "      div.appendChild(a);\n",
              "      a.click();\n",
              "      div.remove();\n",
              "    }\n",
              "  "
            ]
          },
          "metadata": {}
        },
        {
          "output_type": "display_data",
          "data": {
            "text/plain": [
              "<IPython.core.display.Javascript object>"
            ],
            "application/javascript": [
              "download(\"download_d8a1fddb-ec53-4f77-8b51-ddbfe97a5ef2\", \"database.duckdb\", 32256000)"
            ]
          },
          "metadata": {}
        }
      ]
    }
  ]
}